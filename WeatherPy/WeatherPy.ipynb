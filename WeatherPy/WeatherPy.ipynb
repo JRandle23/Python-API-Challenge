{
 "cells": [
  {
   "cell_type": "markdown",
   "metadata": {},
   "source": [
    "# WeatherPy\n",
    "----\n",
    "\n",
    "#### Note\n",
    "* Instructions have been included for each segment. You do not have to follow them exactly, but they are included to help you think through the steps."
   ]
  },
  {
   "cell_type": "code",
   "execution_count": 33,
   "metadata": {
    "scrolled": true
   },
   "outputs": [],
   "source": [
    "# Dependencies and Setup\n",
    "import matplotlib.pyplot as plt\n",
    "import pandas as pd\n",
    "import numpy as np\n",
    "import requests\n",
    "import time\n",
    "import os \n",
    "import scipy.stats as st\n",
    "\n",
    "from datetime import date\n",
    "from pprint import pprint\n",
    "from scipy.stats import linregress\n",
    "\n",
    "# Import API key\n",
    "from api_keys import weather_api_key\n",
    "\n",
    "# Incorporated citipy to determine city based on latitude and longitude\n",
    "from citipy import citipy\n",
    "\n",
    "# Output File (CSV)\n",
    "output_data_file = \"Output_Data/cities.csv\"\n",
    "\n",
    "# Range of latitudes and longitudes\n",
    "lat_range = (-90, 90)\n",
    "lng_range = (-180, 180)"
   ]
  },
  {
   "cell_type": "markdown",
   "metadata": {},
   "source": [
    "## Generate Cities List"
   ]
  },
  {
   "cell_type": "code",
   "execution_count": 25,
   "metadata": {},
   "outputs": [
    {
     "data": {
      "text/plain": [
       "626"
      ]
     },
     "execution_count": 25,
     "metadata": {},
     "output_type": "execute_result"
    }
   ],
   "source": [
    " # List for holding lat_lngs and cities\n",
    "lat_lngs = []\n",
    "cities = []\n",
    "\n",
    "# Create a set of random lat and lng combinations\n",
    "lats = np.random.uniform(lat_range[0], lat_range[1], size=1500)\n",
    "lngs = np.random.uniform(lng_range[0], lng_range[1], size=1500)\n",
    "lat_lngs = zip(lats, lngs)\n",
    "\n",
    "# Identify nearest city for each lat, lng combination\n",
    "for lat_lng in lat_lngs:\n",
    "    city = citipy.nearest_city(lat_lng[0], lat_lng[1]).city_name\n",
    "    \n",
    "    # If the city is unique, then add it to a our cities list\n",
    "    if city not in cities:\n",
    "        cities.append(city)\n",
    "\n",
    "# Print the city count to confirm sufficient count\n",
    "len(cities)"
   ]
  },
  {
   "cell_type": "markdown",
   "metadata": {},
   "source": [
    "### Perform API Calls\n",
    "* Perform a weather check on each city using a series of successive API calls.\n",
    "* Include a print log of each city as its being processed (with the city number and city name).\n"
   ]
  },
  {
   "cell_type": "code",
   "execution_count": 26,
   "metadata": {
    "scrolled": true
   },
   "outputs": [
    {
     "name": "stdout",
     "output_type": "stream",
     "text": [
      "Beginning Data Retrieval\n",
      "-------------------------------\n",
      "Processing Record 1 of Set 1 | Hobart\n",
      "Processing Record 2 of Set 1 | College Station\n",
      "Processing Record 3 of Set 1 | Kapaa\n",
      "Processing Record 4 of Set 1 | Torbay\n",
      "Processing Record 5 of Set 1 | Vila Franca do Campo\n",
      "Processing Record 6 of Set 1 | Vaitape\n",
      "Processing Record 7 of Set 1 | Takoradze\n",
      "Processing Record 8 of Set 1 | Karratha\n",
      "Processing Record 9 of Set 1 | Saint Paul Harbor\n",
      "Processing Record 10 of Set 1 | Miquelon\n",
      "Processing Record 11 of Set 1 | Hilo\n",
      "Processing Record 12 of Set 1 | Cabra\n",
      "Processing Record 13 of Set 1 | Busselton\n",
      "Processing Record 14 of Set 1 | Baykit\n",
      "Processing Record 15 of Set 1 | Ribeira Grande\n",
      "Processing Record 16 of Set 1 | Punta Arenas\n",
      "Processing Record 17 of Set 1 | Puerto Ayora\n",
      "Processing Record 18 of Set 1 | Chokurdakh\n",
      "Processing Record 19 of Set 1 | Codrington\n",
      "Processing Record 20 of Set 1 | Diphu\n",
      "Processing Record 21 of Set 1 | Kushmurun\n",
      "City not found. Skipping...\n",
      "Processing Record 22 of Set 1 | Grindavik\n",
      "Processing Record 23 of Set 1 | Avarua\n",
      "Processing Record 24 of Set 1 | Ketchikan\n",
      "Processing Record 25 of Set 1 | Yelanskiy\n",
      "Processing Record 26 of Set 1 | Santo Tomas\n",
      "Processing Record 27 of Set 1 | Khatanga\n",
      "Processing Record 28 of Set 1 | Carnarvon\n",
      "Processing Record 29 of Set 1 | Semnan\n",
      "Processing Record 30 of Set 1 | Surovatikha\n",
      "Processing Record 31 of Set 1 | Thompson\n",
      "Processing Record 32 of Set 1 | Ixtapa\n",
      "Processing Record 33 of Set 1 | Flinders\n",
      "Processing Record 34 of Set 1 | Tuktoyaktuk\n",
      "Processing Record 35 of Set 1 | Vágur\n",
      "Processing Record 36 of Set 1 | Iqaluit\n",
      "Processing Record 37 of Set 1 | Arraial do Cabo\n",
      "City not found. Skipping...\n",
      "Processing Record 38 of Set 1 | Bandarbeyla\n",
      "Processing Record 39 of Set 1 | Ambanja\n",
      "Processing Record 40 of Set 1 | Yenagoa\n",
      "Processing Record 41 of Set 1 | Malaba\n",
      "Processing Record 42 of Set 1 | Rikitea\n",
      "Processing Record 43 of Set 1 | Mataura\n",
      "Processing Record 44 of Set 1 | Vaini\n",
      "Processing Record 45 of Set 1 | Hermanus\n",
      "Processing Record 46 of Set 1 | Okhotsk\n",
      "Processing Record 47 of Set 1 | Albany\n",
      "Processing Record 48 of Set 1 | Butaritari\n",
      "Processing Record 49 of Set 1 | East London\n",
      "Processing Record 50 of Set 1 | Port Alfred\n",
      "Processing Record 0 of Set 2 | Hithadhoo\n",
      "Processing Record 1 of Set 2 | San Policarpo\n",
      "Processing Record 2 of Set 2 | Marabu\n",
      "Processing Record 3 of Set 2 | Ostrovnoy\n",
      "Processing Record 4 of Set 2 | Ushuaia\n",
      "Processing Record 5 of Set 2 | Ati\n",
      "Processing Record 6 of Set 2 | Urdoma\n",
      "Processing Record 7 of Set 2 | Altamira\n",
      "Processing Record 8 of Set 2 | Atuona\n",
      "Processing Record 9 of Set 2 | Alexandria\n",
      "Processing Record 10 of Set 2 | Ayr\n",
      "Processing Record 11 of Set 2 | Pasni\n",
      "Processing Record 12 of Set 2 | Bredasdorp\n",
      "City not found. Skipping...\n",
      "Processing Record 13 of Set 2 | Ancud\n",
      "City not found. Skipping...\n",
      "Processing Record 14 of Set 2 | Banyo\n",
      "Processing Record 15 of Set 2 | Omboué\n",
      "Processing Record 16 of Set 2 | Moissac\n",
      "Processing Record 17 of Set 2 | Bluff\n",
      "Processing Record 18 of Set 2 | Porkhov\n",
      "Processing Record 19 of Set 2 | Fort Saint James\n",
      "Processing Record 20 of Set 2 | Yellowknife\n",
      "Processing Record 21 of Set 2 | Vila Velha\n",
      "Processing Record 22 of Set 2 | Yulara\n",
      "Processing Record 23 of Set 2 | Beaverlodge\n",
      "Processing Record 24 of Set 2 | George Town\n",
      "Processing Record 25 of Set 2 | Xiongzhou\n",
      "Processing Record 26 of Set 2 | Point Pedro\n",
      "City not found. Skipping...\n",
      "Processing Record 27 of Set 2 | Meulaboh\n",
      "Processing Record 28 of Set 2 | Dingle\n",
      "Processing Record 29 of Set 2 | Faanui\n",
      "Processing Record 30 of Set 2 | Atar\n",
      "Processing Record 31 of Set 2 | Bāfq\n",
      "Processing Record 32 of Set 2 | San Quintín\n",
      "Processing Record 33 of Set 2 | Katsuura\n",
      "Processing Record 34 of Set 2 | Gouré\n",
      "Processing Record 35 of Set 2 | Ponta do Sol\n",
      "Processing Record 36 of Set 2 | Udachny\n",
      "Processing Record 37 of Set 2 | Valparaíso\n",
      "Processing Record 38 of Set 2 | Nikolskoye\n",
      "City not found. Skipping...\n",
      "Processing Record 39 of Set 2 | Nexø\n",
      "Processing Record 40 of Set 2 | Salalah\n",
      "Processing Record 41 of Set 2 | Pochutla\n",
      "Processing Record 42 of Set 2 | Along\n",
      "Processing Record 43 of Set 2 | Upernavik\n",
      "Processing Record 44 of Set 2 | Saskylakh\n",
      "Processing Record 45 of Set 2 | Souillac\n",
      "Processing Record 46 of Set 2 | New Norfolk\n",
      "Processing Record 47 of Set 2 | Te Anau\n",
      "City not found. Skipping...\n",
      "Processing Record 48 of Set 2 | Horizontina\n",
      "Processing Record 49 of Set 2 | Tasiilaq\n",
      "Processing Record 50 of Set 2 | Kavaratti\n",
      "Processing Record 0 of Set 3 | Qaanaaq\n",
      "Processing Record 1 of Set 3 | La Jutosa\n",
      "City not found. Skipping...\n",
      "Processing Record 2 of Set 3 | Zhicheng\n",
      "Processing Record 3 of Set 3 | Višegrad\n",
      "Processing Record 4 of Set 3 | Comodoro Rivadavia\n",
      "Processing Record 5 of Set 3 | Zhigansk\n",
      "Processing Record 6 of Set 3 | Lebu\n",
      "City not found. Skipping...\n",
      "Processing Record 7 of Set 3 | Charters Towers\n",
      "Processing Record 8 of Set 3 | Diffa\n",
      "Processing Record 9 of Set 3 | Mar del Plata\n",
      "Processing Record 10 of Set 3 | Padang\n",
      "Processing Record 11 of Set 3 | Penzance\n",
      "Processing Record 12 of Set 3 | Fortuna\n",
      "Processing Record 13 of Set 3 | Chunskiy\n",
      "Processing Record 14 of Set 3 | Ust-Nera\n",
      "Processing Record 15 of Set 3 | Boyolangu\n",
      "Processing Record 16 of Set 3 | Walvis Bay\n",
      "City not found. Skipping...\n",
      "Processing Record 17 of Set 3 | Luba\n",
      "Processing Record 18 of Set 3 | Lewistown\n",
      "Processing Record 19 of Set 3 | Khasan\n",
      "Processing Record 20 of Set 3 | Redcliffe\n",
      "Processing Record 21 of Set 3 | Chui\n",
      "Processing Record 22 of Set 3 | Muros\n",
      "Processing Record 23 of Set 3 | Tegul'det\n",
      "Processing Record 24 of Set 3 | Kahului\n",
      "Processing Record 25 of Set 3 | Kruisfontein\n",
      "Processing Record 26 of Set 3 | Boali\n",
      "Processing Record 27 of Set 3 | Dniprovka\n",
      "Processing Record 28 of Set 3 | Ondo\n",
      "Processing Record 29 of Set 3 | Nioro\n",
      "Processing Record 30 of Set 3 | Bonthe\n",
      "Processing Record 31 of Set 3 | Cape Town\n",
      "Processing Record 32 of Set 3 | Det Udom\n",
      "Processing Record 33 of Set 3 | Nantucket\n",
      "Processing Record 34 of Set 3 | Roebourne\n",
      "Processing Record 35 of Set 3 | College\n",
      "Processing Record 36 of Set 3 | Tiksi\n",
      "Processing Record 37 of Set 3 | Balkanabat\n",
      "Processing Record 38 of Set 3 | Mutare\n",
      "Processing Record 39 of Set 3 | Kashgar\n",
      "Processing Record 40 of Set 3 | Bambous Virieux\n",
      "Processing Record 41 of Set 3 | Alofi\n",
      "Processing Record 42 of Set 3 | Katangli\n",
      "Processing Record 43 of Set 3 | Santa Rosa\n",
      "Processing Record 44 of Set 3 | Olafsvik\n",
      "Processing Record 45 of Set 3 | Clyde River\n",
      "City not found. Skipping...\n",
      "Processing Record 46 of Set 3 | Port Elizabeth\n",
      "Processing Record 47 of Set 3 | Witu\n",
      "Processing Record 48 of Set 3 | Itoman\n",
      "City not found. Skipping...\n",
      "Processing Record 49 of Set 3 | Veracruz\n",
      "City not found. Skipping...\n",
      "Processing Record 50 of Set 3 | Chapais\n",
      "Processing Record 0 of Set 4 | Atasū\n",
      "Processing Record 1 of Set 4 | Anagé\n",
      "Processing Record 2 of Set 4 | Ilulissat\n",
      "Processing Record 3 of Set 4 | Jamestown\n",
      "Processing Record 4 of Set 4 | Rocha\n",
      "Processing Record 5 of Set 4 | Baijiantan\n",
      "Processing Record 6 of Set 4 | Kaitangata\n",
      "Processing Record 7 of Set 4 | Sarai Sidhu\n",
      "Processing Record 8 of Set 4 | Ambon City\n",
      "City not found. Skipping...\n",
      "Processing Record 9 of Set 4 | Dikson\n",
      "Processing Record 10 of Set 4 | Quatre Cocos\n",
      "City not found. Skipping...\n",
      "Processing Record 11 of Set 4 | Øksfjord\n",
      "Processing Record 12 of Set 4 | Alekseyevsk\n",
      "Processing Record 13 of Set 4 | Ahipara\n",
      "Processing Record 14 of Set 4 | Bitung\n",
      "Processing Record 15 of Set 4 | Tabou\n",
      "Processing Record 16 of Set 4 | Markova\n",
      "Processing Record 17 of Set 4 | Bengkulu\n",
      "City not found. Skipping...\n",
      "Processing Record 18 of Set 4 | Datong\n",
      "Processing Record 19 of Set 4 | Pangkalanbuun\n",
      "City not found. Skipping...\n",
      "Processing Record 20 of Set 4 | Sakakah\n",
      "Processing Record 21 of Set 4 | Cayenne\n",
      "Processing Record 22 of Set 4 | Chicama\n",
      "Processing Record 23 of Set 4 | Pitimbu\n",
      "Processing Record 24 of Set 4 | Bathsheba\n",
      "City not found. Skipping...\n",
      "Processing Record 25 of Set 4 | Lavrentiya\n",
      "Processing Record 26 of Set 4 | Taoudenni\n",
      "Processing Record 27 of Set 4 | Malanje\n",
      "Processing Record 28 of Set 4 | Ørnes\n",
      "Processing Record 29 of Set 4 | Hasaki\n",
      "Processing Record 30 of Set 4 | Christchurch\n",
      "Processing Record 31 of Set 4 | Camaná\n",
      "Processing Record 32 of Set 4 | Barrow\n",
      "Processing Record 33 of Set 4 | Hong Kong\n",
      "Processing Record 34 of Set 4 | Sittwe\n"
     ]
    },
    {
     "name": "stdout",
     "output_type": "stream",
     "text": [
      "Processing Record 35 of Set 4 | Victor Harbor\n",
      "Processing Record 36 of Set 4 | Santa Cruz de la Sierra\n",
      "Processing Record 37 of Set 4 | Waddān\n",
      "Processing Record 38 of Set 4 | La Asuncion\n",
      "Processing Record 39 of Set 4 | Provideniya\n",
      "City not found. Skipping...\n",
      "Processing Record 40 of Set 4 | Praia\n",
      "Processing Record 41 of Set 4 | Vanimo\n",
      "Processing Record 42 of Set 4 | Corning\n",
      "Processing Record 43 of Set 4 | San Francisco\n",
      "Processing Record 44 of Set 4 | Havelock\n",
      "Processing Record 45 of Set 4 | Rawson\n",
      "Processing Record 46 of Set 4 | Leningradskiy\n",
      "Processing Record 47 of Set 4 | Madang\n",
      "Processing Record 48 of Set 4 | San Patricio\n",
      "Processing Record 49 of Set 4 | Laguna\n",
      "City not found. Skipping...\n",
      "Processing Record 50 of Set 4 | Komsomolets\n",
      "Processing Record 0 of Set 5 | Tottori-shi\n",
      "Processing Record 1 of Set 5 | Caravelas\n",
      "Processing Record 2 of Set 5 | Esperance\n",
      "Processing Record 3 of Set 5 | Wanning\n",
      "Processing Record 4 of Set 5 | Pevek\n",
      "Processing Record 5 of Set 5 | Maragogi\n",
      "Processing Record 6 of Set 5 | San Miguel de Tucumán\n",
      "City not found. Skipping...\n",
      "Processing Record 7 of Set 5 | Ihiala\n",
      "Processing Record 8 of Set 5 | Santa Maria\n",
      "Processing Record 9 of Set 5 | Saint-Philippe\n",
      "City not found. Skipping...\n",
      "Processing Record 10 of Set 5 | Airai\n",
      "City not found. Skipping...\n",
      "Processing Record 11 of Set 5 | Ossora\n",
      "Processing Record 12 of Set 5 | Baberu\n",
      "Processing Record 13 of Set 5 | Mount Gambier\n",
      "Processing Record 14 of Set 5 | Isla Vista\n",
      "Processing Record 15 of Set 5 | Aswān\n",
      "Processing Record 16 of Set 5 | Bereda\n",
      "Processing Record 17 of Set 5 | Castro\n",
      "Processing Record 18 of Set 5 | Obo\n",
      "Processing Record 19 of Set 5 | Hailar\n",
      "Processing Record 20 of Set 5 | Saint George\n",
      "Processing Record 21 of Set 5 | Camacha\n",
      "Processing Record 22 of Set 5 | Porto-Novo\n",
      "Processing Record 23 of Set 5 | Cherskiy\n",
      "Processing Record 24 of Set 5 | Qasigiannguit\n",
      "Processing Record 25 of Set 5 | Trojes\n",
      "Processing Record 26 of Set 5 | Mount Isa\n",
      "Processing Record 27 of Set 5 | Tignère\n",
      "Processing Record 28 of Set 5 | Lorengau\n",
      "Processing Record 29 of Set 5 | San Anselmo\n",
      "Processing Record 30 of Set 5 | Calama\n",
      "Processing Record 31 of Set 5 | Isangel\n",
      "Processing Record 32 of Set 5 | Norman Wells\n",
      "Processing Record 33 of Set 5 | Vanavara\n",
      "City not found. Skipping...\n",
      "Processing Record 34 of Set 5 | Musāfir-Khāna\n",
      "Processing Record 35 of Set 5 | Arawa\n",
      "Processing Record 36 of Set 5 | Shellbrook\n",
      "Processing Record 37 of Set 5 | Maïné Soroa\n",
      "Processing Record 38 of Set 5 | Asău\n",
      "Processing Record 39 of Set 5 | Tibati\n",
      "Processing Record 40 of Set 5 | Spirovo\n",
      "Processing Record 41 of Set 5 | Chambersburg\n",
      "Processing Record 42 of Set 5 | Nome\n",
      "Processing Record 43 of Set 5 | Mossamedes\n",
      "Processing Record 44 of Set 5 | Galesong\n",
      "Processing Record 45 of Set 5 | Neuquén\n",
      "Processing Record 46 of Set 5 | Nichinan\n",
      "Processing Record 47 of Set 5 | Dombarovskiy\n",
      "Processing Record 48 of Set 5 | Carballo\n",
      "Processing Record 49 of Set 5 | Campbell River\n",
      "Processing Record 50 of Set 5 | Alta Floresta\n",
      "Processing Record 0 of Set 6 | Jackson\n",
      "Processing Record 1 of Set 6 | Conde\n",
      "Processing Record 2 of Set 6 | Paamiut\n",
      "Processing Record 3 of Set 6 | Preobrazheniye\n",
      "Processing Record 4 of Set 6 | Emerald\n",
      "Processing Record 5 of Set 6 | Devonport\n",
      "Processing Record 6 of Set 6 | Mundo Nuevo (Ojo de Agua)\n",
      "Processing Record 7 of Set 6 | Kamenka\n",
      "City not found. Skipping...\n",
      "Processing Record 8 of Set 6 | Buraidah\n",
      "Processing Record 9 of Set 6 | Vardø\n",
      "Processing Record 10 of Set 6 | Salinas\n",
      "Processing Record 11 of Set 6 | Tadpatri\n",
      "Processing Record 12 of Set 6 | Gambo\n",
      "City not found. Skipping...\n",
      "Processing Record 13 of Set 6 | Edgewater\n",
      "Processing Record 14 of Set 6 | Kavieng\n",
      "Processing Record 15 of Set 6 | Kalabo\n",
      "City not found. Skipping...\n",
      "Processing Record 16 of Set 6 | Ābādān\n",
      "Processing Record 17 of Set 6 | Gwadar\n",
      "City not found. Skipping...\n",
      "Processing Record 18 of Set 6 | Aklavik\n",
      "Processing Record 19 of Set 6 | Broken Hill\n",
      "Processing Record 20 of Set 6 | Fare\n",
      "Processing Record 21 of Set 6 | Mānvi\n",
      "Processing Record 22 of Set 6 | Lüderitz\n",
      "Processing Record 23 of Set 6 | Onega\n",
      "Processing Record 24 of Set 6 | Wukari\n",
      "Processing Record 25 of Set 6 | Teknāf\n",
      "Processing Record 26 of Set 6 | Anadyr\n",
      "Processing Record 27 of Set 6 | Vostok\n",
      "Processing Record 28 of Set 6 | Lufilufi\n",
      "Processing Record 29 of Set 6 | Ibrā’\n",
      "Processing Record 30 of Set 6 | Mahébourg\n",
      "Processing Record 31 of Set 6 | Laramie\n",
      "Processing Record 32 of Set 6 | Batagay-Alyta\n",
      "Processing Record 33 of Set 6 | Champerico\n",
      "Processing Record 34 of Set 6 | Inírida\n",
      "Processing Record 35 of Set 6 | Hamilton\n",
      "Processing Record 36 of Set 6 | Cizre\n",
      "Processing Record 37 of Set 6 | Fomboni\n",
      "Processing Record 38 of Set 6 | Cueto\n",
      "Processing Record 39 of Set 6 | Wajir\n",
      "Processing Record 40 of Set 6 | Kiryat Gat\n",
      "Processing Record 41 of Set 6 | Cockburn Town\n",
      "Processing Record 42 of Set 6 | Beringovskiy\n",
      "City not found. Skipping...\n",
      "Processing Record 43 of Set 6 | Shima\n",
      "Processing Record 44 of Set 6 | Marang\n",
      "Processing Record 45 of Set 6 | Foumban\n",
      "Processing Record 46 of Set 6 | Venado Tuerto\n",
      "Processing Record 47 of Set 6 | Kainantu\n",
      "Processing Record 48 of Set 6 | Tessalit\n",
      "Processing Record 49 of Set 6 | Zemio\n",
      "Processing Record 50 of Set 6 | Pisco\n",
      "Processing Record 0 of Set 7 | Alpena\n",
      "Processing Record 1 of Set 7 | Bara\n",
      "Processing Record 2 of Set 7 | Fairbanks\n",
      "Processing Record 3 of Set 7 | Kargil\n",
      "Processing Record 4 of Set 7 | Saint-Pierre\n",
      "City not found. Skipping...\n",
      "Processing Record 5 of Set 7 | Port-Gentil\n",
      "Processing Record 6 of Set 7 | Kismayo\n",
      "Processing Record 7 of Set 7 | Bad Hofgastein\n",
      "Processing Record 8 of Set 7 | San Cristobal\n",
      "Processing Record 9 of Set 7 | Castelo do Piauí\n",
      "Processing Record 10 of Set 7 | Boyle\n",
      "Processing Record 11 of Set 7 | Shingū\n",
      "Processing Record 12 of Set 7 | Ipameri\n",
      "Processing Record 13 of Set 7 | Mahibadhoo\n",
      "Processing Record 14 of Set 7 | Atambua\n",
      "Processing Record 15 of Set 7 | Caborca\n",
      "Processing Record 16 of Set 7 | Altay\n",
      "Processing Record 17 of Set 7 | Kumul\n",
      "Processing Record 18 of Set 7 | Westport\n",
      "Processing Record 19 of Set 7 | Port Hedland\n",
      "Processing Record 20 of Set 7 | Magadan\n",
      "Processing Record 21 of Set 7 | Fonte Boa\n",
      "Processing Record 22 of Set 7 | Tlanalapa\n",
      "Processing Record 23 of Set 7 | Sobolevo\n",
      "Processing Record 24 of Set 7 | Bolama\n",
      "Processing Record 25 of Set 7 | Corrales\n",
      "Processing Record 26 of Set 7 | Oranjemund\n",
      "Processing Record 27 of Set 7 | Narsaq\n",
      "Processing Record 28 of Set 7 | Touros\n",
      "City not found. Skipping...\n",
      "Processing Record 29 of Set 7 | Broome\n",
      "Processing Record 30 of Set 7 | Severo-Kuril'sk\n",
      "Processing Record 31 of Set 7 | Laredo\n",
      "Processing Record 32 of Set 7 | Samarai\n",
      "Processing Record 33 of Set 7 | Vestmanna\n",
      "City not found. Skipping...\n",
      "City not found. Skipping...\n",
      "Processing Record 34 of Set 7 | Nouadhibou\n",
      "Processing Record 35 of Set 7 | Naze\n",
      "Processing Record 36 of Set 7 | Talnakh\n",
      "Processing Record 37 of Set 7 | Marsh Harbour\n",
      "Processing Record 38 of Set 7 | Ekibastuz\n",
      "Processing Record 39 of Set 7 | Tyret’ Pervaya\n",
      "Processing Record 40 of Set 7 | Ofakim\n",
      "Processing Record 41 of Set 7 | Piet Retief\n",
      "Processing Record 42 of Set 7 | Lompoc\n",
      "Processing Record 43 of Set 7 | Dolinsk\n",
      "Processing Record 44 of Set 7 | Abu Dhabi\n",
      "Processing Record 45 of Set 7 | Yar-Sale\n",
      "Processing Record 46 of Set 7 | Channel-Port aux Basques\n",
      "Processing Record 47 of Set 7 | Sheridan\n",
      "City not found. Skipping...\n",
      "Processing Record 48 of Set 7 | Hayrabolu\n",
      "Processing Record 49 of Set 7 | Sur\n",
      "Processing Record 50 of Set 7 | Havre-St-Pierre\n",
      "Processing Record 0 of Set 8 | San Rafael\n",
      "Processing Record 1 of Set 8 | Esim\n",
      "Processing Record 2 of Set 8 | Mogadishu\n",
      "Processing Record 3 of Set 8 | Varna\n",
      "Processing Record 4 of Set 8 | Jalu\n",
      "Processing Record 5 of Set 8 | Kailua\n",
      "Processing Record 6 of Set 8 | Opuwo\n",
      "Processing Record 7 of Set 8 | Urengoy\n",
      "Processing Record 8 of Set 8 | Frontera\n",
      "Processing Record 9 of Set 8 | Taltal\n",
      "Processing Record 10 of Set 8 | Angoram\n",
      "Processing Record 11 of Set 8 | Guerrero Negro\n",
      "City not found. Skipping...\n",
      "Processing Record 12 of Set 8 | Rehti\n",
      "Processing Record 13 of Set 8 | Kathu\n",
      "Processing Record 14 of Set 8 | Santa Barbara\n",
      "Processing Record 15 of Set 8 | Terrace Bay\n",
      "Processing Record 16 of Set 8 | Taganak\n",
      "City not found. Skipping...\n",
      "Processing Record 17 of Set 8 | Santiago del Estero\n"
     ]
    },
    {
     "name": "stdout",
     "output_type": "stream",
     "text": [
      "Processing Record 18 of Set 8 | Nuuk\n",
      "Processing Record 19 of Set 8 | Arroyo de la Encomienda\n",
      "Processing Record 20 of Set 8 | Werda\n",
      "City not found. Skipping...\n",
      "Processing Record 21 of Set 8 | Carutapera\n",
      "Processing Record 22 of Set 8 | Pahlgām\n",
      "City not found. Skipping...\n",
      "Processing Record 23 of Set 8 | Rantepao\n",
      "Processing Record 24 of Set 8 | Province of Mantua\n",
      "Processing Record 25 of Set 8 | Port Blair\n",
      "Processing Record 26 of Set 8 | Bilma\n",
      "Processing Record 27 of Set 8 | Kilindoni\n",
      "Processing Record 28 of Set 8 | Jining\n",
      "Processing Record 29 of Set 8 | Rumilly\n",
      "Processing Record 30 of Set 8 | KwaDukuza\n",
      "Processing Record 31 of Set 8 | Colares\n",
      "Processing Record 32 of Set 8 | Sola\n",
      "Processing Record 33 of Set 8 | Pouébo\n",
      "Processing Record 34 of Set 8 | Cervo\n",
      "City not found. Skipping...\n",
      "Processing Record 35 of Set 8 | Panara\n",
      "Processing Record 36 of Set 8 | Casa Grande\n",
      "Processing Record 37 of Set 8 | Teya\n",
      "Processing Record 38 of Set 8 | Acarí\n",
      "City not found. Skipping...\n",
      "City not found. Skipping...\n",
      "Processing Record 39 of Set 8 | Loukhi\n",
      "Processing Record 40 of Set 8 | Mayo\n",
      "Processing Record 41 of Set 8 | Bilibino\n",
      "Processing Record 42 of Set 8 | Bambanglipuro\n",
      "Processing Record 43 of Set 8 | Ajdabiya\n",
      "Processing Record 44 of Set 8 | Konstantinovka\n",
      "Processing Record 45 of Set 8 | Mehamn\n",
      "Processing Record 46 of Set 8 | Edd\n",
      "Processing Record 47 of Set 8 | Adrar\n",
      "Processing Record 48 of Set 8 | Ilabaya\n",
      "Processing Record 49 of Set 8 | Marawi\n",
      "Processing Record 50 of Set 8 | Lüshunkou\n",
      "Processing Record 0 of Set 9 | Gladstone\n",
      "Processing Record 1 of Set 9 | Nacala\n",
      "Processing Record 2 of Set 9 | Belyy Yar\n",
      "Processing Record 3 of Set 9 | Wattegama\n",
      "Processing Record 4 of Set 9 | Sirte\n",
      "City not found. Skipping...\n",
      "Processing Record 5 of Set 9 | Antalaha\n",
      "Processing Record 6 of Set 9 | Wang Saphung\n",
      "Processing Record 7 of Set 9 | Mt. Pleasant\n",
      "Processing Record 8 of Set 9 | Sosnogorsk\n",
      "Processing Record 9 of Set 9 | Eureka\n",
      "Processing Record 10 of Set 9 | Grants\n",
      "City not found. Skipping...\n",
      "Processing Record 11 of Set 9 | Parry Sound\n",
      "Processing Record 12 of Set 9 | Geraldton\n",
      "Processing Record 13 of Set 9 | Khandyga\n",
      "Processing Record 14 of Set 9 | Malinovoye Ozero\n",
      "Processing Record 15 of Set 9 | Kayes\n",
      "Processing Record 16 of Set 9 | Solnechnyy\n",
      "City not found. Skipping...\n",
      "Processing Record 17 of Set 9 | Coruripe\n",
      "Processing Record 18 of Set 9 | Hualmay\n",
      "Processing Record 19 of Set 9 | Velikiy Ustyug\n",
      "Processing Record 20 of Set 9 | Holden\n",
      "Processing Record 21 of Set 9 | Laas\n",
      "Processing Record 22 of Set 9 | Haines Junction\n",
      "Processing Record 23 of Set 9 | Cidreira\n",
      "City not found. Skipping...\n",
      "Processing Record 24 of Set 9 | Dunyapur\n",
      "City not found. Skipping...\n",
      "Processing Record 25 of Set 9 | Māngrol\n",
      "Processing Record 26 of Set 9 | Bethel\n",
      "Processing Record 27 of Set 9 | Tromsø\n",
      "Processing Record 28 of Set 9 | Manadhoo\n",
      "City not found. Skipping...\n",
      "Processing Record 29 of Set 9 | Nilagiri\n",
      "Processing Record 30 of Set 9 | Forsytheganj\n",
      "Processing Record 31 of Set 9 | Belaya Gora\n",
      "Processing Record 32 of Set 9 | Vila\n",
      "Processing Record 33 of Set 9 | Morondava\n",
      "Processing Record 34 of Set 9 | Vao\n",
      "Processing Record 35 of Set 9 | Leibnitz, Styria\n",
      "Processing Record 36 of Set 9 | La Rioja\n",
      "Processing Record 37 of Set 9 | Casa Nova\n",
      "Processing Record 38 of Set 9 | Aras\n",
      "Processing Record 39 of Set 9 | Saldanha\n",
      "Processing Record 40 of Set 9 | Deputatsky\n",
      "Processing Record 41 of Set 9 | Yerbogachën\n",
      "Processing Record 42 of Set 9 | Kigoma\n",
      "Processing Record 43 of Set 9 | Rostovka\n",
      "Processing Record 44 of Set 9 | Strezhevoy\n",
      "Processing Record 45 of Set 9 | Staraya Kulatka\n",
      "Processing Record 46 of Set 9 | Bålsta\n",
      "Processing Record 47 of Set 9 | Aripuanã\n",
      "Processing Record 48 of Set 9 | Elko\n",
      "Processing Record 49 of Set 9 | Mandan\n",
      "Processing Record 50 of Set 9 | Coyhaique\n",
      "Processing Record 0 of Set 10 | Port Alberni\n",
      "Processing Record 1 of Set 10 | Angoche\n",
      "Processing Record 2 of Set 10 | Deloraine\n",
      "Processing Record 3 of Set 10 | Carmo\n",
      "Processing Record 4 of Set 10 | Şieuţ\n",
      "Processing Record 5 of Set 10 | Johi\n",
      "Processing Record 6 of Set 10 | Itaqui\n",
      "Processing Record 7 of Set 10 | Brenham\n",
      "Processing Record 8 of Set 10 | Nagorsk\n",
      "Processing Record 9 of Set 10 | Hoopstad\n",
      "Processing Record 10 of Set 10 | Havøysund\n",
      "Processing Record 11 of Set 10 | Mildura\n",
      "Processing Record 12 of Set 10 | Ucluelet\n",
      "Processing Record 13 of Set 10 | Rawlins\n",
      "Processing Record 14 of Set 10 | Tallahassee\n",
      "Processing Record 15 of Set 10 | Ust-Tsilma\n",
      "Processing Record 16 of Set 10 | Kosai\n",
      "Processing Record 17 of Set 10 | La Ronge\n",
      "Processing Record 18 of Set 10 | Coquimbo\n",
      "Processing Record 19 of Set 10 | Saint Anthony\n",
      "Processing Record 20 of Set 10 | Nakhon Pathom\n",
      "Processing Record 21 of Set 10 | Río Gallegos\n",
      "Processing Record 22 of Set 10 | Doha\n",
      "Processing Record 23 of Set 10 | Japura\n",
      "Processing Record 24 of Set 10 | Bathurst\n",
      "Processing Record 25 of Set 10 | Tank\n",
      "Processing Record 26 of Set 10 | Parbatipur\n",
      "Processing Record 27 of Set 10 | Bahía Honda\n",
      "Processing Record 28 of Set 10 | Novoanninskiy\n",
      "Processing Record 29 of Set 10 | Qaqortoq\n",
      "Processing Record 30 of Set 10 | Harper\n",
      "City not found. Skipping...\n",
      "Processing Record 31 of Set 10 | Karla\n",
      "Processing Record 32 of Set 10 | Linfen\n",
      "Processing Record 33 of Set 10 | Katima Mulilo\n",
      "Processing Record 34 of Set 10 | Kloulklubed\n",
      "Processing Record 35 of Set 10 | Shorap’ani\n",
      "Processing Record 36 of Set 10 | Houma\n",
      "Processing Record 37 of Set 10 | Buala\n",
      "Processing Record 38 of Set 10 | Tautira\n",
      "City not found. Skipping...\n",
      "Processing Record 39 of Set 10 | Malartic\n",
      "Processing Record 40 of Set 10 | Howell\n",
      "Processing Record 41 of Set 10 | Puerto Escondido\n",
      "Processing Record 42 of Set 10 | Nishihara\n",
      "Processing Record 43 of Set 10 | Nayoro\n",
      "Processing Record 44 of Set 10 | Ormara\n",
      "Processing Record 45 of Set 10 | Gobabis\n",
      "Processing Record 46 of Set 10 | Littlehampton\n",
      "Processing Record 47 of Set 10 | Constitución\n",
      "Processing Record 48 of Set 10 | George\n",
      "Processing Record 49 of Set 10 | Fort Nelson\n",
      "Processing Record 50 of Set 10 | Bintulu\n",
      "Processing Record 0 of Set 11 | Bend\n",
      "Processing Record 1 of Set 11 | Egvekinot\n",
      "Processing Record 2 of Set 11 | Mokrousovo\n",
      "Processing Record 3 of Set 11 | Hervey Bay\n",
      "Processing Record 4 of Set 11 | Kununurra\n",
      "Processing Record 5 of Set 11 | Beihai\n",
      "Processing Record 6 of Set 11 | Klaksvík\n",
      "Processing Record 7 of Set 11 | The Valley\n",
      "Processing Record 8 of Set 11 | Kiunga\n",
      "Processing Record 9 of Set 11 | Half Moon Bay\n",
      "Processing Record 10 of Set 11 | Moroni\n",
      "Processing Record 11 of Set 11 | Gimbi\n",
      "Processing Record 12 of Set 11 | Puhja\n",
      "Processing Record 13 of Set 11 | Lafia\n",
      "Processing Record 14 of Set 11 | Chiredzi\n",
      "Processing Record 15 of Set 11 | Valdivia\n",
      "City not found. Skipping...\n",
      "City not found. Skipping...\n",
      "Processing Record 16 of Set 11 | Cuamba\n",
      "Processing Record 17 of Set 11 | Dzerzhinskoye\n",
      "Processing Record 18 of Set 11 | Eenhana\n",
      "City not found. Skipping...\n",
      "City not found. Skipping...\n",
      "Processing Record 19 of Set 11 | Yicheng\n",
      "City not found. Skipping...\n",
      "Processing Record 20 of Set 11 | Alice Springs\n",
      "Processing Record 21 of Set 11 | West Bay\n",
      "Processing Record 22 of Set 11 | Wichian Buri\n",
      "Processing Record 23 of Set 11 | Clarence Town\n",
      "Processing Record 24 of Set 11 | Kambove\n",
      "Processing Record 25 of Set 11 | Sagae\n",
      "City not found. Skipping...\n",
      "Processing Record 26 of Set 11 | Jishu\n",
      "Processing Record 27 of Set 11 | Kenai\n",
      "Processing Record 28 of Set 11 | Bariloche\n",
      "Processing Record 29 of Set 11 | Pangnirtung\n",
      "Processing Record 30 of Set 11 | Tsabong\n",
      "Processing Record 31 of Set 11 | Burns Lake\n",
      "Processing Record 32 of Set 11 | Araouane\n",
      "City not found. Skipping...\n",
      "Processing Record 33 of Set 11 | Mareeba\n",
      "Processing Record 34 of Set 11 | Lopez\n",
      "City not found. Skipping...\n",
      "Processing Record 35 of Set 11 | Evensk\n",
      "Processing Record 36 of Set 11 | Lázaro Cárdenas\n",
      "Processing Record 37 of Set 11 | Duekoué\n",
      "Processing Record 38 of Set 11 | Sitka\n",
      "Processing Record 39 of Set 11 | Voh\n",
      "Processing Record 40 of Set 11 | Gallup\n",
      "Processing Record 41 of Set 11 | Tsimmerbude\n",
      "Processing Record 42 of Set 11 | Valga\n",
      "Processing Record 43 of Set 11 | Vilyuysk\n",
      "Processing Record 44 of Set 11 | Shimoda\n",
      "City not found. Skipping...\n",
      "Processing Record 45 of Set 11 | Hay River\n",
      "Processing Record 46 of Set 11 | Arua\n",
      "Processing Record 47 of Set 11 | Kerman\n"
     ]
    },
    {
     "name": "stdout",
     "output_type": "stream",
     "text": [
      "Processing Record 48 of Set 11 | San Vicente\n",
      "Processing Record 49 of Set 11 | Tarangnan\n",
      "Processing Record 50 of Set 11 | Prainha\n",
      "Processing Record 0 of Set 12 | Mocuba\n",
      "Processing Record 1 of Set 12 | Mikhaylovka\n",
      "Processing Record 2 of Set 12 | Nabire\n",
      "Processing Record 3 of Set 12 | Lima\n",
      "Processing Record 4 of Set 12 | Xai-Xai\n",
      "Processing Record 5 of Set 12 | Mangaratiba\n",
      "Processing Record 6 of Set 12 | Longyearbyen\n",
      "Processing Record 7 of Set 12 | Solano\n",
      "-----------------------------\n",
      "Data Retrieval Complete\n",
      "-----------------------------\n"
     ]
    }
   ],
   "source": [
    "#set query url and unit measuremnt type\n",
    "url = \"http://api.openweathermap.org/data/2.5/weather?\"\n",
    "units = \"imperial\"\n",
    "query_url = f\"{url}appid={weather_api_key}&units={units}&q=\"\n",
    "\n",
    "#set lists to hold df values\n",
    "name = []\n",
    "country = []\n",
    "lat = []\n",
    "lon = []\n",
    "max_temp = []\n",
    "hum = []\n",
    "clouds = []\n",
    "wind_speed = []\n",
    "date = []\n",
    "\n",
    "#set record and set count\n",
    "record = 0\n",
    "set_count = 1\n",
    "\n",
    "#format print log\n",
    "print(f\"Beginning Data Retrieval\")\n",
    "print(f\"-------------------------------\")\n",
    "\n",
    "for index, city in enumerate(cities, start = 1): \n",
    "    response = requests.get(query_url + city).json()\n",
    "    #pprint(response)\n",
    "    \n",
    "    try:\n",
    "        name.append(response[\"name\"])\n",
    "        country.append(response[\"sys\"][\"country\"])\n",
    "        lat.append(response[\"coord\"][\"lat\"])\n",
    "        lon.append(response[\"coord\"][\"lon\"])\n",
    "        max_temp.append(response[\"main\"][\"temp_max\"])\n",
    "        hum.append(response[\"main\"][\"humidity\"])\n",
    "        clouds.append(response[\"clouds\"][\"all\"])\n",
    "        wind_speed.append(response[\"wind\"][\"speed\"])\n",
    "        date.append(response[\"dt\"])       \n",
    "        city_name = response[\"name\"]\n",
    "        \n",
    "        if record > 49:\n",
    "            record = 0\n",
    "            set_count = set_count + 1\n",
    "        else:\n",
    "            record = record + 1\n",
    "            \n",
    "        print(f\"Processing Record {record} of Set {set_count} | {city_name}\")\n",
    "        \n",
    "        time.sleep(1)\n",
    "        \n",
    "    except:\n",
    "        print(f\"City not found. Skipping...\")\n",
    "    continue\n",
    "    \n",
    "print(\"-----------------------------\")\n",
    "print(\"Data Retrieval Complete\")\n",
    "print(\"-----------------------------\")"
   ]
  },
  {
   "cell_type": "markdown",
   "metadata": {},
   "source": [
    "### Convert Raw Data to DataFrame\n",
    "* Export the city data into a .csv.\n",
    "* Display the DataFrame\n"
   ]
  },
  {
   "cell_type": "code",
   "execution_count": 27,
   "metadata": {},
   "outputs": [
    {
     "data": {
      "text/html": [
       "<div>\n",
       "<style scoped>\n",
       "    .dataframe tbody tr th:only-of-type {\n",
       "        vertical-align: middle;\n",
       "    }\n",
       "\n",
       "    .dataframe tbody tr th {\n",
       "        vertical-align: top;\n",
       "    }\n",
       "\n",
       "    .dataframe thead th {\n",
       "        text-align: right;\n",
       "    }\n",
       "</style>\n",
       "<table border=\"1\" class=\"dataframe\">\n",
       "  <thead>\n",
       "    <tr style=\"text-align: right;\">\n",
       "      <th></th>\n",
       "      <th>City</th>\n",
       "      <th>Lat</th>\n",
       "      <th>Lng</th>\n",
       "      <th>Max Temp</th>\n",
       "      <th>Humidity</th>\n",
       "      <th>Cloudiness</th>\n",
       "      <th>Wind Speed</th>\n",
       "      <th>Country</th>\n",
       "      <th>Date</th>\n",
       "    </tr>\n",
       "  </thead>\n",
       "  <tbody>\n",
       "    <tr>\n",
       "      <th>0</th>\n",
       "      <td>Hobart</td>\n",
       "      <td>-42.8794</td>\n",
       "      <td>147.3294</td>\n",
       "      <td>68.00</td>\n",
       "      <td>52</td>\n",
       "      <td>75</td>\n",
       "      <td>12.75</td>\n",
       "      <td>AU</td>\n",
       "      <td>1609892714</td>\n",
       "    </tr>\n",
       "    <tr>\n",
       "      <th>1</th>\n",
       "      <td>College Station</td>\n",
       "      <td>30.6280</td>\n",
       "      <td>-96.3344</td>\n",
       "      <td>64.40</td>\n",
       "      <td>52</td>\n",
       "      <td>1</td>\n",
       "      <td>8.05</td>\n",
       "      <td>US</td>\n",
       "      <td>1609892615</td>\n",
       "    </tr>\n",
       "    <tr>\n",
       "      <th>2</th>\n",
       "      <td>Kapaa</td>\n",
       "      <td>22.0752</td>\n",
       "      <td>-159.3190</td>\n",
       "      <td>78.80</td>\n",
       "      <td>65</td>\n",
       "      <td>75</td>\n",
       "      <td>13.87</td>\n",
       "      <td>US</td>\n",
       "      <td>1609892716</td>\n",
       "    </tr>\n",
       "    <tr>\n",
       "      <th>3</th>\n",
       "      <td>Torbay</td>\n",
       "      <td>47.6666</td>\n",
       "      <td>-52.7314</td>\n",
       "      <td>37.99</td>\n",
       "      <td>100</td>\n",
       "      <td>90</td>\n",
       "      <td>17.22</td>\n",
       "      <td>CA</td>\n",
       "      <td>1609892718</td>\n",
       "    </tr>\n",
       "    <tr>\n",
       "      <th>4</th>\n",
       "      <td>Vila Franca do Campo</td>\n",
       "      <td>37.7167</td>\n",
       "      <td>-25.4333</td>\n",
       "      <td>55.40</td>\n",
       "      <td>71</td>\n",
       "      <td>75</td>\n",
       "      <td>13.87</td>\n",
       "      <td>PT</td>\n",
       "      <td>1609892719</td>\n",
       "    </tr>\n",
       "  </tbody>\n",
       "</table>\n",
       "</div>"
      ],
      "text/plain": [
       "                   City      Lat       Lng  Max Temp  Humidity  Cloudiness  \\\n",
       "0                Hobart -42.8794  147.3294     68.00        52          75   \n",
       "1       College Station  30.6280  -96.3344     64.40        52           1   \n",
       "2                 Kapaa  22.0752 -159.3190     78.80        65          75   \n",
       "3                Torbay  47.6666  -52.7314     37.99       100          90   \n",
       "4  Vila Franca do Campo  37.7167  -25.4333     55.40        71          75   \n",
       "\n",
       "   Wind Speed Country        Date  \n",
       "0       12.75      AU  1609892714  \n",
       "1        8.05      US  1609892615  \n",
       "2       13.87      US  1609892716  \n",
       "3       17.22      CA  1609892718  \n",
       "4       13.87      PT  1609892719  "
      ]
     },
     "execution_count": 27,
     "metadata": {},
     "output_type": "execute_result"
    }
   ],
   "source": [
    "#create df of city weather \n",
    "city_weather = pd.DataFrame({\"City\": name,\n",
    "                             \"Lat\": lat,\n",
    "                             \"Lng\": lon,\n",
    "                             \"Max Temp\": max_temp,\n",
    "                             \"Humidity\": hum,\n",
    "                             \"Cloudiness\": clouds,\n",
    "                             \"Wind Speed\": wind_speed,\n",
    "                             \"Country\": country,\n",
    "                             \"Date\": date})\n",
    "\n",
    "#set output file and write df to a csv\n",
    "output_file = os.path.join(\"..\", \"Output_Data\", \"cities.csv\")\n",
    "\n",
    "city_weather.to_csv(output_file, index=False, header=True)\n",
    "city_weather.head()"
   ]
  },
  {
   "cell_type": "code",
   "execution_count": 28,
   "metadata": {},
   "outputs": [
    {
     "data": {
      "text/html": [
       "<div>\n",
       "<style scoped>\n",
       "    .dataframe tbody tr th:only-of-type {\n",
       "        vertical-align: middle;\n",
       "    }\n",
       "\n",
       "    .dataframe tbody tr th {\n",
       "        vertical-align: top;\n",
       "    }\n",
       "\n",
       "    .dataframe thead th {\n",
       "        text-align: right;\n",
       "    }\n",
       "</style>\n",
       "<table border=\"1\" class=\"dataframe\">\n",
       "  <thead>\n",
       "    <tr style=\"text-align: right;\">\n",
       "      <th></th>\n",
       "      <th>Lat</th>\n",
       "      <th>Lng</th>\n",
       "      <th>Max Temp</th>\n",
       "      <th>Humidity</th>\n",
       "      <th>Cloudiness</th>\n",
       "      <th>Wind Speed</th>\n",
       "      <th>Date</th>\n",
       "    </tr>\n",
       "  </thead>\n",
       "  <tbody>\n",
       "    <tr>\n",
       "      <th>count</th>\n",
       "      <td>568.000000</td>\n",
       "      <td>568.000000</td>\n",
       "      <td>568.000000</td>\n",
       "      <td>568.000000</td>\n",
       "      <td>568.000000</td>\n",
       "      <td>568.000000</td>\n",
       "      <td>5.680000e+02</td>\n",
       "    </tr>\n",
       "    <tr>\n",
       "      <th>mean</th>\n",
       "      <td>19.306986</td>\n",
       "      <td>17.250224</td>\n",
       "      <td>50.258820</td>\n",
       "      <td>74.198944</td>\n",
       "      <td>55.318662</td>\n",
       "      <td>7.789912</td>\n",
       "      <td>1.609893e+09</td>\n",
       "    </tr>\n",
       "    <tr>\n",
       "      <th>std</th>\n",
       "      <td>33.231738</td>\n",
       "      <td>91.558953</td>\n",
       "      <td>31.140181</td>\n",
       "      <td>19.769774</td>\n",
       "      <td>39.326592</td>\n",
       "      <td>5.699846</td>\n",
       "      <td>2.149686e+02</td>\n",
       "    </tr>\n",
       "    <tr>\n",
       "      <th>min</th>\n",
       "      <td>-54.800000</td>\n",
       "      <td>-179.166700</td>\n",
       "      <td>-45.810000</td>\n",
       "      <td>1.000000</td>\n",
       "      <td>0.000000</td>\n",
       "      <td>0.400000</td>\n",
       "      <td>1.609892e+09</td>\n",
       "    </tr>\n",
       "    <tr>\n",
       "      <th>25%</th>\n",
       "      <td>-9.035675</td>\n",
       "      <td>-65.345075</td>\n",
       "      <td>32.000000</td>\n",
       "      <td>65.750000</td>\n",
       "      <td>19.750000</td>\n",
       "      <td>3.360000</td>\n",
       "      <td>1.609893e+09</td>\n",
       "    </tr>\n",
       "    <tr>\n",
       "      <th>50%</th>\n",
       "      <td>22.622500</td>\n",
       "      <td>22.982350</td>\n",
       "      <td>62.600000</td>\n",
       "      <td>80.000000</td>\n",
       "      <td>67.000000</td>\n",
       "      <td>6.710000</td>\n",
       "      <td>1.609893e+09</td>\n",
       "    </tr>\n",
       "    <tr>\n",
       "      <th>75%</th>\n",
       "      <td>46.865850</td>\n",
       "      <td>96.860800</td>\n",
       "      <td>75.082500</td>\n",
       "      <td>88.000000</td>\n",
       "      <td>93.000000</td>\n",
       "      <td>10.875000</td>\n",
       "      <td>1.609893e+09</td>\n",
       "    </tr>\n",
       "    <tr>\n",
       "      <th>max</th>\n",
       "      <td>78.218600</td>\n",
       "      <td>179.316700</td>\n",
       "      <td>89.600000</td>\n",
       "      <td>100.000000</td>\n",
       "      <td>100.000000</td>\n",
       "      <td>30.310000</td>\n",
       "      <td>1.609893e+09</td>\n",
       "    </tr>\n",
       "  </tbody>\n",
       "</table>\n",
       "</div>"
      ],
      "text/plain": [
       "              Lat         Lng    Max Temp    Humidity  Cloudiness  Wind Speed  \\\n",
       "count  568.000000  568.000000  568.000000  568.000000  568.000000  568.000000   \n",
       "mean    19.306986   17.250224   50.258820   74.198944   55.318662    7.789912   \n",
       "std     33.231738   91.558953   31.140181   19.769774   39.326592    5.699846   \n",
       "min    -54.800000 -179.166700  -45.810000    1.000000    0.000000    0.400000   \n",
       "25%     -9.035675  -65.345075   32.000000   65.750000   19.750000    3.360000   \n",
       "50%     22.622500   22.982350   62.600000   80.000000   67.000000    6.710000   \n",
       "75%     46.865850   96.860800   75.082500   88.000000   93.000000   10.875000   \n",
       "max     78.218600  179.316700   89.600000  100.000000  100.000000   30.310000   \n",
       "\n",
       "               Date  \n",
       "count  5.680000e+02  \n",
       "mean   1.609893e+09  \n",
       "std    2.149686e+02  \n",
       "min    1.609892e+09  \n",
       "25%    1.609893e+09  \n",
       "50%    1.609893e+09  \n",
       "75%    1.609893e+09  \n",
       "max    1.609893e+09  "
      ]
     },
     "execution_count": 28,
     "metadata": {},
     "output_type": "execute_result"
    }
   ],
   "source": [
    "#calculate descriptive statistics \n",
    "city_weather.describe()"
   ]
  },
  {
   "cell_type": "markdown",
   "metadata": {},
   "source": [
    "## Inspect the data and remove the cities where the humidity > 100%.\n",
    "----\n",
    "Skip this step if there are no cities that have humidity > 100%. "
   ]
  },
  {
   "cell_type": "code",
   "execution_count": 31,
   "metadata": {},
   "outputs": [
    {
     "data": {
      "text/html": [
       "<div>\n",
       "<style scoped>\n",
       "    .dataframe tbody tr th:only-of-type {\n",
       "        vertical-align: middle;\n",
       "    }\n",
       "\n",
       "    .dataframe tbody tr th {\n",
       "        vertical-align: top;\n",
       "    }\n",
       "\n",
       "    .dataframe thead th {\n",
       "        text-align: right;\n",
       "    }\n",
       "</style>\n",
       "<table border=\"1\" class=\"dataframe\">\n",
       "  <thead>\n",
       "    <tr style=\"text-align: right;\">\n",
       "      <th></th>\n",
       "      <th>City</th>\n",
       "      <th>Lat</th>\n",
       "      <th>Lng</th>\n",
       "      <th>Max Temp</th>\n",
       "      <th>Humidity</th>\n",
       "      <th>Cloudiness</th>\n",
       "      <th>Wind Speed</th>\n",
       "      <th>Country</th>\n",
       "      <th>Date</th>\n",
       "    </tr>\n",
       "  </thead>\n",
       "  <tbody>\n",
       "  </tbody>\n",
       "</table>\n",
       "</div>"
      ],
      "text/plain": [
       "Empty DataFrame\n",
       "Columns: [City, Lat, Lng, Max Temp, Humidity, Cloudiness, Wind Speed, Country, Date]\n",
       "Index: []"
      ]
     },
     "execution_count": 31,
     "metadata": {},
     "output_type": "execute_result"
    }
   ],
   "source": [
    "humidity_check = city_weather.loc[city_weather[\"Humidity\"] > 100]\n",
    "humidity_check"
   ]
  },
  {
   "cell_type": "code",
   "execution_count": 7,
   "metadata": {},
   "outputs": [],
   "source": [
    "#  Get the indices of cities that have humidity over 100%.\n"
   ]
  },
  {
   "cell_type": "code",
   "execution_count": 8,
   "metadata": {},
   "outputs": [],
   "source": [
    "# Make a new DataFrame equal to the city data to drop all humidity outliers by index.\n",
    "# Passing \"inplace=False\" will make a copy of the city_data DataFrame, which we call \"clean_city_data\".\n"
   ]
  },
  {
   "cell_type": "code",
   "execution_count": null,
   "metadata": {},
   "outputs": [],
   "source": [
    "\n"
   ]
  },
  {
   "cell_type": "markdown",
   "metadata": {},
   "source": [
    "## Plotting the Data\n",
    "* Use proper labeling of the plots using plot titles (including date of analysis) and axes labels.\n",
    "* Save the plotted figures as .pngs."
   ]
  },
  {
   "cell_type": "markdown",
   "metadata": {},
   "source": [
    "## Latitude vs. Temperature Plot"
   ]
  },
  {
   "cell_type": "code",
   "execution_count": 34,
   "metadata": {
    "scrolled": false
   },
   "outputs": [
    {
     "data": {
      "image/png": "[encoded data removed]",
      "text/plain": [
       "<Figure size 432x288 with 1 Axes>"
      ]
     },
     "metadata": {
      "needs_background": "light"
     },
     "output_type": "display_data"
    }
   ],
   "source": [
    "#set variable for current date to print \n",
    "today = date.today()\n",
    "\n",
    "#plot weather data\n",
    "x_values = city_weather[\"Lat\"]\n",
    "y_values = city_weather[\"Max Temp\"]\n",
    "plt.scatter(x_values, y_values, marker='o', edgecolors='black')\n",
    "plt.grid(b=True, which='major', linestyle='-')\n",
    "plt.xlabel(\"Latitude\")\n",
    "plt.ylabel(\"Max Temperature (F)\")\n",
    "plt.title(f\"City Latitude vs. Max Temperature {today}\")\n",
    "\n",
    "#save figure as png  \n",
    "plt.savefig(\"Fig1.png\", format='png')\n",
    "\n",
    "plt.show()"
   ]
  },
  {
   "cell_type": "markdown",
   "metadata": {},
   "source": [
    "This plot shows the correlation between the max temperature of cities around the world and their latitudinal location.  With 0 on the x-axis being the equator, this plot shows that the maximum temperture at locations around the equator are the warmest, and that there is a moderate negative correlation between latitude and temperature. "
   ]
  },
  {
   "cell_type": "markdown",
   "metadata": {},
   "source": [
    "## Latitude vs. Humidity Plot"
   ]
  },
  {
   "cell_type": "code",
   "execution_count": 35,
   "metadata": {},
   "outputs": [
    {
     "data": {
      "image/png": "[encoded data removed]",
      "text/plain": [
       "<Figure size 432x288 with 1 Axes>"
      ]
     },
     "metadata": {
      "needs_background": "light"
     },
     "output_type": "display_data"
    }
   ],
   "source": [
    "#plot weather data\n",
    "x_values = city_weather[\"Lat\"]\n",
    "y_values = city_weather[\"Humidity\"]\n",
    "plt.scatter(x_values, y_values, marker='o', edgecolors='black')\n",
    "plt.grid(b=True, which='major', linestyle='-')\n",
    "plt.xlabel(\"Latitude\")\n",
    "plt.ylabel(\"Humidity (%)\")\n",
    "plt.title(f\"City Latitude vs. Humidity {today}\")\n",
    "\n",
    "#save figure as png  \n",
    "plt.savefig(\"Fig2.png\", format='png')\n",
    "\n",
    "plt.show()"
   ]
  },
  {
   "cell_type": "markdown",
   "metadata": {},
   "source": [
    "This plot shows the correlation between latitudinal location of the city and their humidity level for the current day. Generally, it appears to show no real correlation between location and humidity levels.  "
   ]
  },
  {
   "cell_type": "markdown",
   "metadata": {},
   "source": [
    "## Latitude vs. Cloudiness Plot"
   ]
  },
  {
   "cell_type": "code",
   "execution_count": 36,
   "metadata": {
    "scrolled": true
   },
   "outputs": [
    {
     "data": {
      "image/png": "[encoded data removed]",
      "text/plain": [
       "<Figure size 432x288 with 1 Axes>"
      ]
     },
     "metadata": {
      "needs_background": "light"
     },
     "output_type": "display_data"
    }
   ],
   "source": [
    "#plot weather data\n",
    "x_values = city_weather[\"Lat\"]\n",
    "y_values = city_weather[\"Cloudiness\"]\n",
    "plt.scatter(x_values, y_values, marker='o', edgecolors='black')\n",
    "plt.xlabel(\"Latitude\")\n",
    "plt.ylabel(\"Cloudiness (%)\")\n",
    "plt.title(f\"City Latitude vs. Cloudiness {today}\")\n",
    "\n",
    "#save figure as png  \n",
    "plt.savefig(\"Fig3.png\", format='png')\n",
    "\n",
    "plt.show()"
   ]
  },
  {
   "cell_type": "markdown",
   "metadata": {},
   "source": [
    "This plot shows the correlation between latitudinal location of a city and the cloudiness level for the current day.  Generally, it appears to show no real correlation beteen latitude and cloudiness levels. "
   ]
  },
  {
   "cell_type": "markdown",
   "metadata": {},
   "source": [
    "## Latitude vs. Wind Speed Plot"
   ]
  },
  {
   "cell_type": "code",
   "execution_count": 37,
   "metadata": {
    "scrolled": true
   },
   "outputs": [
    {
     "data": {
      "image/png": "[encoded data removed]",
      "text/plain": [
       "<Figure size 432x288 with 1 Axes>"
      ]
     },
     "metadata": {
      "needs_background": "light"
     },
     "output_type": "display_data"
    }
   ],
   "source": [
    "#plot weather data\n",
    "x_values = city_weather[\"Lat\"]\n",
    "y_values = city_weather[\"Wind Speed\"]\n",
    "plt.scatter(x_values, y_values, marker='o', edgecolors='black')\n",
    "plt.xlabel(\"Latitude\")\n",
    "plt.ylabel(\"Wind Speed (mph)\")\n",
    "plt.title(f\"City Latitude vs. Wind Speed {today}\")\n",
    "\n",
    "#save figure as png  \n",
    "plt.savefig(\"Fig4.png\", format='png')\n",
    "\n",
    "plt.show()"
   ]
  },
  {
   "cell_type": "markdown",
   "metadata": {},
   "source": [
    "This plot shows the correlation between latitudinal location of a city and their current wind speed.  Generally, there appears to be no real correlation between location and wind speed. "
   ]
  },
  {
   "cell_type": "markdown",
   "metadata": {},
   "source": [
    "## Linear Regression"
   ]
  },
  {
   "cell_type": "code",
   "execution_count": 38,
   "metadata": {},
   "outputs": [],
   "source": [
    "north = city_weather.loc[city_weather[\"Lat\"] >= 0]\n",
    "south = city_weather.loc[city_weather[\"Lat\"] < 0]"
   ]
  },
  {
   "cell_type": "markdown",
   "metadata": {},
   "source": [
    "####  Northern Hemisphere - Max Temp vs. Latitude Linear Regression"
   ]
  },
  {
   "cell_type": "code",
   "execution_count": 39,
   "metadata": {},
   "outputs": [
    {
     "name": "stdout",
     "output_type": "stream",
     "text": [
      "The r-value is: -0.8597946995526129\n"
     ]
    },
    {
     "data": {
      "image/png": "[encoded data removed]",
      "text/plain": [
       "<Figure size 432x288 with 1 Axes>"
      ]
     },
     "metadata": {
      "needs_background": "light"
     },
     "output_type": "display_data"
    }
   ],
   "source": [
    "x = north[\"Lat\"]\n",
    "y = north[\"Max Temp\"]\n",
    "corr = st.pearsonr(x, y)[0]\n",
    "print(f'The r-value is: {corr}')\n",
    "\n",
    "slp, intr, r, p, std = st.linregress(x,y)\n",
    "regress = slp * x + intr \n",
    "line = \"y =\" + str(round(slp, 2)) + \"x +\" + str(round(intr, 2))\n",
    "\n",
    "plt.scatter(x, y, marker='o')\n",
    "plt.plot(x, regress, \"r-\")\n",
    "plt.annotate(line,(5, -20), fontsize=15, color='red')\n",
    "plt.xlabel(\"Latitude\")\n",
    "plt.ylabel(\"Max Temp (F)\")\n",
    "plt.show()"
   ]
  },
  {
   "cell_type": "markdown",
   "metadata": {},
   "source": [
    "####  Southern Hemisphere - Max Temp vs. Latitude Linear Regression"
   ]
  },
  {
   "cell_type": "code",
   "execution_count": 40,
   "metadata": {},
   "outputs": [
    {
     "name": "stdout",
     "output_type": "stream",
     "text": [
      "The r-value is: 0.5577108119877198\n"
     ]
    },
    {
     "data": {
      "image/png": "[encoded data removed]",
      "text/plain": [
       "<Figure size 432x288 with 1 Axes>"
      ]
     },
     "metadata": {
      "needs_background": "light"
     },
     "output_type": "display_data"
    }
   ],
   "source": [
    "x = south[\"Lat\"]\n",
    "y = south[\"Max Temp\"]\n",
    "corr = st.pearsonr(x, y)[0]\n",
    "print(f'The r-value is: {corr}')\n",
    "\n",
    "slp, intr, r, p, std = st.linregress(x,y)\n",
    "regress = slp * x + intr \n",
    "line = \"y =\" + str(round(slp, 2)) + \"x +\" + str(round(intr, 2))\n",
    "\n",
    "plt.scatter(x, y, marker='o')\n",
    "plt.plot(x, regress, \"r-\")\n",
    "plt.annotate(line,(-55, 85), fontsize=15, color='red')\n",
    "plt.xlabel(\"Latitude\")\n",
    "plt.ylabel(\"Max Temp (F)\")\n",
    "plt.show()"
   ]
  },
  {
   "cell_type": "markdown",
   "metadata": {},
   "source": [
    "####  Northern Hemisphere - Humidity (%) vs. Latitude Linear Regression"
   ]
  },
  {
   "cell_type": "code",
   "execution_count": 41,
   "metadata": {},
   "outputs": [
    {
     "name": "stdout",
     "output_type": "stream",
     "text": [
      "The r-value is: 0.3533116799223709\n"
     ]
    },
    {
     "data": {
      "image/png": "[encoded data removed]",
      "text/plain": [
       "<Figure size 432x288 with 1 Axes>"
      ]
     },
     "metadata": {
      "needs_background": "light"
     },
     "output_type": "display_data"
    }
   ],
   "source": [
    "x = north[\"Lat\"]\n",
    "y = north[\"Humidity\"]\n",
    "corr = st.pearsonr(x, y)[0]\n",
    "print(f'The r-value is: {corr}')\n",
    "\n",
    "slp, intr, r, p, std = st.linregress(x,y)\n",
    "regress = slp * x + intr \n",
    "line = \"y =\" + str(round(slp, 2)) + \"x +\" + str(round(intr, 2))\n",
    "\n",
    "plt.scatter(x, y, marker='o')\n",
    "plt.plot(x, regress, \"r-\")\n",
    "plt.annotate(line,(50, 30), fontsize=15, color='red')\n",
    "plt.xlabel(\"Latitude\")\n",
    "plt.ylabel(\"Humidity (%)\")\n",
    "plt.show()"
   ]
  },
  {
   "cell_type": "markdown",
   "metadata": {},
   "source": [
    "####  Southern Hemisphere - Humidity (%) vs. Latitude Linear Regression"
   ]
  },
  {
   "cell_type": "code",
   "execution_count": 42,
   "metadata": {},
   "outputs": [
    {
     "name": "stdout",
     "output_type": "stream",
     "text": [
      "The r-value is: 0.3174422366208411\n"
     ]
    },
    {
     "data": {
      "image/png": "[encoded data removed]",
      "text/plain": [
       "<Figure size 432x288 with 1 Axes>"
      ]
     },
     "metadata": {
      "needs_background": "light"
     },
     "output_type": "display_data"
    }
   ],
   "source": [
    "x = south[\"Lat\"]\n",
    "y = south[\"Humidity\"]\n",
    "corr = st.pearsonr(x, y)[0]\n",
    "print(f'The r-value is: {corr}')\n",
    "\n",
    "slp, intr, r, p, std = st.linregress(x,y)\n",
    "regress = slp * x + intr \n",
    "line = \"y =\" + str(round(slp, 2)) + \"x +\" + str(round(intr, 2))\n",
    "\n",
    "plt.scatter(x, y, marker='o')\n",
    "plt.plot(x, regress, \"r-\")\n",
    "plt.annotate(line,(-55, 20), fontsize=13, color='red')\n",
    "plt.xlabel(\"Latitude\")\n",
    "plt.ylabel(\"Humidity (%)\")\n",
    "plt.show()"
   ]
  },
  {
   "cell_type": "markdown",
   "metadata": {},
   "source": [
    "####  Northern Hemisphere - Cloudiness (%) vs. Latitude Linear Regression"
   ]
  },
  {
   "cell_type": "code",
   "execution_count": 43,
   "metadata": {},
   "outputs": [
    {
     "name": "stdout",
     "output_type": "stream",
     "text": [
      "The r-value is: 0.36049489389753886\n"
     ]
    },
    {
     "data": {
      "image/png": "[encoded data removed]",
      "text/plain": [
       "<Figure size 432x288 with 1 Axes>"
      ]
     },
     "metadata": {
      "needs_background": "light"
     },
     "output_type": "display_data"
    }
   ],
   "source": [
    "x = north[\"Lat\"]\n",
    "y = north[\"Cloudiness\"]\n",
    "corr = st.pearsonr(x, y)[0]\n",
    "print(f'The r-value is: {corr}')\n",
    "\n",
    "slp, intr, r, p, std = st.linregress(x,y)\n",
    "regress = slp * x + intr \n",
    "line = \"y =\" + str(round(slp, 2)) + \"x +\" + str(round(intr, 2))\n",
    "\n",
    "plt.scatter(x, y, marker='o')\n",
    "plt.plot(x, regress, \"r-\")\n",
    "plt.annotate(line,(15, 30), fontsize=13, color='red')\n",
    "plt.xlabel(\"Latitude\")\n",
    "plt.ylabel(\"Cloudiness (%)\")\n",
    "plt.show()"
   ]
  },
  {
   "cell_type": "markdown",
   "metadata": {},
   "source": [
    "####  Southern Hemisphere - Cloudiness (%) vs. Latitude Linear Regression"
   ]
  },
  {
   "cell_type": "code",
   "execution_count": 44,
   "metadata": {},
   "outputs": [
    {
     "name": "stdout",
     "output_type": "stream",
     "text": [
      "The r-value is: 0.22512210815792416\n"
     ]
    },
    {
     "data": {
      "image/png": "[encoded data removed]",
      "text/plain": [
       "<Figure size 432x288 with 1 Axes>"
      ]
     },
     "metadata": {
      "needs_background": "light"
     },
     "output_type": "display_data"
    }
   ],
   "source": [
    "x = south[\"Lat\"]\n",
    "y = south[\"Cloudiness\"]\n",
    "corr = st.pearsonr(x, y)[0]\n",
    "print(f'The r-value is: {corr}')\n",
    "\n",
    "slp, intr, r, p, std = st.linregress(x,y)\n",
    "regress = slp * x + intr \n",
    "line = \"y =\" + str(round(slp, 2)) + \"x +\" + str(round(intr, 2))\n",
    "\n",
    "plt.scatter(x, y, marker='o')\n",
    "plt.plot(x, regress, \"r-\")\n",
    "plt.annotate(line,(-55, 20), fontsize=13, color='red')\n",
    "plt.xlabel(\"Latitude\")\n",
    "plt.ylabel(\"Cloudiness (%)\")\n",
    "plt.show()"
   ]
  },
  {
   "cell_type": "markdown",
   "metadata": {},
   "source": [
    "####  Northern Hemisphere - Wind Speed (mph) vs. Latitude Linear Regression"
   ]
  },
  {
   "cell_type": "code",
   "execution_count": 45,
   "metadata": {},
   "outputs": [
    {
     "name": "stdout",
     "output_type": "stream",
     "text": [
      "The r-value is: 0.18048446034671672\n"
     ]
    },
    {
     "data": {
      "image/png": "[encoded data removed]",
      "text/plain": [
       "<Figure size 432x288 with 1 Axes>"
      ]
     },
     "metadata": {
      "needs_background": "light"
     },
     "output_type": "display_data"
    }
   ],
   "source": [
    "x = north[\"Lat\"]\n",
    "y = north[\"Wind Speed\"]\n",
    "corr = st.pearsonr(x, y)[0]\n",
    "print(f'The r-value is: {corr}')\n",
    "\n",
    "slp, intr, r, p, std = st.linregress(x,y)\n",
    "regress = slp * x + intr \n",
    "line = \"y =\" + str(round(slp, 2)) + \"x +\" + str(round(intr, 2))\n",
    "\n",
    "plt.scatter(x, y, marker='o')\n",
    "plt.plot(x, regress, \"r-\")\n",
    "plt.annotate(line,(0, 27), fontsize=13, color='red')\n",
    "plt.xlabel(\"Latitude\")\n",
    "plt.ylabel(\"Wind Speed (mph)\")\n",
    "plt.show()"
   ]
  },
  {
   "cell_type": "markdown",
   "metadata": {},
   "source": [
    "####  Southern Hemisphere - Wind Speed (mph) vs. Latitude Linear Regression"
   ]
  },
  {
   "cell_type": "code",
   "execution_count": 46,
   "metadata": {},
   "outputs": [
    {
     "name": "stdout",
     "output_type": "stream",
     "text": [
      "The r-value is: -0.19687610125043453\n"
     ]
    },
    {
     "data": {
      "image/png": "[encoded data removed]",
      "text/plain": [
       "<Figure size 432x288 with 1 Axes>"
      ]
     },
     "metadata": {
      "needs_background": "light"
     },
     "output_type": "display_data"
    }
   ],
   "source": [
    "x = south[\"Lat\"]\n",
    "y = south[\"Wind Speed\"]\n",
    "corr = st.pearsonr(x, y)[0]\n",
    "print(f'The r-value is: {corr}')\n",
    "\n",
    "slp, intr, r, p, std = st.linregress(x,y)\n",
    "regress = slp * x + intr \n",
    "line = \"y =\" + str(round(slp, 2)) + \"x +\" + str(round(intr, 2))\n",
    "\n",
    "plt.scatter(x, y, marker='o')\n",
    "plt.plot(x, regress, \"r-\")\n",
    "plt.annotate(line,(-55, 27), fontsize=13, color='red')\n",
    "plt.xlabel(\"Latitude\")\n",
    "plt.ylabel(\"Wind Speed (mph)\")\n",
    "plt.show()"
   ]
  },
  {
   "cell_type": "code",
   "execution_count": null,
   "metadata": {},
   "outputs": [],
   "source": []
  }
 ],
 "metadata": {
  "anaconda-cloud": {},
  "kernel_info": {
   "name": "python3"
  },
  "kernelspec": {
   "display_name": "Python 3",
   "language": "python",
   "name": "python3"
  },
  "language_info": {
   "codemirror_mode": {
    "name": "ipython",
    "version": 3
   },
   "file_extension": ".py",
   "mimetype": "text/x-python",
   "name": "python",
   "nbconvert_exporter": "python",
   "pygments_lexer": "ipython3",
   "version": "3.8.3"
  },
  "latex_envs": {
   "LaTeX_envs_menu_present": true,
   "autoclose": false,
   "autocomplete": true,
   "bibliofile": "biblio.bib",
   "cite_by": "apalike",
   "current_citInitial": 1,
   "eqLabelWithNumbers": true,
   "eqNumInitial": 1,
   "hotkeys": {
    "equation": "Ctrl-E",
    "itemize": "Ctrl-I"
   },
   "labels_anchors": false,
   "latex_user_defs": false,
   "report_style_numbering": false,
   "user_envs_cfg": false
  },
  "nteract": {
   "version": "0.12.3"
  }
 },
 "nbformat": 4,
 "nbformat_minor": 2
}
