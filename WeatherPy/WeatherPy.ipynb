{
 "cells": [
  {
   "cell_type": "markdown",
   "metadata": {},
   "source": [
    "# WeatherPy\n",
    "----\n",
    "\n",
    "#### Note\n",
    "* Instructions have been included for each segment. You do not have to follow them exactly, but they are included to help you think through the steps."
   ]
  },
  {
   "cell_type": "code",
   "execution_count": 10,
   "metadata": {
    "scrolled": true
   },
   "outputs": [],
   "source": [
    "# Dependencies and Setup\n",
    "import matplotlib.pyplot as plt\n",
    "import pandas as pd\n",
    "import numpy as np\n",
    "import requests\n",
    "import time\n",
    "import os \n",
    "import scipy.stats as st\n",
    "\n",
    "from datetime import date\n",
    "from pprint import pprint\n",
    "from scipy.stats import linregress\n",
    "\n",
    "# Import API key\n",
    "from api_keys import weather_api_key\n",
    "\n",
    "# Incorporated citipy to determine city based on latitude and longitude\n",
    "from citipy import citipy\n",
    "\n",
    "# Output File (CSV)\n",
    "output_data_file = \"Output_Data/cities.csv\"\n",
    "\n",
    "# Range of latitudes and longitudes\n",
    "lat_range = (-90, 90)\n",
    "lng_range = (-180, 180)"
   ]
  },
  {
   "cell_type": "markdown",
   "metadata": {},
   "source": [
    "## Generate Cities List"
   ]
  },
  {
   "cell_type": "code",
   "execution_count": 2,
   "metadata": {},
   "outputs": [
    {
     "data": {
      "text/plain": [
       "610"
      ]
     },
     "execution_count": 2,
     "metadata": {},
     "output_type": "execute_result"
    }
   ],
   "source": [
    " # List for holding lat_lngs and cities\n",
    "lat_lngs = []\n",
    "cities = []\n",
    "\n",
    "# Create a set of random lat and lng combinations\n",
    "lats = np.random.uniform(lat_range[0], lat_range[1], size=1500)\n",
    "lngs = np.random.uniform(lng_range[0], lng_range[1], size=1500)\n",
    "lat_lngs = zip(lats, lngs)\n",
    "\n",
    "# Identify nearest city for each lat, lng combination\n",
    "for lat_lng in lat_lngs:\n",
    "    city = citipy.nearest_city(lat_lng[0], lat_lng[1]).city_name\n",
    "    \n",
    "    # If the city is unique, then add it to a our cities list\n",
    "    if city not in cities:\n",
    "        cities.append(city)\n",
    "\n",
    "# Print the city count to confirm sufficient count\n",
    "len(cities)"
   ]
  },
  {
   "cell_type": "markdown",
   "metadata": {},
   "source": [
    "### Perform API Calls\n",
    "* Perform a weather check on each city using a series of successive API calls.\n",
    "* Include a print log of each city as its being processed (with the city number and city name).\n"
   ]
  },
  {
   "cell_type": "code",
   "execution_count": 3,
   "metadata": {
    "scrolled": true
   },
   "outputs": [
    {
     "name": "stdout",
     "output_type": "stream",
     "text": [
      "Beginning Data Retrieval\n",
      "-------------------------------\n",
      "City not found. Skipping...\n",
      "Processing Record 1 of Set 1 | East London\n",
      "Processing Record 2 of Set 1 | Upernavik\n",
      "Processing Record 3 of Set 1 | Buta\n",
      "City not found. Skipping...\n",
      "Processing Record 4 of Set 1 | Bukama\n",
      "Processing Record 5 of Set 1 | Dalnerechensk\n",
      "Processing Record 6 of Set 1 | Chokurdakh\n",
      "Processing Record 7 of Set 1 | Peiting\n",
      "Processing Record 8 of Set 1 | Souillac\n",
      "Processing Record 9 of Set 1 | Mataura\n",
      "Processing Record 10 of Set 1 | Beringovskiy\n",
      "Processing Record 11 of Set 1 | High Level\n",
      "Processing Record 12 of Set 1 | Kärdla\n",
      "City not found. Skipping...\n",
      "Processing Record 13 of Set 1 | Salalah\n",
      "Processing Record 14 of Set 1 | Casablanca\n",
      "Processing Record 15 of Set 1 | Kapaa\n",
      "Processing Record 16 of Set 1 | Tura\n",
      "Processing Record 17 of Set 1 | Valparaíso\n",
      "Processing Record 18 of Set 1 | Geraldton\n",
      "Processing Record 19 of Set 1 | Arman'\n",
      "Processing Record 20 of Set 1 | Marsh Harbour\n",
      "Processing Record 21 of Set 1 | São João da Barra\n",
      "Processing Record 22 of Set 1 | Hobart\n",
      "Processing Record 23 of Set 1 | Kaeo\n",
      "Processing Record 24 of Set 1 | Punta Arenas\n",
      "Processing Record 25 of Set 1 | Vaini\n",
      "Processing Record 26 of Set 1 | Sheridan\n",
      "Processing Record 27 of Set 1 | Kavaratti\n",
      "Processing Record 28 of Set 1 | Barrow\n",
      "Processing Record 29 of Set 1 | Porbandar\n",
      "Processing Record 30 of Set 1 | Tabuk\n",
      "Processing Record 31 of Set 1 | Lompoc\n",
      "Processing Record 32 of Set 1 | Butaritari\n",
      "Processing Record 33 of Set 1 | Busselton\n",
      "Processing Record 34 of Set 1 | Sitka\n",
      "City not found. Skipping...\n",
      "Processing Record 35 of Set 1 | Bubaque\n",
      "Processing Record 36 of Set 1 | Hasaki\n",
      "Processing Record 37 of Set 1 | Merauke\n",
      "Processing Record 38 of Set 1 | Maniitsoq\n",
      "Processing Record 39 of Set 1 | New Norfolk\n",
      "Processing Record 40 of Set 1 | Bluff\n",
      "Processing Record 41 of Set 1 | Egvekinot\n",
      "Processing Record 42 of Set 1 | Talnakh\n",
      "Processing Record 43 of Set 1 | Linares\n",
      "Processing Record 44 of Set 1 | Salym\n",
      "Processing Record 45 of Set 1 | Iqaluit\n",
      "Processing Record 46 of Set 1 | Beloha\n",
      "Processing Record 47 of Set 1 | Bhawānipatna\n",
      "Processing Record 48 of Set 1 | Ulaanbaatar\n",
      "Processing Record 49 of Set 1 | Chui\n",
      "City not found. Skipping...\n",
      "Processing Record 50 of Set 1 | Ushuaia\n",
      "City not found. Skipping...\n",
      "Processing Record 0 of Set 2 | Mount Isa\n",
      "Processing Record 1 of Set 2 | Huambo\n",
      "Processing Record 2 of Set 2 | Nantucket\n",
      "Processing Record 3 of Set 2 | Osório\n",
      "Processing Record 4 of Set 2 | Ariquemes\n",
      "Processing Record 5 of Set 2 | Ribeira Grande\n",
      "City not found. Skipping...\n",
      "Processing Record 6 of Set 2 | Pangnirtung\n",
      "Processing Record 7 of Set 2 | Kaitangata\n",
      "Processing Record 8 of Set 2 | Cabo San Lucas\n",
      "Processing Record 9 of Set 2 | Lüderitz\n",
      "Processing Record 10 of Set 2 | George Town\n",
      "Processing Record 11 of Set 2 | Tasiilaq\n",
      "Processing Record 12 of Set 2 | Acapulco de Juárez\n",
      "Processing Record 13 of Set 2 | Jamestown\n",
      "Processing Record 14 of Set 2 | Hermanus\n",
      "Processing Record 15 of Set 2 | Neosho\n",
      "Processing Record 16 of Set 2 | Biak\n",
      "Processing Record 17 of Set 2 | Kahului\n",
      "Processing Record 18 of Set 2 | Rikitea\n",
      "Processing Record 19 of Set 2 | Dikson\n",
      "Processing Record 20 of Set 2 | Derzhavīnsk\n",
      "Processing Record 21 of Set 2 | Dunedin\n",
      "Processing Record 22 of Set 2 | Castro\n",
      "Processing Record 23 of Set 2 | Stawell\n",
      "Processing Record 24 of Set 2 | Ambon City\n",
      "Processing Record 25 of Set 2 | Albany\n",
      "Processing Record 26 of Set 2 | Newport\n",
      "Processing Record 27 of Set 2 | Ponta do Sol\n",
      "Processing Record 28 of Set 2 | Puerto Ayora\n",
      "Processing Record 29 of Set 2 | Cidreira\n",
      "Processing Record 30 of Set 2 | Saint-Augustin\n",
      "Processing Record 31 of Set 2 | Deniliquin\n",
      "Processing Record 32 of Set 2 | Tāybād\n",
      "Processing Record 33 of Set 2 | Yangambi\n",
      "Processing Record 34 of Set 2 | Hong Kong\n",
      "Processing Record 35 of Set 2 | Atuona\n",
      "Processing Record 36 of Set 2 | Inverell\n",
      "Processing Record 37 of Set 2 | Port Alfred\n",
      "Processing Record 38 of Set 2 | Bontang\n",
      "City not found. Skipping...\n",
      "Processing Record 39 of Set 2 | Port Elizabeth\n",
      "City not found. Skipping...\n",
      "Processing Record 40 of Set 2 | Carnarvon\n",
      "Processing Record 41 of Set 2 | Chipinge\n",
      "Processing Record 42 of Set 2 | Torbay\n",
      "Processing Record 43 of Set 2 | Ostrovnoy\n",
      "Processing Record 44 of Set 2 | Alboraya\n",
      "Processing Record 45 of Set 2 | Zhezkazgan\n",
      "Processing Record 46 of Set 2 | Hauterive\n",
      "Processing Record 47 of Set 2 | Hithadhoo\n",
      "Processing Record 48 of Set 2 | Changde\n",
      "Processing Record 49 of Set 2 | Shache\n",
      "Processing Record 50 of Set 2 | At-Bashi\n",
      "Processing Record 0 of Set 3 | Ketchikan\n",
      "Processing Record 1 of Set 3 | Bathsheba\n",
      "Processing Record 2 of Set 3 | Tsuruoka\n",
      "Processing Record 3 of Set 3 | São Filipe\n",
      "Processing Record 4 of Set 3 | Kumul\n",
      "City not found. Skipping...\n",
      "Processing Record 5 of Set 3 | Martapura\n",
      "Processing Record 6 of Set 3 | Rio Claro\n",
      "Processing Record 7 of Set 3 | Bredasdorp\n",
      "Processing Record 8 of Set 3 | Vanimo\n",
      "Processing Record 9 of Set 3 | Mathathane\n",
      "Processing Record 10 of Set 3 | Acajutla\n",
      "Processing Record 11 of Set 3 | Verkhneye Kazanishche\n",
      "Processing Record 12 of Set 3 | Kachug\n",
      "Processing Record 13 of Set 3 | Bangolo\n",
      "Processing Record 14 of Set 3 | Cape Town\n",
      "Processing Record 15 of Set 3 | San Patricio\n",
      "Processing Record 16 of Set 3 | Kavieng\n",
      "City not found. Skipping...\n",
      "Processing Record 17 of Set 3 | Vieux-Habitants\n",
      "Processing Record 18 of Set 3 | Tortolì\n",
      "Processing Record 19 of Set 3 | Scarborough\n",
      "Processing Record 20 of Set 3 | Kirovskiy\n",
      "Processing Record 21 of Set 3 | Hofn\n",
      "Processing Record 22 of Set 3 | Vöcklabruck\n",
      "Processing Record 23 of Set 3 | Tacuarembó\n",
      "Processing Record 24 of Set 3 | Bharatpur\n",
      "Processing Record 25 of Set 3 | Taft\n",
      "Processing Record 26 of Set 3 | Tiksi\n",
      "Processing Record 27 of Set 3 | Port Blair\n",
      "Processing Record 28 of Set 3 | Znamenskoye\n",
      "Processing Record 29 of Set 3 | Mogocha\n",
      "Processing Record 30 of Set 3 | Nikolskoye\n",
      "Processing Record 31 of Set 3 | Kodinsk\n",
      "Processing Record 32 of Set 3 | Iquitos\n",
      "Processing Record 33 of Set 3 | Thompson\n",
      "Processing Record 34 of Set 3 | Grindavik\n",
      "Processing Record 35 of Set 3 | Saint-Philippe\n",
      "Processing Record 36 of Set 3 | Fortuna\n",
      "Processing Record 37 of Set 3 | Udachny\n",
      "Processing Record 38 of Set 3 | Saint Paul Harbor\n",
      "Processing Record 39 of Set 3 | Micomeseng\n",
      "Processing Record 40 of Set 3 | Hilo\n",
      "Processing Record 41 of Set 3 | Takanabe\n",
      "City not found. Skipping...\n",
      "Processing Record 42 of Set 3 | Batticaloa\n",
      "Processing Record 43 of Set 3 | Pimentel\n",
      "Processing Record 44 of Set 3 | Mwinilunga\n",
      "Processing Record 45 of Set 3 | Georgiyevka\n",
      "Processing Record 46 of Set 3 | Caravelas\n",
      "Processing Record 47 of Set 3 | Mizhou\n",
      "Processing Record 48 of Set 3 | Vardø\n",
      "Processing Record 49 of Set 3 | Henties Bay\n",
      "Processing Record 50 of Set 3 | Avarua\n",
      "Processing Record 0 of Set 4 | Quebo\n",
      "Processing Record 1 of Set 4 | Cockburn Town\n",
      "Processing Record 2 of Set 4 | Wanning\n",
      "Processing Record 3 of Set 4 | Cerrito\n",
      "Processing Record 4 of Set 4 | Seoul\n",
      "Processing Record 5 of Set 4 | Vila Franca do Campo\n",
      "Processing Record 6 of Set 4 | El Sauzal de Rodríguez\n",
      "Processing Record 7 of Set 4 | Panabá\n",
      "Processing Record 8 of Set 4 | Lafiagi\n",
      "Processing Record 9 of Set 4 | Arraial do Cabo\n",
      "Processing Record 10 of Set 4 | Gaza\n",
      "Processing Record 11 of Set 4 | Culebra\n",
      "Processing Record 12 of Set 4 | Oktyabr'skoye\n",
      "Processing Record 13 of Set 4 | Kiryat Gat\n",
      "Processing Record 14 of Set 4 | Clyde River\n",
      "Processing Record 15 of Set 4 | Carutapera\n",
      "Processing Record 16 of Set 4 | De-Kastri\n",
      "Processing Record 17 of Set 4 | Camacupa\n",
      "Processing Record 18 of Set 4 | Inhambane\n",
      "Processing Record 19 of Set 4 | Margate\n",
      "Processing Record 20 of Set 4 | Muros\n",
      "Processing Record 21 of Set 4 | Koumac\n",
      "City not found. Skipping...\n",
      "Processing Record 22 of Set 4 | Westerland\n",
      "Processing Record 23 of Set 4 | Lebu\n",
      "Processing Record 24 of Set 4 | Chenzhou\n",
      "Processing Record 25 of Set 4 | Varhaug\n",
      "Processing Record 26 of Set 4 | Bentiu\n",
      "Processing Record 27 of Set 4 | Yerbogachën\n",
      "Processing Record 28 of Set 4 | Bethel\n",
      "City not found. Skipping...\n",
      "City not found. Skipping...\n",
      "Processing Record 29 of Set 4 | Kununurra\n",
      "Processing Record 30 of Set 4 | Betūl\n",
      "Processing Record 31 of Set 4 | Yarmouth\n",
      "Processing Record 32 of Set 4 | Alvorada\n",
      "City not found. Skipping...\n",
      "Processing Record 33 of Set 4 | Yalutorovsk\n"
     ]
    },
    {
     "name": "stdout",
     "output_type": "stream",
     "text": [
      "Processing Record 34 of Set 4 | Valença\n",
      "Processing Record 35 of Set 4 | Nome\n",
      "Processing Record 36 of Set 4 | Tambacounda\n",
      "Processing Record 37 of Set 4 | Dawlatabad\n",
      "Processing Record 38 of Set 4 | Tsaratanana\n",
      "City not found. Skipping...\n",
      "Processing Record 39 of Set 4 | Mogadishu\n",
      "Processing Record 40 of Set 4 | Klaksvík\n",
      "Processing Record 41 of Set 4 | Caucayá\n",
      "Processing Record 42 of Set 4 | Khatanga\n",
      "Processing Record 43 of Set 4 | Rodrigues Alves\n",
      "Processing Record 44 of Set 4 | Takaungu\n",
      "Processing Record 45 of Set 4 | Qui Nhon\n",
      "Processing Record 46 of Set 4 | Rivadavia\n",
      "Processing Record 47 of Set 4 | Saskylakh\n",
      "Processing Record 48 of Set 4 | Chumikan\n",
      "Processing Record 49 of Set 4 | Tuktoyaktuk\n",
      "Processing Record 50 of Set 4 | Adrar\n",
      "City not found. Skipping...\n",
      "Processing Record 0 of Set 5 | Olafsvik\n",
      "Processing Record 1 of Set 5 | Bandarbeyla\n",
      "Processing Record 2 of Set 5 | Krasnosel'kup\n",
      "Processing Record 3 of Set 5 | Uyuni\n",
      "Processing Record 4 of Set 5 | Taos\n",
      "Processing Record 5 of Set 5 | Bambous Virieux\n",
      "Processing Record 6 of Set 5 | Leningradskiy\n",
      "Processing Record 7 of Set 5 | Aklavik\n",
      "Processing Record 8 of Set 5 | Mar del Plata\n",
      "Processing Record 9 of Set 5 | Garissa\n",
      "City not found. Skipping...\n",
      "Processing Record 10 of Set 5 | Dali\n",
      "Processing Record 11 of Set 5 | Padre Paraíso\n",
      "Processing Record 12 of Set 5 | Crixás\n",
      "Processing Record 13 of Set 5 | Kruisfontein\n",
      "Processing Record 14 of Set 5 | Sambava\n",
      "Processing Record 15 of Set 5 | Sittwe\n",
      "Processing Record 16 of Set 5 | Farafangana\n",
      "Processing Record 17 of Set 5 | Cherskiy\n",
      "Processing Record 18 of Set 5 | Hamilton\n",
      "City not found. Skipping...\n",
      "Processing Record 19 of Set 5 | San Cristobal\n",
      "Processing Record 20 of Set 5 | Poronaysk\n",
      "Processing Record 21 of Set 5 | Los Llanos de Aridane\n",
      "Processing Record 22 of Set 5 | Mabaruma\n",
      "Processing Record 23 of Set 5 | Messíni\n",
      "Processing Record 24 of Set 5 | Taltal\n",
      "Processing Record 25 of Set 5 | Batagay\n",
      "Processing Record 26 of Set 5 | Bangkal\n",
      "Processing Record 27 of Set 5 | Coquimbo\n",
      "Processing Record 28 of Set 5 | Naro Moru\n",
      "Processing Record 29 of Set 5 | Lorengau\n",
      "Processing Record 30 of Set 5 | Yellowknife\n",
      "Processing Record 31 of Set 5 | Marabba\n",
      "Processing Record 32 of Set 5 | Arrondissement du Havre\n",
      "Processing Record 33 of Set 5 | Ilulissat\n",
      "Processing Record 34 of Set 5 | Derazhnya\n",
      "Processing Record 35 of Set 5 | Alta Floresta\n",
      "Processing Record 36 of Set 5 | Nanortalik\n",
      "Processing Record 37 of Set 5 | Campina Grande do Sul\n",
      "Processing Record 38 of Set 5 | Gizo Government Station\n",
      "Processing Record 39 of Set 5 | Pevek\n",
      "Processing Record 40 of Set 5 | Airai\n",
      "Processing Record 41 of Set 5 | Clearwater\n",
      "City not found. Skipping...\n",
      "Processing Record 42 of Set 5 | Erzin\n",
      "City not found. Skipping...\n",
      "Processing Record 43 of Set 5 | Itoman\n",
      "Processing Record 44 of Set 5 | Muriti\n",
      "Processing Record 45 of Set 5 | Beyneu\n",
      "City not found. Skipping...\n",
      "Processing Record 46 of Set 5 | Baoning\n",
      "Processing Record 47 of Set 5 | Raudeberg\n",
      "Processing Record 48 of Set 5 | Yārāda\n",
      "Processing Record 49 of Set 5 | Sept-Îles\n",
      "City not found. Skipping...\n",
      "Processing Record 50 of Set 5 | Tessalit\n",
      "Processing Record 0 of Set 6 | Boulder City\n",
      "City not found. Skipping...\n",
      "Processing Record 1 of Set 6 | Maceió\n",
      "Processing Record 2 of Set 6 | Saint-Pierre\n",
      "Processing Record 3 of Set 6 | Mitsamiouli\n",
      "Processing Record 4 of Set 6 | Vostok\n",
      "Processing Record 5 of Set 6 | Coahuayana Viejo\n",
      "Processing Record 6 of Set 6 | Sabang\n",
      "Processing Record 7 of Set 6 | Norman Wells\n",
      "Processing Record 8 of Set 6 | Paciran\n",
      "Processing Record 9 of Set 6 | Belém de São Francisco\n",
      "City not found. Skipping...\n",
      "Processing Record 10 of Set 6 | Thinadhoo\n",
      "Processing Record 11 of Set 6 | Pisco\n",
      "Processing Record 12 of Set 6 | Cocal\n",
      "Processing Record 13 of Set 6 | Mossamedes\n",
      "Processing Record 14 of Set 6 | Magadan\n",
      "Processing Record 15 of Set 6 | Aitape\n",
      "Processing Record 16 of Set 6 | Montepuez\n",
      "Processing Record 17 of Set 6 | Ventspils\n",
      "Processing Record 18 of Set 6 | Korla\n",
      "Processing Record 19 of Set 6 | Poum\n",
      "Processing Record 20 of Set 6 | Leshukonskoye\n",
      "Processing Record 21 of Set 6 | Provideniya\n",
      "Processing Record 22 of Set 6 | Colchester\n",
      "Processing Record 23 of Set 6 | Mitú\n",
      "Processing Record 24 of Set 6 | Niquero\n",
      "Processing Record 25 of Set 6 | Itambé\n",
      "Processing Record 26 of Set 6 | Erzincan Province\n",
      "Processing Record 27 of Set 6 | Mbala\n",
      "Processing Record 28 of Set 6 | Qaanaaq\n",
      "Processing Record 29 of Set 6 | Yumen\n",
      "Processing Record 30 of Set 6 | Marihatag\n",
      "Processing Record 31 of Set 6 | Russell\n",
      "Processing Record 32 of Set 6 | Esperance\n",
      "Processing Record 33 of Set 6 | Mehamn\n",
      "Processing Record 34 of Set 6 | Clarksburg\n",
      "Processing Record 35 of Set 6 | Half Moon Bay\n",
      "Processing Record 36 of Set 6 | Stykkisholmur\n",
      "Processing Record 37 of Set 6 | Medicine Hat\n",
      "Processing Record 38 of Set 6 | Lakselv\n",
      "Processing Record 39 of Set 6 | Mananjary\n",
      "Processing Record 40 of Set 6 | Nelson\n",
      "City not found. Skipping...\n",
      "Processing Record 41 of Set 6 | Sorong\n",
      "Processing Record 42 of Set 6 | Loíza\n",
      "Processing Record 43 of Set 6 | La Ronge\n",
      "Processing Record 44 of Set 6 | Mahébourg\n",
      "Processing Record 45 of Set 6 | Ossora\n",
      "Processing Record 46 of Set 6 | Constitución\n",
      "Processing Record 47 of Set 6 | Havøysund\n",
      "Processing Record 48 of Set 6 | Tawang Town\n",
      "Processing Record 49 of Set 6 | Oranjemund\n",
      "Processing Record 50 of Set 6 | Chapais\n",
      "Processing Record 0 of Set 7 | Kurush\n",
      "Processing Record 1 of Set 7 | Puerto Baquerizo Moreno\n",
      "Processing Record 2 of Set 7 | Ambulu\n",
      "Processing Record 3 of Set 7 | Tungor\n",
      "Processing Record 4 of Set 7 | Polyarny\n",
      "Processing Record 5 of Set 7 | Māngrol\n",
      "Processing Record 6 of Set 7 | Deputatsky\n",
      "City not found. Skipping...\n",
      "Processing Record 7 of Set 7 | Yar-Sale\n",
      "Processing Record 8 of Set 7 | Syracuse\n",
      "Processing Record 9 of Set 7 | Katsuura\n",
      "Processing Record 10 of Set 7 | Arrondissement de Langres\n",
      "Processing Record 11 of Set 7 | Makakilo City\n",
      "Processing Record 12 of Set 7 | Mahibadhoo\n",
      "Processing Record 13 of Set 7 | Fukuechō\n",
      "Processing Record 14 of Set 7 | Kyren\n",
      "Processing Record 15 of Set 7 | Kukuna\n",
      "Processing Record 16 of Set 7 | Anicuns\n",
      "Processing Record 17 of Set 7 | Severo-Kuril'sk\n",
      "Processing Record 18 of Set 7 | Khasan\n",
      "Processing Record 19 of Set 7 | Cedar City\n",
      "City not found. Skipping...\n",
      "Processing Record 20 of Set 7 | Murray Bridge\n",
      "Processing Record 21 of Set 7 | Santiago del Estero\n",
      "Processing Record 22 of Set 7 | Lubao\n",
      "Processing Record 23 of Set 7 | Srednekolymsk\n",
      "Processing Record 24 of Set 7 | Amapá\n",
      "Processing Record 25 of Set 7 | Brae\n",
      "Processing Record 26 of Set 7 | Labuan\n",
      "City not found. Skipping...\n",
      "Processing Record 27 of Set 7 | Helmsdale\n",
      "City not found. Skipping...\n",
      "Processing Record 28 of Set 7 | Eureka\n",
      "Processing Record 29 of Set 7 | Zhigansk\n",
      "Processing Record 30 of Set 7 | Ondjiva\n",
      "Processing Record 31 of Set 7 | Fare\n",
      "Processing Record 32 of Set 7 | Kungurtug\n",
      "Processing Record 33 of Set 7 | Kulhudhuffushi\n",
      "Processing Record 34 of Set 7 | Douglas\n",
      "Processing Record 35 of Set 7 | Chulym\n",
      "Processing Record 36 of Set 7 | Harper\n",
      "Processing Record 37 of Set 7 | Emerald\n",
      "Processing Record 38 of Set 7 | Wanxian\n",
      "City not found. Skipping...\n",
      "Processing Record 39 of Set 7 | Sohāgpur\n",
      "Processing Record 40 of Set 7 | Meulaboh\n",
      "Processing Record 41 of Set 7 | Port Hardy\n",
      "Processing Record 42 of Set 7 | Gorontalo\n",
      "Processing Record 43 of Set 7 | Khartoum\n",
      "Processing Record 44 of Set 7 | Rome\n",
      "Processing Record 45 of Set 7 | Vazante\n",
      "Processing Record 46 of Set 7 | Karera\n",
      "Processing Record 47 of Set 7 | Pereleshino\n",
      "Processing Record 48 of Set 7 | Iisalmi\n",
      "Processing Record 49 of Set 7 | Yining\n",
      "Processing Record 50 of Set 7 | Moranbah\n",
      "Processing Record 0 of Set 8 | Santa Maria\n",
      "Processing Record 1 of Set 8 | Skibbereen\n",
      "Processing Record 2 of Set 8 | Ormara\n",
      "Processing Record 3 of Set 8 | Kikwit\n",
      "Processing Record 4 of Set 8 | Sampit\n",
      "Processing Record 5 of Set 8 | Dongli\n",
      "Processing Record 6 of Set 8 | Øksfjord\n",
      "Processing Record 7 of Set 8 | Tateyama\n",
      "Processing Record 8 of Set 8 | Todos Santos\n",
      "Processing Record 9 of Set 8 | Kristiansund\n",
      "Processing Record 10 of Set 8 | Dalvik\n",
      "Processing Record 11 of Set 8 | Husavik\n",
      "Processing Record 12 of Set 8 | La Rioja\n",
      "Processing Record 13 of Set 8 | Moose Factory\n",
      "Processing Record 14 of Set 8 | Deer Lake\n",
      "Processing Record 15 of Set 8 | Laguna Niguel\n"
     ]
    },
    {
     "name": "stdout",
     "output_type": "stream",
     "text": [
      "Processing Record 16 of Set 8 | Omsukchan\n",
      "Processing Record 17 of Set 8 | Lagoa\n",
      "Processing Record 18 of Set 8 | Marquette\n",
      "Processing Record 19 of Set 8 | Kidal\n",
      "Processing Record 20 of Set 8 | Micheweni\n",
      "Processing Record 21 of Set 8 | Port Augusta\n",
      "Processing Record 22 of Set 8 | Saldanha\n",
      "Processing Record 23 of Set 8 | Hay River\n",
      "Processing Record 24 of Set 8 | Vila Velha\n",
      "Processing Record 25 of Set 8 | Prince Rupert\n",
      "Processing Record 26 of Set 8 | Faanui\n",
      "Processing Record 27 of Set 8 | Boyolangu\n",
      "City not found. Skipping...\n",
      "Processing Record 28 of Set 8 | Bacolod City\n",
      "Processing Record 29 of Set 8 | Kalmunai\n",
      "Processing Record 30 of Set 8 | Pecos\n",
      "Processing Record 31 of Set 8 | Dudinka\n",
      "Processing Record 32 of Set 8 | Nchelenge\n",
      "Processing Record 33 of Set 8 | Guerrero Negro\n",
      "Processing Record 34 of Set 8 | Saint Anthony\n",
      "Processing Record 35 of Set 8 | Deming\n",
      "Processing Record 36 of Set 8 | Kandrian\n",
      "Processing Record 37 of Set 8 | Sobolevo\n",
      "Processing Record 38 of Set 8 | Byron Bay\n",
      "Processing Record 39 of Set 8 | Ixtapa\n",
      "Processing Record 40 of Set 8 | Mount Gambier\n",
      "Processing Record 41 of Set 8 | Yala\n",
      "Processing Record 42 of Set 8 | San Gabriel\n",
      "Processing Record 43 of Set 8 | Iralaya\n",
      "Processing Record 44 of Set 8 | Lábrea\n",
      "Processing Record 45 of Set 8 | Mbandaka\n",
      "Processing Record 46 of Set 8 | Ancud\n",
      "Processing Record 47 of Set 8 | Bulawayo\n",
      "Processing Record 48 of Set 8 | Tūkrah\n",
      "Processing Record 49 of Set 8 | Ginda\n",
      "Processing Record 50 of Set 8 | Xining\n",
      "Processing Record 0 of Set 9 | Innisfail\n",
      "Processing Record 1 of Set 9 | Sosnovo-Ozerskoye\n",
      "Processing Record 2 of Set 9 | Okhotsk\n",
      "Processing Record 3 of Set 9 | Leh\n",
      "Processing Record 4 of Set 9 | Nara\n",
      "Processing Record 5 of Set 9 | San Javier\n",
      "Processing Record 6 of Set 9 | Pajapan\n",
      "Processing Record 7 of Set 9 | Belyy Yar\n",
      "Processing Record 8 of Set 9 | Jieshi\n",
      "Processing Record 9 of Set 9 | Itaituba\n",
      "Processing Record 10 of Set 9 | Departamento de Maldonado\n",
      "Processing Record 11 of Set 9 | Sørland\n",
      "Processing Record 12 of Set 9 | Necochea\n",
      "Processing Record 13 of Set 9 | Bar Harbor\n",
      "Processing Record 14 of Set 9 | Taoudenni\n",
      "Processing Record 15 of Set 9 | Port Said\n",
      "Processing Record 16 of Set 9 | Corumbá\n",
      "Processing Record 17 of Set 9 | Mizdah\n",
      "Processing Record 18 of Set 9 | Yarensk\n",
      "City not found. Skipping...\n",
      "Processing Record 19 of Set 9 | Impfondo\n",
      "Processing Record 20 of Set 9 | Owen Sound\n",
      "Processing Record 21 of Set 9 | Sokołów Podlaski\n",
      "Processing Record 22 of Set 9 | Tautira\n",
      "Processing Record 23 of Set 9 | Cabedelo\n",
      "Processing Record 24 of Set 9 | Flin Flon\n",
      "Processing Record 25 of Set 9 | Broome\n",
      "Processing Record 26 of Set 9 | Hobyo\n",
      "City not found. Skipping...\n",
      "Processing Record 27 of Set 9 | North Platte\n",
      "Processing Record 28 of Set 9 | Aykhal\n",
      "Processing Record 29 of Set 9 | Longyearbyen\n",
      "Processing Record 30 of Set 9 | Torres\n",
      "Processing Record 31 of Set 9 | Atasū\n",
      "Processing Record 32 of Set 9 | Winnemucca\n",
      "Processing Record 33 of Set 9 | Sisimiut\n",
      "Processing Record 34 of Set 9 | Port-Gentil\n",
      "Processing Record 35 of Set 9 | Cedar Rapids\n",
      "Processing Record 36 of Set 9 | Eyl\n",
      "Processing Record 37 of Set 9 | Quatre Cocos\n",
      "Processing Record 38 of Set 9 | Kiunga\n",
      "City not found. Skipping...\n",
      "Processing Record 39 of Set 9 | Avera\n",
      "Processing Record 40 of Set 9 | Port Macquarie\n",
      "Processing Record 41 of Set 9 | Muroto-misakicho\n",
      "Processing Record 42 of Set 9 | Pacific Grove\n",
      "Processing Record 43 of Set 9 | Āzādshahr\n",
      "Processing Record 44 of Set 9 | Ponta Delgada\n",
      "Processing Record 45 of Set 9 | Kirakira\n",
      "City not found. Skipping...\n",
      "Processing Record 46 of Set 9 | Pelym\n",
      "Processing Record 47 of Set 9 | Laguna\n",
      "Processing Record 48 of Set 9 | Berlevåg\n",
      "Processing Record 49 of Set 9 | Asău\n",
      "Processing Record 50 of Set 9 | Sechura\n",
      "Processing Record 0 of Set 10 | Portland\n",
      "Processing Record 1 of Set 10 | Haines Junction\n",
      "Processing Record 2 of Set 10 | Manche\n",
      "Processing Record 3 of Set 10 | ‘Āhuimanu\n",
      "Processing Record 4 of Set 10 | Namatanai\n",
      "Processing Record 5 of Set 10 | La Romana\n",
      "City not found. Skipping...\n",
      "Processing Record 6 of Set 10 | Kroya\n",
      "Processing Record 7 of Set 10 | Blytheville\n",
      "Processing Record 8 of Set 10 | Mbulu\n",
      "Processing Record 9 of Set 10 | Vangaindrano\n",
      "Processing Record 10 of Set 10 | Yangjiang\n",
      "Processing Record 11 of Set 10 | Pangody\n",
      "Processing Record 12 of Set 10 | Westport\n",
      "Processing Record 13 of Set 10 | Spassk\n",
      "City not found. Skipping...\n",
      "Processing Record 14 of Set 10 | Pehowa\n",
      "Processing Record 15 of Set 10 | Zaysan\n",
      "Processing Record 16 of Set 10 | Santarém\n",
      "Processing Record 17 of Set 10 | Teeli\n",
      "Processing Record 18 of Set 10 | Lovington\n",
      "Processing Record 19 of Set 10 | Ambilobe\n",
      "Processing Record 20 of Set 10 | Barinitas\n",
      "Processing Record 21 of Set 10 | Soyo\n",
      "Processing Record 22 of Set 10 | Cartagena del Chairá\n",
      "Processing Record 23 of Set 10 | Kot Diji\n",
      "Processing Record 24 of Set 10 | Houma\n",
      "Processing Record 25 of Set 10 | Andenes\n",
      "Processing Record 26 of Set 10 | Lastra a Signa\n",
      "Processing Record 27 of Set 10 | Province of Mantua\n",
      "Processing Record 28 of Set 10 | Sola\n",
      "Processing Record 29 of Set 10 | Tuatapere\n",
      "Processing Record 30 of Set 10 | Calabozo\n",
      "Processing Record 31 of Set 10 | Gravdal\n",
      "Processing Record 32 of Set 10 | Diré\n",
      "Processing Record 33 of Set 10 | Rubtsovsk\n",
      "Processing Record 34 of Set 10 | Gamba\n",
      "Processing Record 35 of Set 10 | Anchorage\n",
      "Processing Record 36 of Set 10 | Wanaka\n",
      "Processing Record 37 of Set 10 | Touros\n",
      "Processing Record 38 of Set 10 | Beaumont\n",
      "Processing Record 39 of Set 10 | Santa Cruz Cabrália\n",
      "Processing Record 40 of Set 10 | Imeni Poliny Osipenko\n",
      "Processing Record 41 of Set 10 | Te Anau\n",
      "Processing Record 42 of Set 10 | Annonay\n",
      "Processing Record 43 of Set 10 | Krasnoborsk\n",
      "Processing Record 44 of Set 10 | Katherine\n",
      "Processing Record 45 of Set 10 | Homer\n",
      "Processing Record 46 of Set 10 | Bahía Blanca\n",
      "Processing Record 47 of Set 10 | Halifax\n",
      "Processing Record 48 of Set 10 | Umluj\n",
      "Processing Record 49 of Set 10 | Omboué\n",
      "Processing Record 50 of Set 10 | Solnechnyy\n",
      "Processing Record 0 of Set 11 | Nemuro\n",
      "Processing Record 1 of Set 11 | Kieta\n",
      "Processing Record 2 of Set 11 | Lavrentiya\n",
      "Processing Record 3 of Set 11 | Camaná\n",
      "Processing Record 4 of Set 11 | Vad\n",
      "Processing Record 5 of Set 11 | Isangel\n",
      "Processing Record 6 of Set 11 | Codrington\n",
      "Processing Record 7 of Set 11 | Hambantota\n",
      "Processing Record 8 of Set 11 | Katobu\n",
      "Processing Record 9 of Set 11 | Port Keats\n",
      "Processing Record 10 of Set 11 | Kalga\n",
      "Processing Record 11 of Set 11 | Okha\n",
      "Processing Record 12 of Set 11 | Laas\n",
      "Processing Record 13 of Set 11 | Wajima\n",
      "Processing Record 14 of Set 11 | Oxelösund\n",
      "Processing Record 15 of Set 11 | Macamic\n",
      "Processing Record 16 of Set 11 | Puerto Madryn\n",
      "Processing Record 17 of Set 11 | Wenatchee\n",
      "Processing Record 18 of Set 11 | Sovetskiy\n",
      "Processing Record 19 of Set 11 | Zarubino\n",
      "Processing Record 20 of Set 11 | San Miguel de Tucumán\n",
      "Processing Record 21 of Set 11 | Paamiut\n",
      "Processing Record 22 of Set 11 | San José del Palmar\n",
      "Processing Record 23 of Set 11 | Doha\n",
      "Processing Record 24 of Set 11 | Pontian Kecil\n",
      "Processing Record 25 of Set 11 | Moerai\n",
      "Processing Record 26 of Set 11 | Faya\n",
      "Processing Record 27 of Set 11 | Rawson\n",
      "Processing Record 28 of Set 11 | Ugoofaaru\n",
      "Processing Record 29 of Set 11 | Ponte de Sôr\n",
      "Processing Record 30 of Set 11 | Farafenni\n",
      "Processing Record 31 of Set 11 | Cururupu\n",
      "Processing Record 32 of Set 11 | San Andrés\n",
      "Processing Record 33 of Set 11 | Shimoda\n",
      "Processing Record 34 of Set 11 | Great Falls\n",
      "Processing Record 35 of Set 11 | Teguise\n",
      "City not found. Skipping...\n",
      "Processing Record 36 of Set 11 | Regeneração\n",
      "Processing Record 37 of Set 11 | Bushehr\n",
      "Processing Record 38 of Set 11 | Visnes\n",
      "Processing Record 39 of Set 11 | Belaya Gora\n",
      "Processing Record 40 of Set 11 | Oktyabr'skiy\n",
      "Processing Record 41 of Set 11 | Port Hedland\n",
      "Processing Record 42 of Set 11 | Trelew\n",
      "Processing Record 43 of Set 11 | Banda Aceh\n",
      "Processing Record 44 of Set 11 | Parrita\n",
      "Processing Record 45 of Set 11 | Parintins\n",
      "Processing Record 46 of Set 11 | Craig\n",
      "City not found. Skipping...\n",
      "Processing Record 47 of Set 11 | Kunming\n",
      "Processing Record 48 of Set 11 | Boa Vista\n",
      "Processing Record 49 of Set 11 | Qobustan\n",
      "Processing Record 50 of Set 11 | Charters Towers\n",
      "Processing Record 0 of Set 12 | Linxia Chengguanzhen\n",
      "Processing Record 1 of Set 12 | Ahipara\n"
     ]
    },
    {
     "name": "stdout",
     "output_type": "stream",
     "text": [
      "Processing Record 2 of Set 12 | Ploemeur\n",
      "Processing Record 3 of Set 12 | Nizwá\n",
      "Processing Record 4 of Set 12 | Rāmpura\n",
      "Processing Record 5 of Set 12 | Kamina\n",
      "Processing Record 6 of Set 12 | Río Gallegos\n",
      "Processing Record 7 of Set 12 | Breves\n",
      "Processing Record 8 of Set 12 | Fairbanks\n",
      "-----------------------------\n",
      "Data Retrieval Complete\n",
      "-----------------------------\n"
     ]
    }
   ],
   "source": [
    "#set query url and unit measuremnt type\n",
    "url = \"http://api.openweathermap.org/data/2.5/weather?\"\n",
    "units = \"imperial\"\n",
    "query_url = f\"{url}appid={weather_api_key}&units={units}&q=\"\n",
    "\n",
    "#set lists to hold df values\n",
    "name = []\n",
    "country = []\n",
    "lat = []\n",
    "lon = []\n",
    "max_temp = []\n",
    "hum = []\n",
    "clouds = []\n",
    "wind_speed = []\n",
    "date = []\n",
    "\n",
    "#set record and set count\n",
    "record = 0\n",
    "set_count = 1\n",
    "\n",
    "#format print log\n",
    "print(f\"Beginning Data Retrieval\")\n",
    "print(f\"-------------------------------\")\n",
    "\n",
    "for index, city in enumerate(cities, start = 1): \n",
    "    response = requests.get(query_url + city).json()\n",
    "    #pprint(response)\n",
    "    \n",
    "    try:\n",
    "        name.append(response[\"name\"])\n",
    "        country.append(response[\"sys\"][\"country\"])\n",
    "        lat.append(response[\"coord\"][\"lat\"])\n",
    "        lon.append(response[\"coord\"][\"lon\"])\n",
    "        max_temp.append(response[\"main\"][\"temp_max\"])\n",
    "        hum.append(response[\"main\"][\"humidity\"])\n",
    "        clouds.append(response[\"clouds\"][\"all\"])\n",
    "        wind_speed.append(response[\"wind\"][\"speed\"])\n",
    "        date.append(response[\"dt\"])       \n",
    "        city_name = response[\"name\"]\n",
    "        \n",
    "        if record > 49:\n",
    "            record = 0\n",
    "            set_count = set_count + 1\n",
    "        else:\n",
    "            record = record + 1\n",
    "            \n",
    "        print(f\"Processing Record {record} of Set {set_count} | {city_name}\")\n",
    "        \n",
    "        time.sleep(1)\n",
    "        \n",
    "    except:\n",
    "        print(f\"City not found. Skipping...\")\n",
    "    continue\n",
    "    \n",
    "print(\"-----------------------------\")\n",
    "print(\"Data Retrieval Complete\")\n",
    "print(\"-----------------------------\")"
   ]
  },
  {
   "cell_type": "markdown",
   "metadata": {},
   "source": [
    "### Convert Raw Data to DataFrame\n",
    "* Export the city data into a .csv.\n",
    "* Display the DataFrame\n"
   ]
  },
  {
   "cell_type": "code",
   "execution_count": 4,
   "metadata": {},
   "outputs": [
    {
     "data": {
      "text/html": [
       "<div>\n",
       "<style scoped>\n",
       "    .dataframe tbody tr th:only-of-type {\n",
       "        vertical-align: middle;\n",
       "    }\n",
       "\n",
       "    .dataframe tbody tr th {\n",
       "        vertical-align: top;\n",
       "    }\n",
       "\n",
       "    .dataframe thead th {\n",
       "        text-align: right;\n",
       "    }\n",
       "</style>\n",
       "<table border=\"1\" class=\"dataframe\">\n",
       "  <thead>\n",
       "    <tr style=\"text-align: right;\">\n",
       "      <th></th>\n",
       "      <th>City</th>\n",
       "      <th>Lat</th>\n",
       "      <th>Lng</th>\n",
       "      <th>Max Temp</th>\n",
       "      <th>Humidity</th>\n",
       "      <th>Cloudiness</th>\n",
       "      <th>Wind Speed</th>\n",
       "      <th>Country</th>\n",
       "      <th>Date</th>\n",
       "    </tr>\n",
       "  </thead>\n",
       "  <tbody>\n",
       "    <tr>\n",
       "      <th>0</th>\n",
       "      <td>East London</td>\n",
       "      <td>-33.0153</td>\n",
       "      <td>27.9116</td>\n",
       "      <td>73.40</td>\n",
       "      <td>83</td>\n",
       "      <td>40</td>\n",
       "      <td>10.29</td>\n",
       "      <td>ZA</td>\n",
       "      <td>1609867444</td>\n",
       "    </tr>\n",
       "    <tr>\n",
       "      <th>1</th>\n",
       "      <td>Upernavik</td>\n",
       "      <td>72.7868</td>\n",
       "      <td>-56.1549</td>\n",
       "      <td>7.32</td>\n",
       "      <td>94</td>\n",
       "      <td>100</td>\n",
       "      <td>27.87</td>\n",
       "      <td>GL</td>\n",
       "      <td>1609867445</td>\n",
       "    </tr>\n",
       "    <tr>\n",
       "      <th>2</th>\n",
       "      <td>Buta</td>\n",
       "      <td>2.7858</td>\n",
       "      <td>24.7300</td>\n",
       "      <td>79.34</td>\n",
       "      <td>66</td>\n",
       "      <td>75</td>\n",
       "      <td>1.86</td>\n",
       "      <td>CD</td>\n",
       "      <td>1609867446</td>\n",
       "    </tr>\n",
       "    <tr>\n",
       "      <th>3</th>\n",
       "      <td>Bukama</td>\n",
       "      <td>-9.2000</td>\n",
       "      <td>25.8500</td>\n",
       "      <td>72.21</td>\n",
       "      <td>90</td>\n",
       "      <td>69</td>\n",
       "      <td>1.32</td>\n",
       "      <td>CD</td>\n",
       "      <td>1609867448</td>\n",
       "    </tr>\n",
       "    <tr>\n",
       "      <th>4</th>\n",
       "      <td>Dalnerechensk</td>\n",
       "      <td>45.9339</td>\n",
       "      <td>133.7225</td>\n",
       "      <td>-16.71</td>\n",
       "      <td>87</td>\n",
       "      <td>1</td>\n",
       "      <td>4.92</td>\n",
       "      <td>RU</td>\n",
       "      <td>1609867449</td>\n",
       "    </tr>\n",
       "  </tbody>\n",
       "</table>\n",
       "</div>"
      ],
      "text/plain": [
       "            City      Lat       Lng  Max Temp  Humidity  Cloudiness  \\\n",
       "0    East London -33.0153   27.9116     73.40        83          40   \n",
       "1      Upernavik  72.7868  -56.1549      7.32        94         100   \n",
       "2           Buta   2.7858   24.7300     79.34        66          75   \n",
       "3         Bukama  -9.2000   25.8500     72.21        90          69   \n",
       "4  Dalnerechensk  45.9339  133.7225    -16.71        87           1   \n",
       "\n",
       "   Wind Speed Country        Date  \n",
       "0       10.29      ZA  1609867444  \n",
       "1       27.87      GL  1609867445  \n",
       "2        1.86      CD  1609867446  \n",
       "3        1.32      CD  1609867448  \n",
       "4        4.92      RU  1609867449  "
      ]
     },
     "execution_count": 4,
     "metadata": {},
     "output_type": "execute_result"
    }
   ],
   "source": [
    "#create df of city weather \n",
    "city_weather = pd.DataFrame({\"City\": name,\n",
    "                             \"Lat\": lat,\n",
    "                             \"Lng\": lon,\n",
    "                             \"Max Temp\": max_temp,\n",
    "                             \"Humidity\": hum,\n",
    "                             \"Cloudiness\": clouds,\n",
    "                             \"Wind Speed\": wind_speed,\n",
    "                             \"Country\": country,\n",
    "                             \"Date\": date})\n",
    "\n",
    "#set output file and write df to a csv\n",
    "output_file = os.path.join(\"..\", \"Output_Data\", \"cities.csv\")\n",
    "\n",
    "city_weather.to_csv(output_file, index=True, header=True)\n",
    "city_weather.head()"
   ]
  },
  {
   "cell_type": "code",
   "execution_count": 5,
   "metadata": {},
   "outputs": [
    {
     "data": {
      "text/html": [
       "<div>\n",
       "<style scoped>\n",
       "    .dataframe tbody tr th:only-of-type {\n",
       "        vertical-align: middle;\n",
       "    }\n",
       "\n",
       "    .dataframe tbody tr th {\n",
       "        vertical-align: top;\n",
       "    }\n",
       "\n",
       "    .dataframe thead th {\n",
       "        text-align: right;\n",
       "    }\n",
       "</style>\n",
       "<table border=\"1\" class=\"dataframe\">\n",
       "  <thead>\n",
       "    <tr style=\"text-align: right;\">\n",
       "      <th></th>\n",
       "      <th>Lat</th>\n",
       "      <th>Lng</th>\n",
       "      <th>Max Temp</th>\n",
       "      <th>Humidity</th>\n",
       "      <th>Cloudiness</th>\n",
       "      <th>Wind Speed</th>\n",
       "      <th>Date</th>\n",
       "    </tr>\n",
       "  </thead>\n",
       "  <tbody>\n",
       "    <tr>\n",
       "      <th>count</th>\n",
       "      <td>569.000000</td>\n",
       "      <td>569.000000</td>\n",
       "      <td>569.000000</td>\n",
       "      <td>569.000000</td>\n",
       "      <td>569.000000</td>\n",
       "      <td>569.000000</td>\n",
       "      <td>5.690000e+02</td>\n",
       "    </tr>\n",
       "    <tr>\n",
       "      <th>mean</th>\n",
       "      <td>20.022135</td>\n",
       "      <td>17.411164</td>\n",
       "      <td>50.134376</td>\n",
       "      <td>74.746924</td>\n",
       "      <td>59.553603</td>\n",
       "      <td>8.295062</td>\n",
       "      <td>1.609868e+09</td>\n",
       "    </tr>\n",
       "    <tr>\n",
       "      <th>std</th>\n",
       "      <td>33.482138</td>\n",
       "      <td>91.199615</td>\n",
       "      <td>33.228176</td>\n",
       "      <td>18.321924</td>\n",
       "      <td>37.305425</td>\n",
       "      <td>6.112411</td>\n",
       "      <td>2.153970e+02</td>\n",
       "    </tr>\n",
       "    <tr>\n",
       "      <th>min</th>\n",
       "      <td>-54.800000</td>\n",
       "      <td>-179.166700</td>\n",
       "      <td>-39.210000</td>\n",
       "      <td>11.000000</td>\n",
       "      <td>0.000000</td>\n",
       "      <td>0.130000</td>\n",
       "      <td>1.609867e+09</td>\n",
       "    </tr>\n",
       "    <tr>\n",
       "      <th>25%</th>\n",
       "      <td>-7.633100</td>\n",
       "      <td>-64.261500</td>\n",
       "      <td>33.800000</td>\n",
       "      <td>66.000000</td>\n",
       "      <td>20.000000</td>\n",
       "      <td>3.940000</td>\n",
       "      <td>1.609868e+09</td>\n",
       "    </tr>\n",
       "    <tr>\n",
       "      <th>50%</th>\n",
       "      <td>23.565600</td>\n",
       "      <td>21.560600</td>\n",
       "      <td>60.510000</td>\n",
       "      <td>80.000000</td>\n",
       "      <td>75.000000</td>\n",
       "      <td>6.930000</td>\n",
       "      <td>1.609868e+09</td>\n",
       "    </tr>\n",
       "    <tr>\n",
       "      <th>75%</th>\n",
       "      <td>48.016700</td>\n",
       "      <td>97.522800</td>\n",
       "      <td>77.000000</td>\n",
       "      <td>88.000000</td>\n",
       "      <td>90.000000</td>\n",
       "      <td>11.180000</td>\n",
       "      <td>1.609868e+09</td>\n",
       "    </tr>\n",
       "    <tr>\n",
       "      <th>max</th>\n",
       "      <td>78.218600</td>\n",
       "      <td>179.316700</td>\n",
       "      <td>104.000000</td>\n",
       "      <td>100.000000</td>\n",
       "      <td>100.000000</td>\n",
       "      <td>46.080000</td>\n",
       "      <td>1.609868e+09</td>\n",
       "    </tr>\n",
       "  </tbody>\n",
       "</table>\n",
       "</div>"
      ],
      "text/plain": [
       "              Lat         Lng    Max Temp    Humidity  Cloudiness  Wind Speed  \\\n",
       "count  569.000000  569.000000  569.000000  569.000000  569.000000  569.000000   \n",
       "mean    20.022135   17.411164   50.134376   74.746924   59.553603    8.295062   \n",
       "std     33.482138   91.199615   33.228176   18.321924   37.305425    6.112411   \n",
       "min    -54.800000 -179.166700  -39.210000   11.000000    0.000000    0.130000   \n",
       "25%     -7.633100  -64.261500   33.800000   66.000000   20.000000    3.940000   \n",
       "50%     23.565600   21.560600   60.510000   80.000000   75.000000    6.930000   \n",
       "75%     48.016700   97.522800   77.000000   88.000000   90.000000   11.180000   \n",
       "max     78.218600  179.316700  104.000000  100.000000  100.000000   46.080000   \n",
       "\n",
       "               Date  \n",
       "count  5.690000e+02  \n",
       "mean   1.609868e+09  \n",
       "std    2.153970e+02  \n",
       "min    1.609867e+09  \n",
       "25%    1.609868e+09  \n",
       "50%    1.609868e+09  \n",
       "75%    1.609868e+09  \n",
       "max    1.609868e+09  "
      ]
     },
     "execution_count": 5,
     "metadata": {},
     "output_type": "execute_result"
    }
   ],
   "source": [
    "#calculate descriptive statistics \n",
    "city_weather.describe()"
   ]
  },
  {
   "cell_type": "markdown",
   "metadata": {},
   "source": [
    "## Inspect the data and remove the cities where the humidity > 100%.\n",
    "----\n",
    "Skip this step if there are no cities that have humidity > 100%. "
   ]
  },
  {
   "cell_type": "code",
   "execution_count": 6,
   "metadata": {},
   "outputs": [
    {
     "data": {
      "text/html": [
       "<div>\n",
       "<style scoped>\n",
       "    .dataframe tbody tr th:only-of-type {\n",
       "        vertical-align: middle;\n",
       "    }\n",
       "\n",
       "    .dataframe tbody tr th {\n",
       "        vertical-align: top;\n",
       "    }\n",
       "\n",
       "    .dataframe thead th {\n",
       "        text-align: right;\n",
       "    }\n",
       "</style>\n",
       "<table border=\"1\" class=\"dataframe\">\n",
       "  <thead>\n",
       "    <tr style=\"text-align: right;\">\n",
       "      <th></th>\n",
       "      <th>City</th>\n",
       "      <th>Lat</th>\n",
       "      <th>Lng</th>\n",
       "      <th>Max Temp</th>\n",
       "      <th>Humidity</th>\n",
       "      <th>Cloudiness</th>\n",
       "      <th>Wind Speed</th>\n",
       "      <th>Country</th>\n",
       "      <th>Date</th>\n",
       "    </tr>\n",
       "  </thead>\n",
       "  <tbody>\n",
       "    <tr>\n",
       "      <th>0</th>\n",
       "      <td>East London</td>\n",
       "      <td>-33.0153</td>\n",
       "      <td>27.9116</td>\n",
       "      <td>73.40</td>\n",
       "      <td>83</td>\n",
       "      <td>40</td>\n",
       "      <td>10.29</td>\n",
       "      <td>ZA</td>\n",
       "      <td>1609867444</td>\n",
       "    </tr>\n",
       "    <tr>\n",
       "      <th>1</th>\n",
       "      <td>Upernavik</td>\n",
       "      <td>72.7868</td>\n",
       "      <td>-56.1549</td>\n",
       "      <td>7.32</td>\n",
       "      <td>94</td>\n",
       "      <td>100</td>\n",
       "      <td>27.87</td>\n",
       "      <td>GL</td>\n",
       "      <td>1609867445</td>\n",
       "    </tr>\n",
       "    <tr>\n",
       "      <th>2</th>\n",
       "      <td>Buta</td>\n",
       "      <td>2.7858</td>\n",
       "      <td>24.7300</td>\n",
       "      <td>79.34</td>\n",
       "      <td>66</td>\n",
       "      <td>75</td>\n",
       "      <td>1.86</td>\n",
       "      <td>CD</td>\n",
       "      <td>1609867446</td>\n",
       "    </tr>\n",
       "    <tr>\n",
       "      <th>3</th>\n",
       "      <td>Bukama</td>\n",
       "      <td>-9.2000</td>\n",
       "      <td>25.8500</td>\n",
       "      <td>72.21</td>\n",
       "      <td>90</td>\n",
       "      <td>69</td>\n",
       "      <td>1.32</td>\n",
       "      <td>CD</td>\n",
       "      <td>1609867448</td>\n",
       "    </tr>\n",
       "    <tr>\n",
       "      <th>4</th>\n",
       "      <td>Dalnerechensk</td>\n",
       "      <td>45.9339</td>\n",
       "      <td>133.7225</td>\n",
       "      <td>-16.71</td>\n",
       "      <td>87</td>\n",
       "      <td>1</td>\n",
       "      <td>4.92</td>\n",
       "      <td>RU</td>\n",
       "      <td>1609867449</td>\n",
       "    </tr>\n",
       "    <tr>\n",
       "      <th>...</th>\n",
       "      <td>...</td>\n",
       "      <td>...</td>\n",
       "      <td>...</td>\n",
       "      <td>...</td>\n",
       "      <td>...</td>\n",
       "      <td>...</td>\n",
       "      <td>...</td>\n",
       "      <td>...</td>\n",
       "      <td>...</td>\n",
       "    </tr>\n",
       "    <tr>\n",
       "      <th>564</th>\n",
       "      <td>Rāmpura</td>\n",
       "      <td>30.2500</td>\n",
       "      <td>75.2333</td>\n",
       "      <td>58.37</td>\n",
       "      <td>89</td>\n",
       "      <td>8</td>\n",
       "      <td>5.95</td>\n",
       "      <td>IN</td>\n",
       "      <td>1609868146</td>\n",
       "    </tr>\n",
       "    <tr>\n",
       "      <th>565</th>\n",
       "      <td>Kamina</td>\n",
       "      <td>-8.7386</td>\n",
       "      <td>24.9906</td>\n",
       "      <td>66.18</td>\n",
       "      <td>93</td>\n",
       "      <td>6</td>\n",
       "      <td>2.53</td>\n",
       "      <td>CD</td>\n",
       "      <td>1609868147</td>\n",
       "    </tr>\n",
       "    <tr>\n",
       "      <th>566</th>\n",
       "      <td>Río Gallegos</td>\n",
       "      <td>-51.6226</td>\n",
       "      <td>-69.2181</td>\n",
       "      <td>68.00</td>\n",
       "      <td>34</td>\n",
       "      <td>0</td>\n",
       "      <td>11.41</td>\n",
       "      <td>AR</td>\n",
       "      <td>1609868149</td>\n",
       "    </tr>\n",
       "    <tr>\n",
       "      <th>567</th>\n",
       "      <td>Breves</td>\n",
       "      <td>-1.6822</td>\n",
       "      <td>-50.4803</td>\n",
       "      <td>90.01</td>\n",
       "      <td>52</td>\n",
       "      <td>77</td>\n",
       "      <td>6.53</td>\n",
       "      <td>BR</td>\n",
       "      <td>1609868150</td>\n",
       "    </tr>\n",
       "    <tr>\n",
       "      <th>568</th>\n",
       "      <td>Fairbanks</td>\n",
       "      <td>64.8378</td>\n",
       "      <td>-147.7164</td>\n",
       "      <td>-6.00</td>\n",
       "      <td>76</td>\n",
       "      <td>75</td>\n",
       "      <td>1.57</td>\n",
       "      <td>US</td>\n",
       "      <td>1609868131</td>\n",
       "    </tr>\n",
       "  </tbody>\n",
       "</table>\n",
       "<p>569 rows × 9 columns</p>\n",
       "</div>"
      ],
      "text/plain": [
       "              City      Lat       Lng  Max Temp  Humidity  Cloudiness  \\\n",
       "0      East London -33.0153   27.9116     73.40        83          40   \n",
       "1        Upernavik  72.7868  -56.1549      7.32        94         100   \n",
       "2             Buta   2.7858   24.7300     79.34        66          75   \n",
       "3           Bukama  -9.2000   25.8500     72.21        90          69   \n",
       "4    Dalnerechensk  45.9339  133.7225    -16.71        87           1   \n",
       "..             ...      ...       ...       ...       ...         ...   \n",
       "564        Rāmpura  30.2500   75.2333     58.37        89           8   \n",
       "565         Kamina  -8.7386   24.9906     66.18        93           6   \n",
       "566   Río Gallegos -51.6226  -69.2181     68.00        34           0   \n",
       "567         Breves  -1.6822  -50.4803     90.01        52          77   \n",
       "568      Fairbanks  64.8378 -147.7164     -6.00        76          75   \n",
       "\n",
       "     Wind Speed Country        Date  \n",
       "0         10.29      ZA  1609867444  \n",
       "1         27.87      GL  1609867445  \n",
       "2          1.86      CD  1609867446  \n",
       "3          1.32      CD  1609867448  \n",
       "4          4.92      RU  1609867449  \n",
       "..          ...     ...         ...  \n",
       "564        5.95      IN  1609868146  \n",
       "565        2.53      CD  1609868147  \n",
       "566       11.41      AR  1609868149  \n",
       "567        6.53      BR  1609868150  \n",
       "568        1.57      US  1609868131  \n",
       "\n",
       "[569 rows x 9 columns]"
      ]
     },
     "execution_count": 6,
     "metadata": {},
     "output_type": "execute_result"
    }
   ],
   "source": [
    "humidity_check = city_weather.loc[city_weather[\"Humidity\"] <= 100]\n",
    "humidity_check"
   ]
  },
  {
   "cell_type": "code",
   "execution_count": 7,
   "metadata": {},
   "outputs": [],
   "source": [
    "#  Get the indices of cities that have humidity over 100%.\n"
   ]
  },
  {
   "cell_type": "code",
   "execution_count": 8,
   "metadata": {},
   "outputs": [],
   "source": [
    "# Make a new DataFrame equal to the city data to drop all humidity outliers by index.\n",
    "# Passing \"inplace=False\" will make a copy of the city_data DataFrame, which we call \"clean_city_data\".\n"
   ]
  },
  {
   "cell_type": "code",
   "execution_count": null,
   "metadata": {},
   "outputs": [],
   "source": [
    "\n"
   ]
  },
  {
   "cell_type": "markdown",
   "metadata": {},
   "source": [
    "## Plotting the Data\n",
    "* Use proper labeling of the plots using plot titles (including date of analysis) and axes labels.\n",
    "* Save the plotted figures as .pngs."
   ]
  },
  {
   "cell_type": "markdown",
   "metadata": {},
   "source": [
    "## Latitude vs. Temperature Plot"
   ]
  },
  {
   "cell_type": "code",
   "execution_count": 11,
   "metadata": {
    "scrolled": false
   },
   "outputs": [
    {
     "data": {
      "image/png": "[encoded data removed]",
      "text/plain": [
       "<Figure size 432x288 with 1 Axes>"
      ]
     },
     "metadata": {
      "needs_background": "light"
     },
     "output_type": "display_data"
    }
   ],
   "source": [
    "#set variable for current date to print \n",
    "today = date.today()\n",
    "\n",
    "#plot weather data\n",
    "x_values = city_weather[\"Lat\"]\n",
    "y_values = city_weather[\"Max Temp\"]\n",
    "plt.scatter(x_values, y_values, marker='o', edgecolors='black')\n",
    "plt.grid(b=True, which='major', linestyle='-')\n",
    "plt.xlabel(\"Latitude\")\n",
    "plt.ylabel(\"Max Temperature (F)\")\n",
    "plt.title(f\"City Latitude vs. Max Temperature {today}\")\n",
    "\n",
    "#save figure as png  \n",
    "plt.savefig(\"Fig1.png\", format='png')\n",
    "\n",
    "plt.show()"
   ]
  },
  {
   "cell_type": "markdown",
   "metadata": {},
   "source": [
    "This plot shows the correlation between the max temperature of cities around the world and their latitudinal location.  With 0 on the x-axis being the equator, this plot shows that the maximum temperture at locations around the equator are the warmest, and that there is a moderate negative correlation between latitude and temperature. "
   ]
  },
  {
   "cell_type": "markdown",
   "metadata": {},
   "source": [
    "## Latitude vs. Humidity Plot"
   ]
  },
  {
   "cell_type": "code",
   "execution_count": 12,
   "metadata": {},
   "outputs": [
    {
     "data": {
      "image/png": "[encoded data removed]",
      "text/plain": [
       "<Figure size 432x288 with 1 Axes>"
      ]
     },
     "metadata": {
      "needs_background": "light"
     },
     "output_type": "display_data"
    }
   ],
   "source": [
    "#plot weather data\n",
    "x_values = city_weather[\"Lat\"]\n",
    "y_values = city_weather[\"Humidity\"]\n",
    "plt.scatter(x_values, y_values, marker='o', edgecolors='black')\n",
    "plt.grid(b=True, which='major', linestyle='-')\n",
    "plt.xlabel(\"Latitude\")\n",
    "plt.ylabel(\"Humidity (%)\")\n",
    "plt.title(f\"City Latitude vs. Humidity {today}\")\n",
    "\n",
    "#save figure as png  \n",
    "plt.savefig(\"Fig2.png\", format='png')\n",
    "\n",
    "plt.show()"
   ]
  },
  {
   "cell_type": "markdown",
   "metadata": {},
   "source": [
    "This plot shows the correlation between latitudinal location of the city and their humidity level for the current day. Generally, it appears to show no real correlation between location and humidity levels.  "
   ]
  },
  {
   "cell_type": "markdown",
   "metadata": {},
   "source": [
    "## Latitude vs. Cloudiness Plot"
   ]
  },
  {
   "cell_type": "code",
   "execution_count": 13,
   "metadata": {
    "scrolled": true
   },
   "outputs": [
    {
     "data": {
      "image/png": "[encoded data removed]",
      "text/plain": [
       "<Figure size 432x288 with 1 Axes>"
      ]
     },
     "metadata": {
      "needs_background": "light"
     },
     "output_type": "display_data"
    }
   ],
   "source": [
    "#plot weather data\n",
    "x_values = city_weather[\"Lat\"]\n",
    "y_values = city_weather[\"Cloudiness\"]\n",
    "plt.scatter(x_values, y_values, marker='o', edgecolors='black')\n",
    "plt.xlabel(\"Latitude\")\n",
    "plt.ylabel(\"Cloudiness (%)\")\n",
    "plt.title(f\"City Latitude vs. Cloudiness {today}\")\n",
    "\n",
    "#save figure as png  \n",
    "plt.savefig(\"Fig3.png\", format='png')\n",
    "\n",
    "plt.show()"
   ]
  },
  {
   "cell_type": "markdown",
   "metadata": {},
   "source": [
    "This plot shows the correlation between latitudinal location of a city and the cloudiness level for the current day.  Generally, it appears to show no real correlation beteen latitude and cloudiness levels. "
   ]
  },
  {
   "cell_type": "markdown",
   "metadata": {},
   "source": [
    "## Latitude vs. Wind Speed Plot"
   ]
  },
  {
   "cell_type": "code",
   "execution_count": 14,
   "metadata": {
    "scrolled": true
   },
   "outputs": [
    {
     "data": {
      "image/png": "[encoded data removed]",
      "text/plain": [
       "<Figure size 432x288 with 1 Axes>"
      ]
     },
     "metadata": {
      "needs_background": "light"
     },
     "output_type": "display_data"
    }
   ],
   "source": [
    "#plot weather data\n",
    "x_values = city_weather[\"Lat\"]\n",
    "y_values = city_weather[\"Wind Speed\"]\n",
    "plt.scatter(x_values, y_values, marker='o', edgecolors='black')\n",
    "plt.xlabel(\"Latitude\")\n",
    "plt.ylabel(\"Wind Speed (mph)\")\n",
    "plt.title(f\"City Latitude vs. Wind Speed {today}\")\n",
    "\n",
    "#save figure as png  \n",
    "plt.savefig(\"Fig4.png\", format='png')\n",
    "\n",
    "plt.show()"
   ]
  },
  {
   "cell_type": "markdown",
   "metadata": {},
   "source": [
    "This plot shows the correlation between latitudinal location of a city and their current wind speed.  Generally, there appears to be no real correlation between location and wind speed. "
   ]
  },
  {
   "cell_type": "markdown",
   "metadata": {},
   "source": [
    "## Linear Regression"
   ]
  },
  {
   "cell_type": "code",
   "execution_count": 15,
   "metadata": {},
   "outputs": [],
   "source": [
    "north = city_weather.loc[city_weather[\"Lat\"] >= 0]\n",
    "south = city_weather.loc[city_weather[\"Lat\"] < 0]"
   ]
  },
  {
   "cell_type": "markdown",
   "metadata": {},
   "source": [
    "####  Northern Hemisphere - Max Temp vs. Latitude Linear Regression"
   ]
  },
  {
   "cell_type": "code",
   "execution_count": 16,
   "metadata": {},
   "outputs": [
    {
     "name": "stdout",
     "output_type": "stream",
     "text": [
      "The r-value is: -0.8358228166421287\n"
     ]
    },
    {
     "data": {
      "image/png": "[encoded data removed]",
      "text/plain": [
       "<Figure size 432x288 with 1 Axes>"
      ]
     },
     "metadata": {
      "needs_background": "light"
     },
     "output_type": "display_data"
    }
   ],
   "source": [
    "x = north[\"Lat\"]\n",
    "y = north[\"Max Temp\"]\n",
    "corr = st.pearsonr(x, y)[0]\n",
    "print(f'The r-value is: {corr}')\n",
    "\n",
    "slp, intr, r, p, std = st.linregress(x,y)\n",
    "regress = slp * x + intr \n",
    "line = \"y =\" + str(round(slp, 2)) + \"x +\" + str(round(intr, 2))\n",
    "\n",
    "plt.scatter(x, y, marker='o')\n",
    "plt.plot(x, regress, \"r-\")\n",
    "plt.annotate(line,(5, -20), fontsize=15, color='red')\n",
    "plt.xlabel(\"Latitude\")\n",
    "plt.ylabel(\"Max Temp (F)\")\n",
    "plt.show()"
   ]
  },
  {
   "cell_type": "markdown",
   "metadata": {},
   "source": [
    "####  Southern Hemisphere - Max Temp vs. Latitude Linear Regression"
   ]
  },
  {
   "cell_type": "code",
   "execution_count": 17,
   "metadata": {},
   "outputs": [
    {
     "name": "stdout",
     "output_type": "stream",
     "text": [
      "The r-value is: 0.6082856313705967\n"
     ]
    },
    {
     "data": {
      "image/png": "[encoded data removed]",
      "text/plain": [
       "<Figure size 432x288 with 1 Axes>"
      ]
     },
     "metadata": {
      "needs_background": "light"
     },
     "output_type": "display_data"
    }
   ],
   "source": [
    "x = south[\"Lat\"]\n",
    "y = south[\"Max Temp\"]\n",
    "corr = st.pearsonr(x, y)[0]\n",
    "print(f'The r-value is: {corr}')\n",
    "\n",
    "slp, intr, r, p, std = st.linregress(x,y)\n",
    "regress = slp * x + intr \n",
    "line = \"y =\" + str(round(slp, 2)) + \"x +\" + str(round(intr, 2))\n",
    "\n",
    "plt.scatter(x, y, marker='o')\n",
    "plt.plot(x, regress, \"r-\")\n",
    "plt.annotate(line,(-55, 85), fontsize=15, color='red')\n",
    "plt.xlabel(\"Latitude\")\n",
    "plt.ylabel(\"Max Temp (F)\")\n",
    "plt.show()"
   ]
  },
  {
   "cell_type": "markdown",
   "metadata": {},
   "source": [
    "####  Northern Hemisphere - Humidity (%) vs. Latitude Linear Regression"
   ]
  },
  {
   "cell_type": "code",
   "execution_count": 18,
   "metadata": {},
   "outputs": [
    {
     "name": "stdout",
     "output_type": "stream",
     "text": [
      "The r-value is: 0.42462495069406575\n"
     ]
    },
    {
     "data": {
      "image/png": "[encoded data removed]",
      "text/plain": [
       "<Figure size 432x288 with 1 Axes>"
      ]
     },
     "metadata": {
      "needs_background": "light"
     },
     "output_type": "display_data"
    }
   ],
   "source": [
    "x = north[\"Lat\"]\n",
    "y = north[\"Humidity\"]\n",
    "corr = st.pearsonr(x, y)[0]\n",
    "print(f'The r-value is: {corr}')\n",
    "\n",
    "slp, intr, r, p, std = st.linregress(x,y)\n",
    "regress = slp * x + intr \n",
    "line = \"y =\" + str(round(slp, 2)) + \"x +\" + str(round(intr, 2))\n",
    "\n",
    "plt.scatter(x, y, marker='o')\n",
    "plt.plot(x, regress, \"r-\")\n",
    "plt.annotate(line,(50, 30), fontsize=15, color='red')\n",
    "plt.xlabel(\"Latitude\")\n",
    "plt.ylabel(\"Humidity (%)\")\n",
    "plt.show()"
   ]
  },
  {
   "cell_type": "markdown",
   "metadata": {},
   "source": [
    "####  Southern Hemisphere - Humidity (%) vs. Latitude Linear Regression"
   ]
  },
  {
   "cell_type": "code",
   "execution_count": 19,
   "metadata": {},
   "outputs": [
    {
     "name": "stdout",
     "output_type": "stream",
     "text": [
      "The r-value is: 0.0996563714744543\n"
     ]
    },
    {
     "data": {
      "image/png": "[encoded data removed]",
      "text/plain": [
       "<Figure size 432x288 with 1 Axes>"
      ]
     },
     "metadata": {
      "needs_background": "light"
     },
     "output_type": "display_data"
    }
   ],
   "source": [
    "x = south[\"Lat\"]\n",
    "y = south[\"Humidity\"]\n",
    "corr = st.pearsonr(x, y)[0]\n",
    "print(f'The r-value is: {corr}')\n",
    "\n",
    "slp, intr, r, p, std = st.linregress(x,y)\n",
    "regress = slp * x + intr \n",
    "line = \"y =\" + str(round(slp, 2)) + \"x +\" + str(round(intr, 2))\n",
    "\n",
    "plt.scatter(x, y, marker='o')\n",
    "plt.plot(x, regress, \"r-\")\n",
    "plt.annotate(line,(-55, 20), fontsize=13, color='red')\n",
    "plt.xlabel(\"Latitude\")\n",
    "plt.ylabel(\"Humidity (%)\")\n",
    "plt.show()"
   ]
  },
  {
   "cell_type": "markdown",
   "metadata": {},
   "source": [
    "####  Northern Hemisphere - Cloudiness (%) vs. Latitude Linear Regression"
   ]
  },
  {
   "cell_type": "code",
   "execution_count": 20,
   "metadata": {},
   "outputs": [
    {
     "name": "stdout",
     "output_type": "stream",
     "text": [
      "The r-value is: 0.2090173930633705\n"
     ]
    },
    {
     "data": {
      "image/png": "[encoded data removed]",
      "text/plain": [
       "<Figure size 432x288 with 1 Axes>"
      ]
     },
     "metadata": {
      "needs_background": "light"
     },
     "output_type": "display_data"
    }
   ],
   "source": [
    "x = north[\"Lat\"]\n",
    "y = north[\"Cloudiness\"]\n",
    "corr = st.pearsonr(x, y)[0]\n",
    "print(f'The r-value is: {corr}')\n",
    "\n",
    "slp, intr, r, p, std = st.linregress(x,y)\n",
    "regress = slp * x + intr \n",
    "line = \"y =\" + str(round(slp, 2)) + \"x +\" + str(round(intr, 2))\n",
    "\n",
    "plt.scatter(x, y, marker='o')\n",
    "plt.plot(x, regress, \"r-\")\n",
    "plt.annotate(line,(15, 30), fontsize=13, color='red')\n",
    "plt.xlabel(\"Latitude\")\n",
    "plt.ylabel(\"Cloudiness (%)\")\n",
    "plt.show()"
   ]
  },
  {
   "cell_type": "markdown",
   "metadata": {},
   "source": [
    "####  Southern Hemisphere - Cloudiness (%) vs. Latitude Linear Regression"
   ]
  },
  {
   "cell_type": "code",
   "execution_count": 21,
   "metadata": {},
   "outputs": [
    {
     "name": "stdout",
     "output_type": "stream",
     "text": [
      "The r-value is: 0.28434013533681696\n"
     ]
    },
    {
     "data": {
      "image/png": "[encoded data removed]",
      "text/plain": [
       "<Figure size 432x288 with 1 Axes>"
      ]
     },
     "metadata": {
      "needs_background": "light"
     },
     "output_type": "display_data"
    }
   ],
   "source": [
    "x = south[\"Lat\"]\n",
    "y = south[\"Cloudiness\"]\n",
    "corr = st.pearsonr(x, y)[0]\n",
    "print(f'The r-value is: {corr}')\n",
    "\n",
    "slp, intr, r, p, std = st.linregress(x,y)\n",
    "regress = slp * x + intr \n",
    "line = \"y =\" + str(round(slp, 2)) + \"x +\" + str(round(intr, 2))\n",
    "\n",
    "plt.scatter(x, y, marker='o')\n",
    "plt.plot(x, regress, \"r-\")\n",
    "plt.annotate(line,(-55, 20), fontsize=13, color='red')\n",
    "plt.xlabel(\"Latitude\")\n",
    "plt.ylabel(\"Cloudiness (%)\")\n",
    "plt.show()"
   ]
  },
  {
   "cell_type": "markdown",
   "metadata": {},
   "source": [
    "####  Northern Hemisphere - Wind Speed (mph) vs. Latitude Linear Regression"
   ]
  },
  {
   "cell_type": "code",
   "execution_count": 22,
   "metadata": {},
   "outputs": [
    {
     "name": "stdout",
     "output_type": "stream",
     "text": [
      "The r-value is: 0.1172709477355516\n"
     ]
    },
    {
     "data": {
      "image/png": "[encoded data removed]",
      "text/plain": [
       "<Figure size 432x288 with 1 Axes>"
      ]
     },
     "metadata": {
      "needs_background": "light"
     },
     "output_type": "display_data"
    }
   ],
   "source": [
    "x = north[\"Lat\"]\n",
    "y = north[\"Wind Speed\"]\n",
    "corr = st.pearsonr(x, y)[0]\n",
    "print(f'The r-value is: {corr}')\n",
    "\n",
    "slp, intr, r, p, std = st.linregress(x,y)\n",
    "regress = slp * x + intr \n",
    "line = \"y =\" + str(round(slp, 2)) + \"x +\" + str(round(intr, 2))\n",
    "\n",
    "plt.scatter(x, y, marker='o')\n",
    "plt.plot(x, regress, \"r-\")\n",
    "plt.annotate(line,(0, 27), fontsize=13, color='red')\n",
    "plt.xlabel(\"Latitude\")\n",
    "plt.ylabel(\"Wind Speed (mph)\")\n",
    "plt.show()"
   ]
  },
  {
   "cell_type": "markdown",
   "metadata": {},
   "source": [
    "####  Southern Hemisphere - Wind Speed (mph) vs. Latitude Linear Regression"
   ]
  },
  {
   "cell_type": "code",
   "execution_count": 23,
   "metadata": {},
   "outputs": [
    {
     "name": "stdout",
     "output_type": "stream",
     "text": [
      "The r-value is: -0.17468097273908337\n"
     ]
    },
    {
     "data": {
      "image/png": "[encoded data removed]",
      "text/plain": [
       "<Figure size 432x288 with 1 Axes>"
      ]
     },
     "metadata": {
      "needs_background": "light"
     },
     "output_type": "display_data"
    }
   ],
   "source": [
    "x = south[\"Lat\"]\n",
    "y = south[\"Wind Speed\"]\n",
    "corr = st.pearsonr(x, y)[0]\n",
    "print(f'The r-value is: {corr}')\n",
    "\n",
    "slp, intr, r, p, std = st.linregress(x,y)\n",
    "regress = slp * x + intr \n",
    "line = \"y =\" + str(round(slp, 2)) + \"x +\" + str(round(intr, 2))\n",
    "\n",
    "plt.scatter(x, y, marker='o')\n",
    "plt.plot(x, regress, \"r-\")\n",
    "plt.annotate(line,(-55, 27), fontsize=13, color='red')\n",
    "plt.xlabel(\"Latitude\")\n",
    "plt.ylabel(\"Wind Speed (mph)\")\n",
    "plt.show()"
   ]
  },
  {
   "cell_type": "code",
   "execution_count": null,
   "metadata": {},
   "outputs": [],
   "source": []
  }
 ],
 "metadata": {
  "anaconda-cloud": {},
  "kernel_info": {
   "name": "python3"
  },
  "kernelspec": {
   "display_name": "Python 3",
   "language": "python",
   "name": "python3"
  },
  "language_info": {
   "codemirror_mode": {
    "name": "ipython",
    "version": 3
   },
   "file_extension": ".py",
   "mimetype": "text/x-python",
   "name": "python",
   "nbconvert_exporter": "python",
   "pygments_lexer": "ipython3",
   "version": "3.8.3"
  },
  "latex_envs": {
   "LaTeX_envs_menu_present": true,
   "autoclose": false,
   "autocomplete": true,
   "bibliofile": "biblio.bib",
   "cite_by": "apalike",
   "current_citInitial": 1,
   "eqLabelWithNumbers": true,
   "eqNumInitial": 1,
   "hotkeys": {
    "equation": "Ctrl-E",
    "itemize": "Ctrl-I"
   },
   "labels_anchors": false,
   "latex_user_defs": false,
   "report_style_numbering": false,
   "user_envs_cfg": false
  },
  "nteract": {
   "version": "0.12.3"
  }
 },
 "nbformat": 4,
 "nbformat_minor": 2
}
