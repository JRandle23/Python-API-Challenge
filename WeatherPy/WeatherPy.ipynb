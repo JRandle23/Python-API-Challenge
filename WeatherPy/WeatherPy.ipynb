{
 "cells": [
  {
   "cell_type": "markdown",
   "metadata": {},
   "source": [
    "# WeatherPy\n",
    "----\n",
    "\n",
    "#### Note\n",
    "* Instructions have been included for each segment. You do not have to follow them exactly, but they are included to help you think through the steps."
   ]
  },
  {
   "cell_type": "code",
   "execution_count": 10,
   "metadata": {
    "scrolled": true
   },
   "outputs": [],
   "source": [
    "# Dependencies and Setup\n",
    "import matplotlib.pyplot as plt\n",
    "import pandas as pd\n",
    "import numpy as np\n",
    "import requests\n",
    "import time\n",
    "import os \n",
    "import scipy.stats as st\n",
    "\n",
    "from datetime import date\n",
    "from pprint import pprint\n",
    "from scipy.stats import linregress\n",
    "\n",
    "# Import API key\n",
    "from api_keys import weather_api_key\n",
    "\n",
    "# Incorporated citipy to determine city based on latitude and longitude\n",
    "from citipy import citipy\n",
    "\n",
    "# Output File (CSV)\n",
    "output_data_file = \"Output_Data/cities.csv\"\n",
    "\n",
    "# Range of latitudes and longitudes\n",
    "lat_range = (-90, 90)\n",
    "lng_range = (-180, 180)"
   ]
  },
  {
   "cell_type": "markdown",
   "metadata": {},
   "source": [
    "## Generate Cities List"
   ]
  },
  {
   "cell_type": "code",
   "execution_count": 2,
   "metadata": {},
   "outputs": [
    {
     "data": {
      "text/plain": [
       "617"
      ]
     },
     "execution_count": 2,
     "metadata": {},
     "output_type": "execute_result"
    }
   ],
   "source": [
    " # List for holding lat_lngs and cities\n",
    "lat_lngs = []\n",
    "cities = []\n",
    "\n",
    "# Create a set of random lat and lng combinations\n",
    "lats = np.random.uniform(lat_range[0], lat_range[1], size=1500)\n",
    "lngs = np.random.uniform(lng_range[0], lng_range[1], size=1500)\n",
    "lat_lngs = zip(lats, lngs)\n",
    "\n",
    "# Identify nearest city for each lat, lng combination\n",
    "for lat_lng in lat_lngs:\n",
    "    city = citipy.nearest_city(lat_lng[0], lat_lng[1]).city_name\n",
    "    \n",
    "    # If the city is unique, then add it to a our cities list\n",
    "    if city not in cities:\n",
    "        cities.append(city)\n",
    "\n",
    "# Print the city count to confirm sufficient count\n",
    "len(cities)"
   ]
  },
  {
   "cell_type": "markdown",
   "metadata": {},
   "source": [
    "### Perform API Calls\n",
    "* Perform a weather check on each city using a series of successive API calls.\n",
    "* Include a print log of each city as its being processed (with the city number and city name).\n"
   ]
  },
  {
   "cell_type": "code",
   "execution_count": 3,
   "metadata": {
    "scrolled": true
   },
   "outputs": [
    {
     "name": "stdout",
     "output_type": "stream",
     "text": [
      "Beginning Data Retrieval\n",
      "-------------------------------\n",
      "Processing Record 1 of Set 1 | Kamenka\n",
      "Processing Record 2 of Set 1 | Jamestown\n",
      "Processing Record 3 of Set 1 | Saint-Philippe\n",
      "Processing Record 4 of Set 1 | Kavieng\n",
      "City not found. Skipping...\n",
      "Processing Record 5 of Set 1 | Tautira\n",
      "Processing Record 6 of Set 1 | Nesna\n",
      "City not found. Skipping...\n",
      "Processing Record 7 of Set 1 | Marabu\n",
      "Processing Record 8 of Set 1 | Mataura\n",
      "Processing Record 9 of Set 1 | Caraquet\n",
      "Processing Record 10 of Set 1 | Orleans\n",
      "Processing Record 11 of Set 1 | Butaritari\n",
      "Processing Record 12 of Set 1 | Ushuaia\n",
      "Processing Record 13 of Set 1 | Cabo San Lucas\n",
      "Processing Record 14 of Set 1 | Tuatapere\n",
      "Processing Record 15 of Set 1 | Chokurdakh\n",
      "Processing Record 16 of Set 1 | Kabare\n",
      "Processing Record 17 of Set 1 | Cockburn Town\n",
      "Processing Record 18 of Set 1 | Avarua\n",
      "Processing Record 19 of Set 1 | Rikitea\n",
      "Processing Record 20 of Set 1 | Dunblane\n",
      "Processing Record 21 of Set 1 | Carutapera\n",
      "Processing Record 22 of Set 1 | Longyearbyen\n",
      "Processing Record 23 of Set 1 | Port Elizabeth\n",
      "Processing Record 24 of Set 1 | Cherskiy\n",
      "Processing Record 25 of Set 1 | Mogadishu\n",
      "Processing Record 26 of Set 1 | Punta Arenas\n",
      "Processing Record 27 of Set 1 | Melivoia\n",
      "City not found. Skipping...\n",
      "Processing Record 28 of Set 1 | Dunedin\n",
      "City not found. Skipping...\n",
      "City not found. Skipping...\n",
      "Processing Record 29 of Set 1 | Mukhen\n",
      "Processing Record 30 of Set 1 | Merauke\n",
      "Processing Record 31 of Set 1 | Dabat\n",
      "City not found. Skipping...\n",
      "Processing Record 32 of Set 1 | Kapaa\n",
      "City not found. Skipping...\n",
      "Processing Record 33 of Set 1 | Broken Hill\n",
      "Processing Record 34 of Set 1 | Tarakan\n",
      "Processing Record 35 of Set 1 | Newport\n",
      "Processing Record 36 of Set 1 | Tasiilaq\n",
      "Processing Record 37 of Set 1 | Kaitangata\n",
      "Processing Record 38 of Set 1 | Bellary\n",
      "Processing Record 39 of Set 1 | Dikson\n",
      "Processing Record 40 of Set 1 | Koulikoro\n",
      "Processing Record 41 of Set 1 | Caravelas\n",
      "Processing Record 42 of Set 1 | Busselton\n",
      "Processing Record 43 of Set 1 | East Moline\n",
      "Processing Record 44 of Set 1 | Bluff\n",
      "Processing Record 45 of Set 1 | Carnarvon\n",
      "Processing Record 46 of Set 1 | Saskylakh\n",
      "Processing Record 47 of Set 1 | Vaini\n",
      "Processing Record 48 of Set 1 | Puerto Ayora\n",
      "Processing Record 49 of Set 1 | Salinópolis\n",
      "Processing Record 50 of Set 1 | Barrow\n",
      "Processing Record 0 of Set 2 | Bandar-e Lengeh\n",
      "Processing Record 1 of Set 2 | Hermanus\n",
      "Processing Record 2 of Set 2 | New Norfolk\n",
      "Processing Record 3 of Set 2 | Albany\n",
      "Processing Record 4 of Set 2 | Honiara\n",
      "Processing Record 5 of Set 2 | Taoudenni\n",
      "City not found. Skipping...\n",
      "Processing Record 6 of Set 2 | Nueve de Julio\n",
      "Processing Record 7 of Set 2 | Leningradskiy\n",
      "Processing Record 8 of Set 2 | Qaanaaq\n",
      "Processing Record 9 of Set 2 | Igarka\n",
      "Processing Record 10 of Set 2 | Hilo\n",
      "Processing Record 11 of Set 2 | Bethel\n",
      "Processing Record 12 of Set 2 | Mahbūbābād\n",
      "City not found. Skipping...\n",
      "Processing Record 13 of Set 2 | Vanavara\n",
      "City not found. Skipping...\n",
      "Processing Record 14 of Set 2 | Hobart\n",
      "Processing Record 15 of Set 2 | Muros\n",
      "Processing Record 16 of Set 2 | Clyde River\n",
      "City not found. Skipping...\n",
      "Processing Record 17 of Set 2 | Tazovsky\n",
      "Processing Record 18 of Set 2 | Laguna\n",
      "Processing Record 19 of Set 2 | Hasaki\n",
      "Processing Record 20 of Set 2 | Ancud\n",
      "Processing Record 21 of Set 2 | Saint George\n",
      "Processing Record 22 of Set 2 | Bathsheba\n",
      "Processing Record 23 of Set 2 | Pangnirtung\n",
      "Processing Record 24 of Set 2 | Espera Feliz\n",
      "Processing Record 25 of Set 2 | Tiksi\n",
      "Processing Record 26 of Set 2 | Nikolskoye\n",
      "Processing Record 27 of Set 2 | Castro\n",
      "Processing Record 28 of Set 2 | Kysyl-Syr\n",
      "Processing Record 29 of Set 2 | Husavik\n",
      "Processing Record 30 of Set 2 | Khatanga\n",
      "Processing Record 31 of Set 2 | Luganville\n",
      "Processing Record 32 of Set 2 | Fairbanks\n",
      "Processing Record 33 of Set 2 | Aykhal\n",
      "Processing Record 34 of Set 2 | Atherton\n",
      "Processing Record 35 of Set 2 | Los Llanos de Aridane\n",
      "Processing Record 36 of Set 2 | Sassandra\n",
      "Processing Record 37 of Set 2 | Honningsvåg\n",
      "Processing Record 38 of Set 2 | Atuona\n",
      "Processing Record 39 of Set 2 | Ucluelet\n",
      "Processing Record 40 of Set 2 | Naze\n",
      "Processing Record 41 of Set 2 | Kumul\n",
      "Processing Record 42 of Set 2 | Arraial do Cabo\n",
      "Processing Record 43 of Set 2 | Port-Cartier\n",
      "Processing Record 44 of Set 2 | Lichuan\n",
      "Processing Record 45 of Set 2 | Ukiah\n",
      "Processing Record 46 of Set 2 | Sabang\n",
      "Processing Record 47 of Set 2 | Luancheng\n",
      "Processing Record 48 of Set 2 | Ribeira Grande\n",
      "City not found. Skipping...\n",
      "Processing Record 49 of Set 2 | Rawson\n",
      "Processing Record 50 of Set 2 | Benghazi\n",
      "Processing Record 0 of Set 3 | Puertollano\n",
      "Processing Record 1 of Set 3 | Tuktoyaktuk\n",
      "Processing Record 2 of Set 3 | Lusaka\n",
      "Processing Record 3 of Set 3 | Caborca\n",
      "Processing Record 4 of Set 3 | Iqaluit\n",
      "Processing Record 5 of Set 3 | Lüderitz\n",
      "Processing Record 6 of Set 3 | Mar del Plata\n",
      "Processing Record 7 of Set 3 | Arrecife\n",
      "City not found. Skipping...\n",
      "Processing Record 8 of Set 3 | Linhares\n",
      "Processing Record 9 of Set 3 | Chui\n",
      "Processing Record 10 of Set 3 | Faanui\n",
      "Processing Record 11 of Set 3 | Cidreira\n",
      "Processing Record 12 of Set 3 | Grand Baie\n",
      "Processing Record 13 of Set 3 | Beyneu\n",
      "Processing Record 14 of Set 3 | Lavrentiya\n",
      "Processing Record 15 of Set 3 | Porto Belo\n",
      "Processing Record 16 of Set 3 | Provideniya\n",
      "Processing Record 17 of Set 3 | Esperance\n",
      "Processing Record 18 of Set 3 | Cape Town\n",
      "Processing Record 19 of Set 3 | Kalabo\n",
      "Processing Record 20 of Set 3 | Novobirilyussy\n",
      "City not found. Skipping...\n",
      "Processing Record 21 of Set 3 | Cabedelo\n",
      "Processing Record 22 of Set 3 | Zharkent\n",
      "Processing Record 23 of Set 3 | Micheweni\n",
      "Processing Record 24 of Set 3 | Jumla\n",
      "City not found. Skipping...\n",
      "Processing Record 25 of Set 3 | Shelopugino\n",
      "Processing Record 26 of Set 3 | Barth\n",
      "Processing Record 27 of Set 3 | Antofagasta\n",
      "Processing Record 28 of Set 3 | Lorengau\n",
      "Processing Record 29 of Set 3 | Chennai\n",
      "Processing Record 30 of Set 3 | Novyy Urgal\n",
      "Processing Record 31 of Set 3 | Burnie\n",
      "Processing Record 32 of Set 3 | Kharp\n",
      "Processing Record 33 of Set 3 | Gamba\n",
      "Processing Record 34 of Set 3 | Itoman\n",
      "Processing Record 35 of Set 3 | Juneau\n",
      "Processing Record 36 of Set 3 | Torbay\n",
      "Processing Record 37 of Set 3 | Souillac\n",
      "Processing Record 38 of Set 3 | Zyryanovsk\n",
      "Processing Record 39 of Set 3 | Ishigaki\n",
      "Processing Record 40 of Set 3 | Wembley\n",
      "Processing Record 41 of Set 3 | Ust-Kuyga\n",
      "Processing Record 42 of Set 3 | Kawalu\n",
      "Processing Record 43 of Set 3 | Ilulissat\n",
      "Processing Record 44 of Set 3 | East London\n",
      "Processing Record 45 of Set 3 | Cayenne\n",
      "Processing Record 46 of Set 3 | Narsaq\n",
      "Processing Record 47 of Set 3 | Peniche\n",
      "Processing Record 48 of Set 3 | Sibolga\n",
      "Processing Record 49 of Set 3 | Turan\n",
      "Processing Record 50 of Set 3 | Ferrol\n",
      "Processing Record 0 of Set 4 | Abhā\n",
      "Processing Record 1 of Set 4 | Goundam\n",
      "Processing Record 2 of Set 4 | Oruzgan\n",
      "Processing Record 3 of Set 4 | Upernavik\n",
      "Processing Record 4 of Set 4 | Bengkulu\n",
      "Processing Record 5 of Set 4 | Vao\n",
      "Processing Record 6 of Set 4 | Hambantota\n",
      "City not found. Skipping...\n",
      "Processing Record 7 of Set 4 | Otane\n",
      "Processing Record 8 of Set 4 | Fukuechō\n",
      "Processing Record 9 of Set 4 | Beberibe\n",
      "Processing Record 10 of Set 4 | Srīvardhan\n",
      "Processing Record 11 of Set 4 | Petropavlovsk-Kamchatskiy\n",
      "Processing Record 12 of Set 4 | Beloha\n",
      "Processing Record 13 of Set 4 | Kruisfontein\n",
      "City not found. Skipping...\n",
      "Processing Record 14 of Set 4 | Manggar\n",
      "Processing Record 15 of Set 4 | Chato\n",
      "Processing Record 16 of Set 4 | Ostrovnoy\n",
      "Processing Record 17 of Set 4 | Aginskoye\n",
      "Processing Record 18 of Set 4 | Mehamn\n",
      "City not found. Skipping...\n",
      "Processing Record 19 of Set 4 | Russell\n",
      "Processing Record 20 of Set 4 | Mazamari\n",
      "Processing Record 21 of Set 4 | Hobyo\n",
      "Processing Record 22 of Set 4 | Thompson\n",
      "Processing Record 23 of Set 4 | Hithadhoo\n",
      "City not found. Skipping...\n",
      "Processing Record 24 of Set 4 | Aksha\n",
      "Processing Record 25 of Set 4 | Mount Gambier\n",
      "Processing Record 26 of Set 4 | Dongsheng\n",
      "Processing Record 27 of Set 4 | Nouadhibou\n",
      "Processing Record 28 of Set 4 | Andra\n",
      "Processing Record 29 of Set 4 | Wum\n",
      "Processing Record 30 of Set 4 | Port Alfred\n",
      "Processing Record 31 of Set 4 | Den Helder\n",
      "Processing Record 32 of Set 4 | Kavaratti\n",
      "Processing Record 33 of Set 4 | Coos Bay\n"
     ]
    },
    {
     "name": "stdout",
     "output_type": "stream",
     "text": [
      "Processing Record 34 of Set 4 | Dingle\n",
      "Processing Record 35 of Set 4 | Nizhniy Kuranakh\n",
      "Processing Record 36 of Set 4 | Kentau\n",
      "Processing Record 37 of Set 4 | Sitka\n",
      "Processing Record 38 of Set 4 | Dehlorān\n",
      "Processing Record 39 of Set 4 | Constitución\n",
      "Processing Record 40 of Set 4 | Yellowknife\n",
      "Processing Record 41 of Set 4 | Palmer\n",
      "Processing Record 42 of Set 4 | Deputatsky\n",
      "Processing Record 43 of Set 4 | Pacific Grove\n",
      "Processing Record 44 of Set 4 | Saint Paul Harbor\n",
      "City not found. Skipping...\n",
      "Processing Record 45 of Set 4 | Quzhou\n",
      "City not found. Skipping...\n",
      "Processing Record 46 of Set 4 | Sandnessjøen\n",
      "Processing Record 47 of Set 4 | Havelock\n",
      "Processing Record 48 of Set 4 | Emerald\n",
      "Processing Record 49 of Set 4 | Vila Franca do Campo\n",
      "Processing Record 50 of Set 4 | Pisco\n",
      "Processing Record 0 of Set 5 | Talnakh\n",
      "Processing Record 1 of Set 5 | Bredasdorp\n",
      "Processing Record 2 of Set 5 | Umm Kaddadah\n",
      "Processing Record 3 of Set 5 | Madimba\n",
      "Processing Record 4 of Set 5 | Matara\n",
      "Processing Record 5 of Set 5 | Pilar\n",
      "City not found. Skipping...\n",
      "Processing Record 6 of Set 5 | Zinder\n",
      "City not found. Skipping...\n",
      "Processing Record 7 of Set 5 | Mūndwa\n",
      "Processing Record 8 of Set 5 | Dakoro\n",
      "Processing Record 9 of Set 5 | Griffith\n",
      "Processing Record 10 of Set 5 | Digby\n",
      "Processing Record 11 of Set 5 | Yinchuan\n",
      "Processing Record 12 of Set 5 | Pochutla\n",
      "Processing Record 13 of Set 5 | Mumford\n",
      "Processing Record 14 of Set 5 | Tura\n",
      "Processing Record 15 of Set 5 | Isangel\n",
      "Processing Record 16 of Set 5 | Teya\n",
      "Processing Record 17 of Set 5 | Jangipur\n",
      "Processing Record 18 of Set 5 | Filingué\n",
      "Processing Record 19 of Set 5 | Hong Kong\n",
      "Processing Record 20 of Set 5 | Cienfuegos\n",
      "Processing Record 21 of Set 5 | Esim\n",
      "Processing Record 22 of Set 5 | Beringovskiy\n",
      "Processing Record 23 of Set 5 | Sinnamary\n",
      "Processing Record 24 of Set 5 | Geraldton\n",
      "Processing Record 25 of Set 5 | Abu Kamal\n",
      "Processing Record 26 of Set 5 | Boa Vista\n",
      "Processing Record 27 of Set 5 | Roebourne\n",
      "Processing Record 28 of Set 5 | Los Zacatones\n",
      "Processing Record 29 of Set 5 | Weihai\n",
      "Processing Record 30 of Set 5 | Ulladulla\n",
      "Processing Record 31 of Set 5 | La Ronge\n",
      "Processing Record 32 of Set 5 | George Town\n",
      "City not found. Skipping...\n",
      "Processing Record 33 of Set 5 | Labuhan\n",
      "City not found. Skipping...\n",
      "Processing Record 34 of Set 5 | Rocha\n",
      "Processing Record 35 of Set 5 | Zhuhai\n",
      "Processing Record 36 of Set 5 | Iwanai\n",
      "Processing Record 37 of Set 5 | Banda Aceh\n",
      "Processing Record 38 of Set 5 | Mataró\n",
      "Processing Record 39 of Set 5 | Bariloche\n",
      "Processing Record 40 of Set 5 | Bambous Virieux\n",
      "Processing Record 41 of Set 5 | Kulhudhuffushi\n",
      "Processing Record 42 of Set 5 | Airai\n",
      "Processing Record 43 of Set 5 | Mindelo\n",
      "Processing Record 44 of Set 5 | Troitskoye\n",
      "Processing Record 45 of Set 5 | São Filipe\n",
      "Processing Record 46 of Set 5 | Yertsevo\n",
      "Processing Record 47 of Set 5 | Tobe\n",
      "Processing Record 48 of Set 5 | Sarangani\n",
      "Processing Record 49 of Set 5 | Breznik\n",
      "Processing Record 50 of Set 5 | Coxim\n",
      "Processing Record 0 of Set 6 | Sambava\n",
      "Processing Record 1 of Set 6 | Ürümqi\n",
      "Processing Record 2 of Set 6 | Killybegs\n",
      "Processing Record 3 of Set 6 | Ilhabela\n",
      "Processing Record 4 of Set 6 | Chester\n",
      "City not found. Skipping...\n",
      "Processing Record 5 of Set 6 | Anadyr\n",
      "Processing Record 6 of Set 6 | Povenets\n",
      "Processing Record 7 of Set 6 | Marzuq\n",
      "Processing Record 8 of Set 6 | Calama\n",
      "Processing Record 9 of Set 6 | Pevek\n",
      "Processing Record 10 of Set 6 | Santa Isabel Rio Negro\n",
      "Processing Record 11 of Set 6 | Katsuura\n",
      "Processing Record 12 of Set 6 | Fuente Palmera\n",
      "Processing Record 13 of Set 6 | Whitehorse\n",
      "Processing Record 14 of Set 6 | Kāmthi\n",
      "Processing Record 15 of Set 6 | Uribia\n",
      "Processing Record 16 of Set 6 | Corrales\n",
      "Processing Record 17 of Set 6 | Makkah al Mukarramah\n",
      "Processing Record 18 of Set 6 | Kashgar\n",
      "Processing Record 19 of Set 6 | Nome\n",
      "Processing Record 20 of Set 6 | Aripuanã\n",
      "Processing Record 21 of Set 6 | Takhatpur\n",
      "Processing Record 22 of Set 6 | Olinda\n",
      "Processing Record 23 of Set 6 | Kambove\n",
      "Processing Record 24 of Set 6 | Paamiut\n",
      "City not found. Skipping...\n",
      "Processing Record 25 of Set 6 | Grindavik\n",
      "Processing Record 26 of Set 6 | Sobolevo\n",
      "Processing Record 27 of Set 6 | Poum\n",
      "Processing Record 28 of Set 6 | Yārāda\n",
      "Processing Record 29 of Set 6 | Maturin\n",
      "Processing Record 30 of Set 6 | Kudat\n",
      "Processing Record 31 of Set 6 | Port Hawkesbury\n",
      "City not found. Skipping...\n",
      "Processing Record 32 of Set 6 | Kiruna\n",
      "Processing Record 33 of Set 6 | Shemgang\n",
      "Processing Record 34 of Set 6 | Sokoto\n",
      "Processing Record 35 of Set 6 | Hualmay\n",
      "Processing Record 36 of Set 6 | Cap Malheureux\n",
      "Processing Record 37 of Set 6 | Meulaboh\n",
      "City not found. Skipping...\n",
      "City not found. Skipping...\n",
      "Processing Record 38 of Set 6 | Portland\n",
      "Processing Record 39 of Set 6 | Leh\n",
      "Processing Record 40 of Set 6 | Laas\n",
      "Processing Record 41 of Set 6 | Sisophon\n",
      "Processing Record 42 of Set 6 | Abu Dhabi\n",
      "Processing Record 43 of Set 6 | Santa Rosa\n",
      "Processing Record 44 of Set 6 | Hay River\n",
      "Processing Record 45 of Set 6 | Yar-Sale\n",
      "Processing Record 46 of Set 6 | San Quintín\n",
      "Processing Record 47 of Set 6 | Korsholm\n",
      "Processing Record 48 of Set 6 | Presidencia Roque Sáenz Peña\n",
      "Processing Record 49 of Set 6 | Oloron-Sainte-Marie\n",
      "Processing Record 50 of Set 6 | Norman Wells\n",
      "Processing Record 0 of Set 7 | Shenjiamen\n",
      "Processing Record 1 of Set 7 | Gejiu\n",
      "Processing Record 2 of Set 7 | Kastamonu Province\n",
      "Processing Record 3 of Set 7 | Greenville\n",
      "Processing Record 4 of Set 7 | Nadym\n",
      "Processing Record 5 of Set 7 | Makakilo City\n",
      "Processing Record 6 of Set 7 | Tefé\n",
      "Processing Record 7 of Set 7 | Conselheiro Lafaiete\n",
      "Processing Record 8 of Set 7 | Berdigestyakh\n",
      "Processing Record 9 of Set 7 | Usman'\n",
      "Processing Record 10 of Set 7 | Barma\n",
      "Processing Record 11 of Set 7 | Quang Ngai\n",
      "Processing Record 12 of Set 7 | Cortez\n",
      "Processing Record 13 of Set 7 | Aksarka\n",
      "City not found. Skipping...\n",
      "Processing Record 14 of Set 7 | Cuamba\n",
      "Processing Record 15 of Set 7 | Tegul'det\n",
      "Processing Record 16 of Set 7 | Copiapó\n",
      "Processing Record 17 of Set 7 | Marsá Maţrūḩ\n",
      "City not found. Skipping...\n",
      "Processing Record 18 of Set 7 | Bonthe\n",
      "Processing Record 19 of Set 7 | Pangai\n",
      "City not found. Skipping...\n",
      "Processing Record 20 of Set 7 | Vestmannaeyjar\n",
      "Processing Record 21 of Set 7 | Ternate\n",
      "Processing Record 22 of Set 7 | Lebu\n",
      "Processing Record 23 of Set 7 | Victor Harbor\n",
      "Processing Record 24 of Set 7 | Bulolo\n",
      "Processing Record 25 of Set 7 | Botwood\n",
      "Processing Record 26 of Set 7 | Ndélé\n",
      "Processing Record 27 of Set 7 | Nago\n",
      "Processing Record 28 of Set 7 | Klaksvík\n",
      "Processing Record 29 of Set 7 | Winburg\n",
      "Processing Record 30 of Set 7 | Chivay\n",
      "Processing Record 31 of Set 7 | Chernigovka\n",
      "Processing Record 32 of Set 7 | Bac Lieu\n",
      "Processing Record 33 of Set 7 | Bahraich\n",
      "Processing Record 34 of Set 7 | Te Anau\n",
      "Processing Record 35 of Set 7 | Arrondissement de Saint-Denis\n",
      "Processing Record 36 of Set 7 | Washougal\n",
      "Processing Record 37 of Set 7 | Tabou\n",
      "Processing Record 38 of Set 7 | Benguela\n",
      "Processing Record 39 of Set 7 | Half Moon Bay\n",
      "Processing Record 40 of Set 7 | Kushmurun\n",
      "Processing Record 41 of Set 7 | Ayr\n",
      "Processing Record 42 of Set 7 | Haines Junction\n",
      "Processing Record 43 of Set 7 | Porto Tolle\n",
      "Processing Record 44 of Set 7 | Muroto-misakicho\n",
      "Processing Record 45 of Set 7 | Karratha\n",
      "Processing Record 46 of Set 7 | Flinders\n",
      "Processing Record 47 of Set 7 | Mahébourg\n",
      "Processing Record 48 of Set 7 | Xining\n",
      "Processing Record 49 of Set 7 | San Patricio\n",
      "Processing Record 50 of Set 7 | Westport\n",
      "Processing Record 0 of Set 8 | Merke\n",
      "Processing Record 1 of Set 8 | Kargasok\n",
      "Processing Record 2 of Set 8 | Dzerzhinsk\n",
      "Processing Record 3 of Set 8 | Tocache\n",
      "Processing Record 4 of Set 8 | Zhezkazgan\n",
      "Processing Record 5 of Set 8 | Ballina\n",
      "Processing Record 6 of Set 8 | Port Lincoln\n",
      "Processing Record 7 of Set 8 | Port Hedland\n",
      "Processing Record 8 of Set 8 | Wawa\n",
      "Processing Record 9 of Set 8 | Athabasca\n",
      "Processing Record 10 of Set 8 | Hamilton\n",
      "Processing Record 11 of Set 8 | Gizo Government Station\n",
      "Processing Record 12 of Set 8 | Cho Dok\n",
      "Processing Record 13 of Set 8 | Río Gallegos\n",
      "Processing Record 14 of Set 8 | Fort Nelson\n",
      "Processing Record 15 of Set 8 | Belogorsk\n",
      "Processing Record 16 of Set 8 | Bayan\n",
      "Processing Record 17 of Set 8 | Alugan\n"
     ]
    },
    {
     "name": "stdout",
     "output_type": "stream",
     "text": [
      "Processing Record 18 of Set 8 | Davila\n",
      "Processing Record 19 of Set 8 | Zhigansk\n",
      "Processing Record 20 of Set 8 | San Cristobal\n",
      "Processing Record 21 of Set 8 | Kyzyl-Mazhalyk\n",
      "Processing Record 22 of Set 8 | Wagga Wagga\n",
      "Processing Record 23 of Set 8 | Colares\n",
      "Processing Record 24 of Set 8 | Monte Patria\n",
      "Processing Record 25 of Set 8 | Flin Flon\n",
      "Processing Record 26 of Set 8 | Kuito\n",
      "Processing Record 27 of Set 8 | Galle\n",
      "Processing Record 28 of Set 8 | Quartucciu\n",
      "Processing Record 29 of Set 8 | San Borja\n",
      "City not found. Skipping...\n",
      "Processing Record 30 of Set 8 | Olafsvik\n",
      "Processing Record 31 of Set 8 | Ulagan\n",
      "Processing Record 32 of Set 8 | Tiznit Province\n",
      "Processing Record 33 of Set 8 | Kirakira\n",
      "Processing Record 34 of Set 8 | Garmsār\n",
      "Processing Record 35 of Set 8 | Warrington\n",
      "Processing Record 36 of Set 8 | Sundumbili\n",
      "Processing Record 37 of Set 8 | Sola\n",
      "Processing Record 38 of Set 8 | Borgo San Dalmazzo\n",
      "Processing Record 39 of Set 8 | Spencer\n",
      "City not found. Skipping...\n",
      "Processing Record 40 of Set 8 | Lityn\n",
      "Processing Record 41 of Set 8 | Bangassou\n",
      "Processing Record 42 of Set 8 | Lanzhou\n",
      "Processing Record 43 of Set 8 | Luwingu\n",
      "Processing Record 44 of Set 8 | Lagoa\n",
      "Processing Record 45 of Set 8 | Lata\n",
      "Processing Record 46 of Set 8 | Siilinjärvi\n",
      "Processing Record 47 of Set 8 | Behbahān\n",
      "Processing Record 48 of Set 8 | Bowen\n",
      "Processing Record 49 of Set 8 | Bronte\n",
      "Processing Record 50 of Set 8 | Inhambane\n",
      "Processing Record 0 of Set 9 | Okhotsk\n",
      "Processing Record 1 of Set 9 | Bodden Town\n",
      "Processing Record 2 of Set 9 | Korem\n",
      "Processing Record 3 of Set 9 | Codrington\n",
      "Processing Record 4 of Set 9 | Nishihara\n",
      "Processing Record 5 of Set 9 | Mossamedes\n",
      "Processing Record 6 of Set 9 | Ponta do Sol\n",
      "Processing Record 7 of Set 9 | Chumikan\n",
      "Processing Record 8 of Set 9 | Viet Tri\n",
      "Processing Record 9 of Set 9 | Severo-Kuril'sk\n",
      "Processing Record 10 of Set 9 | La Santisima Trinidad\n",
      "Processing Record 11 of Set 9 | Ponta Delgada\n",
      "Processing Record 12 of Set 9 | Opuwo\n",
      "Processing Record 13 of Set 9 | Zheleznogorsk\n",
      "Processing Record 14 of Set 9 | Fortuna\n",
      "Processing Record 15 of Set 9 | Cutro\n",
      "Processing Record 16 of Set 9 | Kirkenær\n",
      "Processing Record 17 of Set 9 | Sur\n",
      "Processing Record 18 of Set 9 | Kirkuk\n",
      "Processing Record 19 of Set 9 | Mayo\n",
      "Processing Record 20 of Set 9 | Namatanai\n",
      "Processing Record 21 of Set 9 | Manyana\n",
      "Processing Record 22 of Set 9 | Maragogi\n",
      "Processing Record 23 of Set 9 | Skellefteå\n",
      "City not found. Skipping...\n",
      "Processing Record 24 of Set 9 | Razdol'noye\n",
      "Processing Record 25 of Set 9 | Arman'\n",
      "City not found. Skipping...\n",
      "Processing Record 26 of Set 9 | Charters Towers\n",
      "Processing Record 27 of Set 9 | Eirunepé\n",
      "Processing Record 28 of Set 9 | Priargunsk\n",
      "Processing Record 29 of Set 9 | Oliver\n",
      "Processing Record 30 of Set 9 | Lodwar\n",
      "Processing Record 31 of Set 9 | Klyuchi\n",
      "Processing Record 32 of Set 9 | Vanimo\n",
      "Processing Record 33 of Set 9 | Pedernales\n",
      "City not found. Skipping...\n",
      "Processing Record 34 of Set 9 | Bairiki Village\n",
      "Processing Record 35 of Set 9 | Acapulco de Juárez\n",
      "Processing Record 36 of Set 9 | Shingū\n",
      "Processing Record 37 of Set 9 | Yele\n",
      "Processing Record 38 of Set 9 | Rosario\n",
      "Processing Record 39 of Set 9 | Bara\n",
      "Processing Record 40 of Set 9 | Benjamin Constant\n",
      "Processing Record 41 of Set 9 | Sorong\n",
      "Processing Record 42 of Set 9 | Tongchuanshi\n",
      "Processing Record 43 of Set 9 | Otjiwarongo\n",
      "Processing Record 44 of Set 9 | Bismarck\n",
      "Processing Record 45 of Set 9 | West Wendover\n",
      "Processing Record 46 of Set 9 | Kalyazin\n",
      "Processing Record 47 of Set 9 | Virginia Beach\n",
      "Processing Record 48 of Set 9 | Egvekinot\n",
      "Processing Record 49 of Set 9 | Pokoynoye\n",
      "Processing Record 50 of Set 9 | Diamantino\n",
      "Processing Record 0 of Set 10 | Chunoyar\n",
      "Processing Record 1 of Set 10 | Thinadhoo\n",
      "Processing Record 2 of Set 10 | Gerāsh\n",
      "Processing Record 3 of Set 10 | Arrondissement de Narbonne\n",
      "Processing Record 4 of Set 10 | Moose Factory\n",
      "Processing Record 5 of Set 10 | Vila Velha\n",
      "Processing Record 6 of Set 10 | Kenora\n",
      "Processing Record 7 of Set 10 | West Plains\n",
      "Processing Record 8 of Set 10 | Byron Bay\n",
      "Processing Record 9 of Set 10 | Pringsewu\n",
      "Processing Record 10 of Set 10 | Verāval\n",
      "Processing Record 11 of Set 10 | North Bend\n",
      "Processing Record 12 of Set 10 | Forbes\n",
      "Processing Record 13 of Set 10 | Dakar\n",
      "Processing Record 14 of Set 10 | Acaraú\n",
      "Processing Record 15 of Set 10 | The Valley\n",
      "Processing Record 16 of Set 10 | Nuuk\n",
      "Processing Record 17 of Set 10 | Prince Rupert\n",
      "Processing Record 18 of Set 10 | Sattahip\n",
      "Processing Record 19 of Set 10 | Del Rio\n",
      "Processing Record 20 of Set 10 | Zvishavane\n",
      "Processing Record 21 of Set 10 | Theunissen\n",
      "Processing Record 22 of Set 10 | Örnsköldsvik\n",
      "Processing Record 23 of Set 10 | Saldanha\n",
      "Processing Record 24 of Set 10 | Karpogory\n",
      "Processing Record 25 of Set 10 | Binzhou\n",
      "Processing Record 26 of Set 10 | Baykit\n",
      "Processing Record 27 of Set 10 | Mayachnyy\n",
      "Processing Record 28 of Set 10 | Arco\n",
      "Processing Record 29 of Set 10 | Alta Floresta\n",
      "Processing Record 30 of Set 10 | Tilichiki\n",
      "Processing Record 31 of Set 10 | Catuday\n",
      "Processing Record 32 of Set 10 | Jasper\n",
      "Processing Record 33 of Set 10 | Qui Nhon\n",
      "Processing Record 34 of Set 10 | Vila\n",
      "Processing Record 35 of Set 10 | Ibrā’\n",
      "Processing Record 36 of Set 10 | Adrar\n",
      "Processing Record 37 of Set 10 | Salym\n",
      "Processing Record 38 of Set 10 | Concordia\n",
      "Processing Record 39 of Set 10 | Savonlinna\n",
      "Processing Record 40 of Set 10 | São João da Barra\n",
      "Processing Record 41 of Set 10 | Campbell River\n",
      "Processing Record 42 of Set 10 | Grand Gaube\n",
      "Processing Record 43 of Set 10 | Ahipara\n",
      "Processing Record 44 of Set 10 | Pelym\n",
      "Processing Record 45 of Set 10 | Touros\n",
      "City not found. Skipping...\n",
      "Processing Record 46 of Set 10 | Saint Anthony\n",
      "Processing Record 47 of Set 10 | Auki\n",
      "Processing Record 48 of Set 10 | Ciudad Sabinas Hidalgo\n",
      "Processing Record 49 of Set 10 | The Pas\n",
      "Processing Record 50 of Set 10 | Nanortalik\n",
      "Processing Record 0 of Set 11 | Beruwala\n",
      "Processing Record 1 of Set 11 | Erenhot\n",
      "Processing Record 2 of Set 11 | Port Macquarie\n",
      "City not found. Skipping...\n",
      "Processing Record 3 of Set 11 | Komarikhinskiy\n",
      "Processing Record 4 of Set 11 | Dumas\n",
      "Processing Record 5 of Set 11 | Shwebo\n",
      "Processing Record 6 of Set 11 | Okmulgee\n",
      "Processing Record 7 of Set 11 | Ouadda\n",
      "Processing Record 8 of Set 11 | Ketchikan\n",
      "Processing Record 9 of Set 11 | Padang\n",
      "Processing Record 10 of Set 11 | Pangoa\n",
      "Processing Record 11 of Set 11 | Orlik\n",
      "City not found. Skipping...\n",
      "Processing Record 12 of Set 11 | Guarapari\n",
      "Processing Record 13 of Set 11 | Trois-Rivières\n",
      "Processing Record 14 of Set 11 | Novominskaya\n",
      "Processing Record 15 of Set 11 | Belaya Gora\n",
      "Processing Record 16 of Set 11 | Keuruu\n",
      "Processing Record 17 of Set 11 | Shimoda\n",
      "Processing Record 18 of Set 11 | Itō\n",
      "City not found. Skipping...\n",
      "Processing Record 19 of Set 11 | Dubti\n",
      "Processing Record 20 of Set 11 | Quelimane\n",
      "Processing Record 21 of Set 11 | Lovozero\n",
      "Processing Record 22 of Set 11 | Vardø\n",
      "Processing Record 23 of Set 11 | Margate\n",
      "Processing Record 24 of Set 11 | Tongzi\n",
      "Processing Record 25 of Set 11 | City of San Pedro\n",
      "Processing Record 26 of Set 11 | Shahrud\n",
      "City not found. Skipping...\n",
      "Processing Record 27 of Set 11 | Pittsburg\n",
      "Processing Record 28 of Set 11 | Yangi Marg`ilon\n",
      "Processing Record 29 of Set 11 | Rio Grande\n",
      "Processing Record 30 of Set 11 | Piaçabuçu\n",
      "Processing Record 31 of Set 11 | Miandrivazo\n",
      "City not found. Skipping...\n",
      "Processing Record 32 of Set 11 | Phan Thiet\n",
      "Processing Record 33 of Set 11 | Nakamura\n",
      "Processing Record 34 of Set 11 | Boende\n",
      "Processing Record 35 of Set 11 | Aksu\n",
      "Processing Record 36 of Set 11 | Fare\n",
      "Processing Record 37 of Set 11 | Kismayo\n",
      "Processing Record 38 of Set 11 | Eisenerz\n",
      "Processing Record 39 of Set 11 | Arawa\n",
      "Processing Record 40 of Set 11 | Tornio\n",
      "Processing Record 41 of Set 11 | Baley\n",
      "Processing Record 42 of Set 11 | Mier\n",
      "Processing Record 43 of Set 11 | Freeport\n",
      "City not found. Skipping...\n",
      "Processing Record 44 of Set 11 | Khovd\n",
      "City not found. Skipping...\n",
      "Processing Record 45 of Set 11 | Nouakchott\n",
      "Processing Record 46 of Set 11 | Northam\n",
      "Processing Record 47 of Set 11 | Haimen\n",
      "Processing Record 48 of Set 11 | Lázaro Cárdenas\n",
      "Processing Record 49 of Set 11 | Imphal\n",
      "Processing Record 50 of Set 11 | Luwuk\n",
      "Processing Record 0 of Set 12 | Hondomachi-hondo\n"
     ]
    },
    {
     "name": "stdout",
     "output_type": "stream",
     "text": [
      "Processing Record 1 of Set 12 | Ambunti\n",
      "Processing Record 2 of Set 12 | Tayu\n",
      "Processing Record 3 of Set 12 | Ocampo\n",
      "City not found. Skipping...\n",
      "Processing Record 4 of Set 12 | Maceió\n",
      "Processing Record 5 of Set 12 | San Jerónimo\n",
      "Processing Record 6 of Set 12 | Gijang\n",
      "Processing Record 7 of Set 12 | Funadhoo\n",
      "Processing Record 8 of Set 12 | Charter Township of Clinton\n",
      "Processing Record 9 of Set 12 | Yuncheng\n",
      "-----------------------------\n",
      "Data Retrieval Complete\n",
      "-----------------------------\n"
     ]
    }
   ],
   "source": [
    "#set query url and unit measuremnt type\n",
    "url = \"http://api.openweathermap.org/data/2.5/weather?\"\n",
    "units = \"imperial\"\n",
    "query_url = f\"{url}appid={weather_api_key}&units={units}&q=\"\n",
    "\n",
    "#set lists to hold df values\n",
    "name = []\n",
    "country = []\n",
    "lat = []\n",
    "lon = []\n",
    "max_temp = []\n",
    "hum = []\n",
    "clouds = []\n",
    "wind_speed = []\n",
    "date = []\n",
    "\n",
    "#set record and set count\n",
    "record = 0\n",
    "set_count = 1\n",
    "\n",
    "#format print log\n",
    "print(f\"Beginning Data Retrieval\")\n",
    "print(f\"-------------------------------\")\n",
    "\n",
    "for index, city in enumerate(cities, start = 1): \n",
    "    response = requests.get(query_url + city).json()\n",
    "    #pprint(response)\n",
    "    \n",
    "    try:\n",
    "        name.append(response[\"name\"])\n",
    "        country.append(response[\"sys\"][\"country\"])\n",
    "        lat.append(response[\"coord\"][\"lat\"])\n",
    "        lon.append(response[\"coord\"][\"lon\"])\n",
    "        max_temp.append(response[\"main\"][\"temp_max\"])\n",
    "        hum.append(response[\"main\"][\"humidity\"])\n",
    "        clouds.append(response[\"clouds\"][\"all\"])\n",
    "        wind_speed.append(response[\"wind\"][\"speed\"])\n",
    "        date.append(response[\"dt\"])       \n",
    "        city_name = response[\"name\"]\n",
    "        \n",
    "        if record > 49:\n",
    "            record = 0\n",
    "            set_count = set_count + 1\n",
    "        else:\n",
    "            record = record + 1\n",
    "            \n",
    "        print(f\"Processing Record {record} of Set {set_count} | {city_name}\")\n",
    "        \n",
    "        time.sleep(1)\n",
    "        \n",
    "    except:\n",
    "        print(f\"City not found. Skipping...\")\n",
    "    continue\n",
    "    \n",
    "print(\"-----------------------------\")\n",
    "print(\"Data Retrieval Complete\")\n",
    "print(\"-----------------------------\")"
   ]
  },
  {
   "cell_type": "markdown",
   "metadata": {},
   "source": [
    "### Convert Raw Data to DataFrame\n",
    "* Export the city data into a .csv.\n",
    "* Display the DataFrame\n"
   ]
  },
  {
   "cell_type": "code",
   "execution_count": 4,
   "metadata": {},
   "outputs": [
    {
     "data": {
      "text/html": [
       "<div>\n",
       "<style scoped>\n",
       "    .dataframe tbody tr th:only-of-type {\n",
       "        vertical-align: middle;\n",
       "    }\n",
       "\n",
       "    .dataframe tbody tr th {\n",
       "        vertical-align: top;\n",
       "    }\n",
       "\n",
       "    .dataframe thead th {\n",
       "        text-align: right;\n",
       "    }\n",
       "</style>\n",
       "<table border=\"1\" class=\"dataframe\">\n",
       "  <thead>\n",
       "    <tr style=\"text-align: right;\">\n",
       "      <th></th>\n",
       "      <th>City</th>\n",
       "      <th>Lat</th>\n",
       "      <th>Lng</th>\n",
       "      <th>Max Temp</th>\n",
       "      <th>Humidity</th>\n",
       "      <th>Cloudiness</th>\n",
       "      <th>Wind Speed</th>\n",
       "      <th>Country</th>\n",
       "      <th>Date</th>\n",
       "    </tr>\n",
       "  </thead>\n",
       "  <tbody>\n",
       "    <tr>\n",
       "      <th>0</th>\n",
       "      <td>Kamenka</td>\n",
       "      <td>51.32</td>\n",
       "      <td>42.77</td>\n",
       "      <td>20.35</td>\n",
       "      <td>98</td>\n",
       "      <td>53</td>\n",
       "      <td>7.00</td>\n",
       "      <td>RU</td>\n",
       "      <td>1609717264</td>\n",
       "    </tr>\n",
       "    <tr>\n",
       "      <th>1</th>\n",
       "      <td>Jamestown</td>\n",
       "      <td>42.10</td>\n",
       "      <td>-79.24</td>\n",
       "      <td>35.01</td>\n",
       "      <td>96</td>\n",
       "      <td>90</td>\n",
       "      <td>8.05</td>\n",
       "      <td>US</td>\n",
       "      <td>1609717266</td>\n",
       "    </tr>\n",
       "    <tr>\n",
       "      <th>2</th>\n",
       "      <td>Saint-Philippe</td>\n",
       "      <td>-21.36</td>\n",
       "      <td>55.77</td>\n",
       "      <td>75.20</td>\n",
       "      <td>73</td>\n",
       "      <td>40</td>\n",
       "      <td>10.29</td>\n",
       "      <td>RE</td>\n",
       "      <td>1609717267</td>\n",
       "    </tr>\n",
       "    <tr>\n",
       "      <th>3</th>\n",
       "      <td>Kavieng</td>\n",
       "      <td>-2.57</td>\n",
       "      <td>150.80</td>\n",
       "      <td>85.46</td>\n",
       "      <td>70</td>\n",
       "      <td>97</td>\n",
       "      <td>16.58</td>\n",
       "      <td>PG</td>\n",
       "      <td>1609717268</td>\n",
       "    </tr>\n",
       "    <tr>\n",
       "      <th>4</th>\n",
       "      <td>Tautira</td>\n",
       "      <td>-17.73</td>\n",
       "      <td>-149.15</td>\n",
       "      <td>87.80</td>\n",
       "      <td>55</td>\n",
       "      <td>20</td>\n",
       "      <td>17.22</td>\n",
       "      <td>PF</td>\n",
       "      <td>1609717269</td>\n",
       "    </tr>\n",
       "  </tbody>\n",
       "</table>\n",
       "</div>"
      ],
      "text/plain": [
       "             City    Lat     Lng  Max Temp  Humidity  Cloudiness  Wind Speed  \\\n",
       "0         Kamenka  51.32   42.77     20.35        98          53        7.00   \n",
       "1       Jamestown  42.10  -79.24     35.01        96          90        8.05   \n",
       "2  Saint-Philippe -21.36   55.77     75.20        73          40       10.29   \n",
       "3         Kavieng  -2.57  150.80     85.46        70          97       16.58   \n",
       "4         Tautira -17.73 -149.15     87.80        55          20       17.22   \n",
       "\n",
       "  Country        Date  \n",
       "0      RU  1609717264  \n",
       "1      US  1609717266  \n",
       "2      RE  1609717267  \n",
       "3      PG  1609717268  \n",
       "4      PF  1609717269  "
      ]
     },
     "execution_count": 4,
     "metadata": {},
     "output_type": "execute_result"
    }
   ],
   "source": [
    "#create df of city weather \n",
    "city_weather = pd.DataFrame({\"City\": name,\n",
    "                             \"Lat\": lat,\n",
    "                             \"Lng\": lon,\n",
    "                             \"Max Temp\": max_temp,\n",
    "                             \"Humidity\": hum,\n",
    "                             \"Cloudiness\": clouds,\n",
    "                             \"Wind Speed\": wind_speed,\n",
    "                             \"Country\": country,\n",
    "                             \"Date\": date})\n",
    "\n",
    "#set output file and write df to a csv\n",
    "output_file = os.path.join(\"..\", \"Output_Data\", \"cities.csv\")\n",
    "\n",
    "city_weather.to_csv(output_file, index=True, header=True)\n",
    "city_weather.head()"
   ]
  },
  {
   "cell_type": "code",
   "execution_count": 5,
   "metadata": {},
   "outputs": [
    {
     "data": {
      "text/html": [
       "<div>\n",
       "<style scoped>\n",
       "    .dataframe tbody tr th:only-of-type {\n",
       "        vertical-align: middle;\n",
       "    }\n",
       "\n",
       "    .dataframe tbody tr th {\n",
       "        vertical-align: top;\n",
       "    }\n",
       "\n",
       "    .dataframe thead th {\n",
       "        text-align: right;\n",
       "    }\n",
       "</style>\n",
       "<table border=\"1\" class=\"dataframe\">\n",
       "  <thead>\n",
       "    <tr style=\"text-align: right;\">\n",
       "      <th></th>\n",
       "      <th>Lat</th>\n",
       "      <th>Lng</th>\n",
       "      <th>Max Temp</th>\n",
       "      <th>Humidity</th>\n",
       "      <th>Cloudiness</th>\n",
       "      <th>Wind Speed</th>\n",
       "      <th>Date</th>\n",
       "    </tr>\n",
       "  </thead>\n",
       "  <tbody>\n",
       "    <tr>\n",
       "      <th>count</th>\n",
       "      <td>570.000000</td>\n",
       "      <td>570.000000</td>\n",
       "      <td>570.000000</td>\n",
       "      <td>570.000000</td>\n",
       "      <td>570.000000</td>\n",
       "      <td>570.000000</td>\n",
       "      <td>5.700000e+02</td>\n",
       "    </tr>\n",
       "    <tr>\n",
       "      <th>mean</th>\n",
       "      <td>20.783386</td>\n",
       "      <td>23.580281</td>\n",
       "      <td>48.016228</td>\n",
       "      <td>76.700000</td>\n",
       "      <td>56.000000</td>\n",
       "      <td>7.819509</td>\n",
       "      <td>1.609718e+09</td>\n",
       "    </tr>\n",
       "    <tr>\n",
       "      <th>std</th>\n",
       "      <td>32.978051</td>\n",
       "      <td>90.429312</td>\n",
       "      <td>32.154776</td>\n",
       "      <td>17.858047</td>\n",
       "      <td>39.010251</td>\n",
       "      <td>6.113525</td>\n",
       "      <td>2.127528e+02</td>\n",
       "    </tr>\n",
       "    <tr>\n",
       "      <th>min</th>\n",
       "      <td>-54.800000</td>\n",
       "      <td>-179.170000</td>\n",
       "      <td>-43.600000</td>\n",
       "      <td>7.000000</td>\n",
       "      <td>0.000000</td>\n",
       "      <td>0.180000</td>\n",
       "      <td>1.609717e+09</td>\n",
       "    </tr>\n",
       "    <tr>\n",
       "      <th>25%</th>\n",
       "      <td>-6.955000</td>\n",
       "      <td>-55.905000</td>\n",
       "      <td>30.200000</td>\n",
       "      <td>70.000000</td>\n",
       "      <td>18.000000</td>\n",
       "      <td>3.360000</td>\n",
       "      <td>1.609717e+09</td>\n",
       "    </tr>\n",
       "    <tr>\n",
       "      <th>50%</th>\n",
       "      <td>25.170000</td>\n",
       "      <td>27.460000</td>\n",
       "      <td>59.020000</td>\n",
       "      <td>81.500000</td>\n",
       "      <td>75.000000</td>\n",
       "      <td>6.140000</td>\n",
       "      <td>1.609718e+09</td>\n",
       "    </tr>\n",
       "    <tr>\n",
       "      <th>75%</th>\n",
       "      <td>48.077500</td>\n",
       "      <td>105.060000</td>\n",
       "      <td>74.995000</td>\n",
       "      <td>88.750000</td>\n",
       "      <td>92.000000</td>\n",
       "      <td>10.290000</td>\n",
       "      <td>1.609718e+09</td>\n",
       "    </tr>\n",
       "    <tr>\n",
       "      <th>max</th>\n",
       "      <td>78.220000</td>\n",
       "      <td>179.320000</td>\n",
       "      <td>94.460000</td>\n",
       "      <td>100.000000</td>\n",
       "      <td>100.000000</td>\n",
       "      <td>35.990000</td>\n",
       "      <td>1.609718e+09</td>\n",
       "    </tr>\n",
       "  </tbody>\n",
       "</table>\n",
       "</div>"
      ],
      "text/plain": [
       "              Lat         Lng    Max Temp    Humidity  Cloudiness  Wind Speed  \\\n",
       "count  570.000000  570.000000  570.000000  570.000000  570.000000  570.000000   \n",
       "mean    20.783386   23.580281   48.016228   76.700000   56.000000    7.819509   \n",
       "std     32.978051   90.429312   32.154776   17.858047   39.010251    6.113525   \n",
       "min    -54.800000 -179.170000  -43.600000    7.000000    0.000000    0.180000   \n",
       "25%     -6.955000  -55.905000   30.200000   70.000000   18.000000    3.360000   \n",
       "50%     25.170000   27.460000   59.020000   81.500000   75.000000    6.140000   \n",
       "75%     48.077500  105.060000   74.995000   88.750000   92.000000   10.290000   \n",
       "max     78.220000  179.320000   94.460000  100.000000  100.000000   35.990000   \n",
       "\n",
       "               Date  \n",
       "count  5.700000e+02  \n",
       "mean   1.609718e+09  \n",
       "std    2.127528e+02  \n",
       "min    1.609717e+09  \n",
       "25%    1.609717e+09  \n",
       "50%    1.609718e+09  \n",
       "75%    1.609718e+09  \n",
       "max    1.609718e+09  "
      ]
     },
     "execution_count": 5,
     "metadata": {},
     "output_type": "execute_result"
    }
   ],
   "source": [
    "#calculate descriptive statistics \n",
    "city_weather.describe()"
   ]
  },
  {
   "cell_type": "markdown",
   "metadata": {},
   "source": [
    "## Inspect the data and remove the cities where the humidity > 100%.\n",
    "----\n",
    "Skip this step if there are no cities that have humidity > 100%. "
   ]
  },
  {
   "cell_type": "code",
   "execution_count": 6,
   "metadata": {},
   "outputs": [
    {
     "data": {
      "text/html": [
       "<div>\n",
       "<style scoped>\n",
       "    .dataframe tbody tr th:only-of-type {\n",
       "        vertical-align: middle;\n",
       "    }\n",
       "\n",
       "    .dataframe tbody tr th {\n",
       "        vertical-align: top;\n",
       "    }\n",
       "\n",
       "    .dataframe thead th {\n",
       "        text-align: right;\n",
       "    }\n",
       "</style>\n",
       "<table border=\"1\" class=\"dataframe\">\n",
       "  <thead>\n",
       "    <tr style=\"text-align: right;\">\n",
       "      <th></th>\n",
       "      <th>City</th>\n",
       "      <th>Lat</th>\n",
       "      <th>Lng</th>\n",
       "      <th>Max Temp</th>\n",
       "      <th>Humidity</th>\n",
       "      <th>Cloudiness</th>\n",
       "      <th>Wind Speed</th>\n",
       "      <th>Country</th>\n",
       "      <th>Date</th>\n",
       "    </tr>\n",
       "  </thead>\n",
       "  <tbody>\n",
       "    <tr>\n",
       "      <th>0</th>\n",
       "      <td>Kamenka</td>\n",
       "      <td>51.32</td>\n",
       "      <td>42.77</td>\n",
       "      <td>20.35</td>\n",
       "      <td>98</td>\n",
       "      <td>53</td>\n",
       "      <td>7.00</td>\n",
       "      <td>RU</td>\n",
       "      <td>1609717264</td>\n",
       "    </tr>\n",
       "    <tr>\n",
       "      <th>1</th>\n",
       "      <td>Jamestown</td>\n",
       "      <td>42.10</td>\n",
       "      <td>-79.24</td>\n",
       "      <td>35.01</td>\n",
       "      <td>96</td>\n",
       "      <td>90</td>\n",
       "      <td>8.05</td>\n",
       "      <td>US</td>\n",
       "      <td>1609717266</td>\n",
       "    </tr>\n",
       "    <tr>\n",
       "      <th>2</th>\n",
       "      <td>Saint-Philippe</td>\n",
       "      <td>-21.36</td>\n",
       "      <td>55.77</td>\n",
       "      <td>75.20</td>\n",
       "      <td>73</td>\n",
       "      <td>40</td>\n",
       "      <td>10.29</td>\n",
       "      <td>RE</td>\n",
       "      <td>1609717267</td>\n",
       "    </tr>\n",
       "    <tr>\n",
       "      <th>3</th>\n",
       "      <td>Kavieng</td>\n",
       "      <td>-2.57</td>\n",
       "      <td>150.80</td>\n",
       "      <td>85.46</td>\n",
       "      <td>70</td>\n",
       "      <td>97</td>\n",
       "      <td>16.58</td>\n",
       "      <td>PG</td>\n",
       "      <td>1609717268</td>\n",
       "    </tr>\n",
       "    <tr>\n",
       "      <th>4</th>\n",
       "      <td>Tautira</td>\n",
       "      <td>-17.73</td>\n",
       "      <td>-149.15</td>\n",
       "      <td>87.80</td>\n",
       "      <td>55</td>\n",
       "      <td>20</td>\n",
       "      <td>17.22</td>\n",
       "      <td>PF</td>\n",
       "      <td>1609717269</td>\n",
       "    </tr>\n",
       "    <tr>\n",
       "      <th>...</th>\n",
       "      <td>...</td>\n",
       "      <td>...</td>\n",
       "      <td>...</td>\n",
       "      <td>...</td>\n",
       "      <td>...</td>\n",
       "      <td>...</td>\n",
       "      <td>...</td>\n",
       "      <td>...</td>\n",
       "      <td>...</td>\n",
       "    </tr>\n",
       "    <tr>\n",
       "      <th>565</th>\n",
       "      <td>San Jerónimo</td>\n",
       "      <td>-11.95</td>\n",
       "      <td>-75.28</td>\n",
       "      <td>52.65</td>\n",
       "      <td>71</td>\n",
       "      <td>35</td>\n",
       "      <td>3.31</td>\n",
       "      <td>PE</td>\n",
       "      <td>1609717966</td>\n",
       "    </tr>\n",
       "    <tr>\n",
       "      <th>566</th>\n",
       "      <td>Gijang</td>\n",
       "      <td>35.24</td>\n",
       "      <td>129.21</td>\n",
       "      <td>24.80</td>\n",
       "      <td>62</td>\n",
       "      <td>0</td>\n",
       "      <td>1.12</td>\n",
       "      <td>KR</td>\n",
       "      <td>1609717701</td>\n",
       "    </tr>\n",
       "    <tr>\n",
       "      <th>567</th>\n",
       "      <td>Funadhoo</td>\n",
       "      <td>6.15</td>\n",
       "      <td>73.27</td>\n",
       "      <td>81.52</td>\n",
       "      <td>72</td>\n",
       "      <td>56</td>\n",
       "      <td>7.45</td>\n",
       "      <td>MV</td>\n",
       "      <td>1609717968</td>\n",
       "    </tr>\n",
       "    <tr>\n",
       "      <th>568</th>\n",
       "      <td>Charter Township of Clinton</td>\n",
       "      <td>42.59</td>\n",
       "      <td>-82.92</td>\n",
       "      <td>36.00</td>\n",
       "      <td>100</td>\n",
       "      <td>90</td>\n",
       "      <td>3.83</td>\n",
       "      <td>US</td>\n",
       "      <td>1609717969</td>\n",
       "    </tr>\n",
       "    <tr>\n",
       "      <th>569</th>\n",
       "      <td>Yuncheng</td>\n",
       "      <td>35.02</td>\n",
       "      <td>110.99</td>\n",
       "      <td>28.72</td>\n",
       "      <td>86</td>\n",
       "      <td>9</td>\n",
       "      <td>1.72</td>\n",
       "      <td>CN</td>\n",
       "      <td>1609717971</td>\n",
       "    </tr>\n",
       "  </tbody>\n",
       "</table>\n",
       "<p>570 rows × 9 columns</p>\n",
       "</div>"
      ],
      "text/plain": [
       "                            City    Lat     Lng  Max Temp  Humidity  \\\n",
       "0                        Kamenka  51.32   42.77     20.35        98   \n",
       "1                      Jamestown  42.10  -79.24     35.01        96   \n",
       "2                 Saint-Philippe -21.36   55.77     75.20        73   \n",
       "3                        Kavieng  -2.57  150.80     85.46        70   \n",
       "4                        Tautira -17.73 -149.15     87.80        55   \n",
       "..                           ...    ...     ...       ...       ...   \n",
       "565                 San Jerónimo -11.95  -75.28     52.65        71   \n",
       "566                       Gijang  35.24  129.21     24.80        62   \n",
       "567                     Funadhoo   6.15   73.27     81.52        72   \n",
       "568  Charter Township of Clinton  42.59  -82.92     36.00       100   \n",
       "569                     Yuncheng  35.02  110.99     28.72        86   \n",
       "\n",
       "     Cloudiness  Wind Speed Country        Date  \n",
       "0            53        7.00      RU  1609717264  \n",
       "1            90        8.05      US  1609717266  \n",
       "2            40       10.29      RE  1609717267  \n",
       "3            97       16.58      PG  1609717268  \n",
       "4            20       17.22      PF  1609717269  \n",
       "..          ...         ...     ...         ...  \n",
       "565          35        3.31      PE  1609717966  \n",
       "566           0        1.12      KR  1609717701  \n",
       "567          56        7.45      MV  1609717968  \n",
       "568          90        3.83      US  1609717969  \n",
       "569           9        1.72      CN  1609717971  \n",
       "\n",
       "[570 rows x 9 columns]"
      ]
     },
     "execution_count": 6,
     "metadata": {},
     "output_type": "execute_result"
    }
   ],
   "source": [
    "humidity_check = city_weather.loc[city_weather[\"Humidity\"] <= 100]\n",
    "humidity_check"
   ]
  },
  {
   "cell_type": "code",
   "execution_count": 7,
   "metadata": {},
   "outputs": [],
   "source": [
    "#  Get the indices of cities that have humidity over 100%.\n"
   ]
  },
  {
   "cell_type": "code",
   "execution_count": 8,
   "metadata": {},
   "outputs": [],
   "source": [
    "# Make a new DataFrame equal to the city data to drop all humidity outliers by index.\n",
    "# Passing \"inplace=False\" will make a copy of the city_data DataFrame, which we call \"clean_city_data\".\n"
   ]
  },
  {
   "cell_type": "code",
   "execution_count": null,
   "metadata": {},
   "outputs": [],
   "source": [
    "\n"
   ]
  },
  {
   "cell_type": "markdown",
   "metadata": {},
   "source": [
    "## Plotting the Data\n",
    "* Use proper labeling of the plots using plot titles (including date of analysis) and axes labels.\n",
    "* Save the plotted figures as .pngs."
   ]
  },
  {
   "cell_type": "markdown",
   "metadata": {},
   "source": [
    "## Latitude vs. Temperature Plot"
   ]
  },
  {
   "cell_type": "code",
   "execution_count": 11,
   "metadata": {
    "scrolled": false
   },
   "outputs": [
    {
     "data": {
      "image/png": "[encoded data removed]",
      "text/plain": [
       "<Figure size 432x288 with 1 Axes>"
      ]
     },
     "metadata": {
      "needs_background": "light"
     },
     "output_type": "display_data"
    }
   ],
   "source": [
    "#set variable for current date to print \n",
    "today = date.today()\n",
    "\n",
    "#plot weather data\n",
    "x_values = city_weather[\"Lat\"]\n",
    "y_values = city_weather[\"Max Temp\"]\n",
    "plt.scatter(x_values, y_values, marker='o', edgecolors='black')\n",
    "plt.grid(b=True, which='major', linestyle='-')\n",
    "plt.xlabel(\"Latitude\")\n",
    "plt.ylabel(\"Max Temperature (F)\")\n",
    "plt.title(f\"City Latitude vs. Max Temperature {today}\")\n",
    "\n",
    "#save figure as png  \n",
    "plt.savefig(\"Fig1.png\", format='png')\n",
    "\n",
    "plt.show()"
   ]
  },
  {
   "cell_type": "markdown",
   "metadata": {},
   "source": [
    "This plot shows the correlation between the max temperature of cities around the world and their latitudinal location.  With 0 on the x-axis being the equator, this plot shows that the maximum temperture at locations around the equator are the warmest, and that there is a moderate negative correlation between latitude and temperature. "
   ]
  },
  {
   "cell_type": "markdown",
   "metadata": {},
   "source": [
    "## Latitude vs. Humidity Plot"
   ]
  },
  {
   "cell_type": "code",
   "execution_count": 12,
   "metadata": {},
   "outputs": [
    {
     "data": {
      "image/png": "[encoded data removed]",
      "text/plain": [
       "<Figure size 432x288 with 1 Axes>"
      ]
     },
     "metadata": {
      "needs_background": "light"
     },
     "output_type": "display_data"
    }
   ],
   "source": [
    "#plot weather data\n",
    "x_values = city_weather[\"Lat\"]\n",
    "y_values = city_weather[\"Humidity\"]\n",
    "plt.scatter(x_values, y_values, marker='o', edgecolors='black')\n",
    "plt.grid(b=True, which='major', linestyle='-')\n",
    "plt.xlabel(\"Latitude\")\n",
    "plt.ylabel(\"Humidity (%)\")\n",
    "plt.title(f\"City Latitude vs. Humidity {today}\")\n",
    "\n",
    "#save figure as png  \n",
    "plt.savefig(\"Fig2.png\", format='png')\n",
    "\n",
    "plt.show()"
   ]
  },
  {
   "cell_type": "markdown",
   "metadata": {},
   "source": [
    "This plot shows the correlation between latitudinal location of the city and their humidity level for the current day. Generally, it appears to show no real correlation between location and humidity levels.  "
   ]
  },
  {
   "cell_type": "markdown",
   "metadata": {},
   "source": [
    "## Latitude vs. Cloudiness Plot"
   ]
  },
  {
   "cell_type": "code",
   "execution_count": 13,
   "metadata": {
    "scrolled": true
   },
   "outputs": [
    {
     "data": {
      "image/png": "[encoded data removed]",
      "text/plain": [
       "<Figure size 432x288 with 1 Axes>"
      ]
     },
     "metadata": {
      "needs_background": "light"
     },
     "output_type": "display_data"
    }
   ],
   "source": [
    "#plot weather data\n",
    "x_values = city_weather[\"Lat\"]\n",
    "y_values = city_weather[\"Cloudiness\"]\n",
    "plt.scatter(x_values, y_values, marker='o', edgecolors='black')\n",
    "plt.xlabel(\"Latitude\")\n",
    "plt.ylabel(\"Cloudiness (%)\")\n",
    "plt.title(f\"City Latitude vs. Cloudiness {today}\")\n",
    "\n",
    "#save figure as png  \n",
    "plt.savefig(\"Fig3.png\", format='png')\n",
    "\n",
    "plt.show()"
   ]
  },
  {
   "cell_type": "markdown",
   "metadata": {},
   "source": [
    "This plot shows the correlation between latitudinal location of a city and the cloudiness level for the current day.  Generally, it appears to show no real correlation beteen latitude and cloudiness levels. "
   ]
  },
  {
   "cell_type": "markdown",
   "metadata": {},
   "source": [
    "## Latitude vs. Wind Speed Plot"
   ]
  },
  {
   "cell_type": "code",
   "execution_count": 14,
   "metadata": {
    "scrolled": true
   },
   "outputs": [
    {
     "data": {
      "image/png": "[encoded data removed]",
      "text/plain": [
       "<Figure size 432x288 with 1 Axes>"
      ]
     },
     "metadata": {
      "needs_background": "light"
     },
     "output_type": "display_data"
    }
   ],
   "source": [
    "#plot weather data\n",
    "x_values = city_weather[\"Lat\"]\n",
    "y_values = city_weather[\"Wind Speed\"]\n",
    "plt.scatter(x_values, y_values, marker='o', edgecolors='black')\n",
    "plt.xlabel(\"Latitude\")\n",
    "plt.ylabel(\"Wind Speed (mph)\")\n",
    "plt.title(f\"City Latitude vs. Wind Speed {today}\")\n",
    "\n",
    "#save figure as png  \n",
    "plt.savefig(\"Fig4.png\", format='png')\n",
    "\n",
    "plt.show()"
   ]
  },
  {
   "cell_type": "markdown",
   "metadata": {},
   "source": [
    "This plot shows the correlation between latitudinal location of a city and their current wind speed.  Generally, there appears to be no real correlation between location and wind speed. "
   ]
  },
  {
   "cell_type": "markdown",
   "metadata": {},
   "source": [
    "## Linear Regression"
   ]
  },
  {
   "cell_type": "code",
   "execution_count": 15,
   "metadata": {},
   "outputs": [],
   "source": [
    "north = city_weather.loc[city_weather[\"Lat\"] >= 0]\n",
    "south = city_weather.loc[city_weather[\"Lat\"] < 0]"
   ]
  },
  {
   "cell_type": "markdown",
   "metadata": {},
   "source": [
    "####  Northern Hemisphere - Max Temp vs. Latitude Linear Regression"
   ]
  },
  {
   "cell_type": "code",
   "execution_count": 16,
   "metadata": {},
   "outputs": [
    {
     "name": "stdout",
     "output_type": "stream",
     "text": [
      "The r-value is: -0.8286238384016238\n"
     ]
    },
    {
     "data": {
      "image/png": "[encoded data removed]",
      "text/plain": [
       "<Figure size 432x288 with 1 Axes>"
      ]
     },
     "metadata": {
      "needs_background": "light"
     },
     "output_type": "display_data"
    }
   ],
   "source": [
    "x = north[\"Lat\"]\n",
    "y = north[\"Max Temp\"]\n",
    "corr = st.pearsonr(x, y)[0]\n",
    "print(f'The r-value is: {corr}')\n",
    "\n",
    "slp, intr, r, p, std = st.linregress(x,y)\n",
    "regress = slp * x + intr \n",
    "line = \"y =\" + str(round(slp, 2)) + \"x +\" + str(round(intr, 2))\n",
    "\n",
    "plt.scatter(x, y, marker='o')\n",
    "plt.plot(x, regress, \"r-\")\n",
    "plt.annotate(line,(5, -20), fontsize=15, color='red')\n",
    "plt.xlabel(\"Latitude\")\n",
    "plt.ylabel(\"Max Temp (F)\")\n",
    "plt.show()"
   ]
  },
  {
   "cell_type": "markdown",
   "metadata": {},
   "source": [
    "####  Southern Hemisphere - Max Temp vs. Latitude Linear Regression"
   ]
  },
  {
   "cell_type": "code",
   "execution_count": 17,
   "metadata": {},
   "outputs": [
    {
     "name": "stdout",
     "output_type": "stream",
     "text": [
      "The r-value is: 0.4885194078906606\n"
     ]
    },
    {
     "data": {
      "image/png": "[encoded data removed]",
      "text/plain": [
       "<Figure size 432x288 with 1 Axes>"
      ]
     },
     "metadata": {
      "needs_background": "light"
     },
     "output_type": "display_data"
    }
   ],
   "source": [
    "x = south[\"Lat\"]\n",
    "y = south[\"Max Temp\"]\n",
    "corr = st.pearsonr(x, y)[0]\n",
    "print(f'The r-value is: {corr}')\n",
    "\n",
    "slp, intr, r, p, std = st.linregress(x,y)\n",
    "regress = slp * x + intr \n",
    "line = \"y =\" + str(round(slp, 2)) + \"x +\" + str(round(intr, 2))\n",
    "\n",
    "plt.scatter(x, y, marker='o')\n",
    "plt.plot(x, regress, \"r-\")\n",
    "plt.annotate(line,(-55, 85), fontsize=15, color='red')\n",
    "plt.xlabel(\"Latitude\")\n",
    "plt.ylabel(\"Max Temp (F)\")\n",
    "plt.show()"
   ]
  },
  {
   "cell_type": "markdown",
   "metadata": {},
   "source": [
    "####  Northern Hemisphere - Humidity (%) vs. Latitude Linear Regression"
   ]
  },
  {
   "cell_type": "code",
   "execution_count": 18,
   "metadata": {},
   "outputs": [
    {
     "name": "stdout",
     "output_type": "stream",
     "text": [
      "The r-value is: 0.34706765718302063\n"
     ]
    },
    {
     "data": {
      "image/png": "[encoded data removed]",
      "text/plain": [
       "<Figure size 432x288 with 1 Axes>"
      ]
     },
     "metadata": {
      "needs_background": "light"
     },
     "output_type": "display_data"
    }
   ],
   "source": [
    "x = north[\"Lat\"]\n",
    "y = north[\"Humidity\"]\n",
    "corr = st.pearsonr(x, y)[0]\n",
    "print(f'The r-value is: {corr}')\n",
    "\n",
    "slp, intr, r, p, std = st.linregress(x,y)\n",
    "regress = slp * x + intr \n",
    "line = \"y =\" + str(round(slp, 2)) + \"x +\" + str(round(intr, 2))\n",
    "\n",
    "plt.scatter(x, y, marker='o')\n",
    "plt.plot(x, regress, \"r-\")\n",
    "plt.annotate(line,(50, 30), fontsize=15, color='red')\n",
    "plt.xlabel(\"Latitude\")\n",
    "plt.ylabel(\"Humidity (%)\")\n",
    "plt.show()"
   ]
  },
  {
   "cell_type": "markdown",
   "metadata": {},
   "source": [
    "####  Southern Hemisphere - Humidity (%) vs. Latitude Linear Regression"
   ]
  },
  {
   "cell_type": "code",
   "execution_count": 19,
   "metadata": {},
   "outputs": [
    {
     "name": "stdout",
     "output_type": "stream",
     "text": [
      "The r-value is: 0.3664190464405322\n"
     ]
    },
    {
     "data": {
      "image/png": "[encoded data removed]",
      "text/plain": [
       "<Figure size 432x288 with 1 Axes>"
      ]
     },
     "metadata": {
      "needs_background": "light"
     },
     "output_type": "display_data"
    }
   ],
   "source": [
    "x = south[\"Lat\"]\n",
    "y = south[\"Humidity\"]\n",
    "corr = st.pearsonr(x, y)[0]\n",
    "print(f'The r-value is: {corr}')\n",
    "\n",
    "slp, intr, r, p, std = st.linregress(x,y)\n",
    "regress = slp * x + intr \n",
    "line = \"y =\" + str(round(slp, 2)) + \"x +\" + str(round(intr, 2))\n",
    "\n",
    "plt.scatter(x, y, marker='o')\n",
    "plt.plot(x, regress, \"r-\")\n",
    "plt.annotate(line,(-55, 20), fontsize=13, color='red')\n",
    "plt.xlabel(\"Latitude\")\n",
    "plt.ylabel(\"Humidity (%)\")\n",
    "plt.show()"
   ]
  },
  {
   "cell_type": "markdown",
   "metadata": {},
   "source": [
    "####  Northern Hemisphere - Cloudiness (%) vs. Latitude Linear Regression"
   ]
  },
  {
   "cell_type": "code",
   "execution_count": 20,
   "metadata": {},
   "outputs": [
    {
     "name": "stdout",
     "output_type": "stream",
     "text": [
      "The r-value is: 0.2948037472574455\n"
     ]
    },
    {
     "data": {
      "image/png": "[encoded data removed]",
      "text/plain": [
       "<Figure size 432x288 with 1 Axes>"
      ]
     },
     "metadata": {
      "needs_background": "light"
     },
     "output_type": "display_data"
    }
   ],
   "source": [
    "x = north[\"Lat\"]\n",
    "y = north[\"Cloudiness\"]\n",
    "corr = st.pearsonr(x, y)[0]\n",
    "print(f'The r-value is: {corr}')\n",
    "\n",
    "slp, intr, r, p, std = st.linregress(x,y)\n",
    "regress = slp * x + intr \n",
    "line = \"y =\" + str(round(slp, 2)) + \"x +\" + str(round(intr, 2))\n",
    "\n",
    "plt.scatter(x, y, marker='o')\n",
    "plt.plot(x, regress, \"r-\")\n",
    "plt.annotate(line,(15, 30), fontsize=13, color='red')\n",
    "plt.xlabel(\"Latitude\")\n",
    "plt.ylabel(\"Cloudiness (%)\")\n",
    "plt.show()"
   ]
  },
  {
   "cell_type": "markdown",
   "metadata": {},
   "source": [
    "####  Southern Hemisphere - Cloudiness (%) vs. Latitude Linear Regression"
   ]
  },
  {
   "cell_type": "code",
   "execution_count": 21,
   "metadata": {},
   "outputs": [
    {
     "name": "stdout",
     "output_type": "stream",
     "text": [
      "The r-value is: 0.17798788818196432\n"
     ]
    },
    {
     "data": {
      "image/png": "[encoded data removed]",
      "text/plain": [
       "<Figure size 432x288 with 1 Axes>"
      ]
     },
     "metadata": {
      "needs_background": "light"
     },
     "output_type": "display_data"
    }
   ],
   "source": [
    "x = south[\"Lat\"]\n",
    "y = south[\"Cloudiness\"]\n",
    "corr = st.pearsonr(x, y)[0]\n",
    "print(f'The r-value is: {corr}')\n",
    "\n",
    "slp, intr, r, p, std = st.linregress(x,y)\n",
    "regress = slp * x + intr \n",
    "line = \"y =\" + str(round(slp, 2)) + \"x +\" + str(round(intr, 2))\n",
    "\n",
    "plt.scatter(x, y, marker='o')\n",
    "plt.plot(x, regress, \"r-\")\n",
    "plt.annotate(line,(-55, 20), fontsize=13, color='red')\n",
    "plt.xlabel(\"Latitude\")\n",
    "plt.ylabel(\"Cloudiness (%)\")\n",
    "plt.show()"
   ]
  },
  {
   "cell_type": "markdown",
   "metadata": {},
   "source": [
    "####  Northern Hemisphere - Wind Speed (mph) vs. Latitude Linear Regression"
   ]
  },
  {
   "cell_type": "code",
   "execution_count": 22,
   "metadata": {},
   "outputs": [
    {
     "name": "stdout",
     "output_type": "stream",
     "text": [
      "The r-value is: 0.09967977879187695\n"
     ]
    },
    {
     "data": {
      "image/png": "[encoded data removed]",
      "text/plain": [
       "<Figure size 432x288 with 1 Axes>"
      ]
     },
     "metadata": {
      "needs_background": "light"
     },
     "output_type": "display_data"
    }
   ],
   "source": [
    "x = north[\"Lat\"]\n",
    "y = north[\"Wind Speed\"]\n",
    "corr = st.pearsonr(x, y)[0]\n",
    "print(f'The r-value is: {corr}')\n",
    "\n",
    "slp, intr, r, p, std = st.linregress(x,y)\n",
    "regress = slp * x + intr \n",
    "line = \"y =\" + str(round(slp, 2)) + \"x +\" + str(round(intr, 2))\n",
    "\n",
    "plt.scatter(x, y, marker='o')\n",
    "plt.plot(x, regress, \"r-\")\n",
    "plt.annotate(line,(0, 27), fontsize=13, color='red')\n",
    "plt.xlabel(\"Latitude\")\n",
    "plt.ylabel(\"Wind Speed (mph)\")\n",
    "plt.show()"
   ]
  },
  {
   "cell_type": "markdown",
   "metadata": {},
   "source": [
    "####  Southern Hemisphere - Wind Speed (mph) vs. Latitude Linear Regression"
   ]
  },
  {
   "cell_type": "code",
   "execution_count": 23,
   "metadata": {},
   "outputs": [
    {
     "name": "stdout",
     "output_type": "stream",
     "text": [
      "The r-value is: -0.32197501188279865\n"
     ]
    },
    {
     "data": {
      "image/png": "[encoded data removed]",
      "text/plain": [
       "<Figure size 432x288 with 1 Axes>"
      ]
     },
     "metadata": {
      "needs_background": "light"
     },
     "output_type": "display_data"
    }
   ],
   "source": [
    "x = south[\"Lat\"]\n",
    "y = south[\"Wind Speed\"]\n",
    "corr = st.pearsonr(x, y)[0]\n",
    "print(f'The r-value is: {corr}')\n",
    "\n",
    "slp, intr, r, p, std = st.linregress(x,y)\n",
    "regress = slp * x + intr \n",
    "line = \"y =\" + str(round(slp, 2)) + \"x +\" + str(round(intr, 2))\n",
    "\n",
    "plt.scatter(x, y, marker='o')\n",
    "plt.plot(x, regress, \"r-\")\n",
    "plt.annotate(line,(-55, 27), fontsize=13, color='red')\n",
    "plt.xlabel(\"Latitude\")\n",
    "plt.ylabel(\"Wind Speed (mph)\")\n",
    "plt.show()"
   ]
  },
  {
   "cell_type": "code",
   "execution_count": null,
   "metadata": {},
   "outputs": [],
   "source": []
  }
 ],
 "metadata": {
  "anaconda-cloud": {},
  "kernel_info": {
   "name": "python3"
  },
  "kernelspec": {
   "display_name": "Python 3",
   "language": "python",
   "name": "python3"
  },
  "language_info": {
   "codemirror_mode": {
    "name": "ipython",
    "version": 3
   },
   "file_extension": ".py",
   "mimetype": "text/x-python",
   "name": "python",
   "nbconvert_exporter": "python",
   "pygments_lexer": "ipython3",
   "version": "3.8.3"
  },
  "latex_envs": {
   "LaTeX_envs_menu_present": true,
   "autoclose": false,
   "autocomplete": true,
   "bibliofile": "biblio.bib",
   "cite_by": "apalike",
   "current_citInitial": 1,
   "eqLabelWithNumbers": true,
   "eqNumInitial": 1,
   "hotkeys": {
    "equation": "Ctrl-E",
    "itemize": "Ctrl-I"
   },
   "labels_anchors": false,
   "latex_user_defs": false,
   "report_style_numbering": false,
   "user_envs_cfg": false
  },
  "nteract": {
   "version": "0.12.3"
  }
 },
 "nbformat": 4,
 "nbformat_minor": 2
}
