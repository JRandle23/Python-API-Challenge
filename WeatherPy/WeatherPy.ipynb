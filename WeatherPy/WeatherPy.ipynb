{
 "cells": [
  {
   "cell_type": "markdown",
   "metadata": {},
   "source": [
    "# WeatherPy\n",
    "----\n",
    "\n",
    "#### Note\n",
    "* Instructions have been included for each segment. You do not have to follow them exactly, but they are included to help you think through the steps."
   ]
  },
  {
   "cell_type": "code",
   "execution_count": 56,
   "metadata": {
    "scrolled": true
   },
   "outputs": [],
   "source": [
    "# Dependencies and Setup\n",
    "import matplotlib.pyplot as plt\n",
    "import pandas as pd\n",
    "import numpy as np\n",
    "import requests\n",
    "import time\n",
    "import os \n",
    "import scipy.stats as st\n",
    "\n",
    "from datetime import date\n",
    "from pprint import pprint\n",
    "from scipy.stats import linregress\n",
    "\n",
    "# Import API key\n",
    "from api_keys import weather_api_key\n",
    "\n",
    "# Incorporated citipy to determine city based on latitude and longitude\n",
    "from citipy import citipy\n",
    "\n",
    "# Output File (CSV)\n",
    "output_data_file = \"Output_Data/cities.csv\"\n",
    "\n",
    "# Range of latitudes and longitudes\n",
    "lat_range = (-90, 90)\n",
    "lng_range = (-180, 180)"
   ]
  },
  {
   "cell_type": "markdown",
   "metadata": {},
   "source": [
    "## Generate Cities List"
   ]
  },
  {
   "cell_type": "code",
   "execution_count": 48,
   "metadata": {},
   "outputs": [
    {
     "data": {
      "text/plain": [
       "622"
      ]
     },
     "execution_count": 48,
     "metadata": {},
     "output_type": "execute_result"
    }
   ],
   "source": [
    " # List for holding lat_lngs and cities\n",
    "lat_lngs = []\n",
    "cities = []\n",
    "\n",
    "# Create a set of random lat and lng combinations\n",
    "lats = np.random.uniform(lat_range[0], lat_range[1], size=1500)\n",
    "lngs = np.random.uniform(lng_range[0], lng_range[1], size=1500)\n",
    "lat_lngs = zip(lats, lngs)\n",
    "\n",
    "# Identify nearest city for each lat, lng combination\n",
    "for lat_lng in lat_lngs:\n",
    "    city = citipy.nearest_city(lat_lng[0], lat_lng[1]).city_name\n",
    "    \n",
    "    # If the city is unique, then add it to a our cities list\n",
    "    if city not in cities:\n",
    "        cities.append(city)\n",
    "\n",
    "# Print the city count to confirm sufficient count\n",
    "len(cities)"
   ]
  },
  {
   "cell_type": "markdown",
   "metadata": {},
   "source": [
    "### Perform API Calls\n",
    "* Perform a weather check on each city using a series of successive API calls.\n",
    "* Include a print log of each city as its being processed (with the city number and city name).\n"
   ]
  },
  {
   "cell_type": "code",
   "execution_count": 49,
   "metadata": {
    "scrolled": true
   },
   "outputs": [
    {
     "name": "stdout",
     "output_type": "stream",
     "text": [
      "Beginning Data Retrieval\n",
      "-------------------------------\n",
      "Processing Record 1 of Set 1 | Westport\n",
      "Processing Record 2 of Set 1 | Albany\n",
      "Processing Record 3 of Set 1 | Narsaq\n",
      "Processing Record 4 of Set 1 | Baykal'sk\n",
      "Processing Record 5 of Set 1 | Leningradskiy\n",
      "Processing Record 6 of Set 1 | Provideniya\n",
      "Processing Record 7 of Set 1 | Redlands\n",
      "Processing Record 8 of Set 1 | Port-Gentil\n",
      "Processing Record 9 of Set 1 | Sørland\n",
      "Processing Record 10 of Set 1 | Tuktoyaktuk\n",
      "Processing Record 11 of Set 1 | Upernavik\n",
      "Processing Record 12 of Set 1 | Kavaratti\n",
      "Processing Record 13 of Set 1 | Mar del Plata\n",
      "Processing Record 14 of Set 1 | Jamestown\n",
      "City not found. Skipping...\n",
      "Processing Record 15 of Set 1 | Punta Arenas\n",
      "Processing Record 16 of Set 1 | Cabo San Lucas\n",
      "Processing Record 17 of Set 1 | City of San Pedro\n",
      "Processing Record 18 of Set 1 | Coyhaique\n",
      "Processing Record 19 of Set 1 | Omboué\n",
      "Processing Record 20 of Set 1 | Nuuk\n",
      "Processing Record 21 of Set 1 | Twentynine Palms\n",
      "Processing Record 22 of Set 1 | Isla Mujeres\n",
      "Processing Record 23 of Set 1 | Darhan\n",
      "Processing Record 24 of Set 1 | Menongue\n",
      "Processing Record 25 of Set 1 | Sobolevo\n",
      "Processing Record 26 of Set 1 | Hilo\n",
      "Processing Record 27 of Set 1 | Hobart\n",
      "Processing Record 28 of Set 1 | Takhtamukay\n",
      "Processing Record 29 of Set 1 | Atuona\n",
      "City not found. Skipping...\n",
      "Processing Record 30 of Set 1 | Saskylakh\n",
      "Processing Record 31 of Set 1 | Beloha\n",
      "Processing Record 32 of Set 1 | Barrow\n",
      "Processing Record 33 of Set 1 | Dingle\n",
      "Processing Record 34 of Set 1 | Moorhead\n",
      "Processing Record 35 of Set 1 | Central Point\n",
      "Processing Record 36 of Set 1 | Rikitea\n",
      "Processing Record 37 of Set 1 | Manaia\n",
      "Processing Record 38 of Set 1 | Srednekolymsk\n",
      "Processing Record 39 of Set 1 | Hong Kong\n",
      "Processing Record 40 of Set 1 | Valparaíso\n",
      "City not found. Skipping...\n",
      "Processing Record 41 of Set 1 | Bredasdorp\n",
      "Processing Record 42 of Set 1 | Berlevåg\n",
      "Processing Record 43 of Set 1 | Ulladulla\n",
      "City not found. Skipping...\n",
      "Processing Record 44 of Set 1 | Mitsamiouli\n",
      "Processing Record 45 of Set 1 | Yarmouth\n",
      "Processing Record 46 of Set 1 | Samarai\n",
      "Processing Record 47 of Set 1 | Makakilo City\n",
      "Processing Record 48 of Set 1 | Zhigansk\n",
      "Processing Record 49 of Set 1 | Gilgit\n",
      "Processing Record 50 of Set 1 | Luxor\n",
      "City not found. Skipping...\n",
      "Processing Record 0 of Set 2 | Ushuaia\n",
      "Processing Record 1 of Set 2 | Kirakira\n",
      "Processing Record 2 of Set 2 | Butaritari\n",
      "Processing Record 3 of Set 2 | Cefalù\n",
      "Processing Record 4 of Set 2 | Beringovskiy\n",
      "Processing Record 5 of Set 2 | Howard Springs\n",
      "Processing Record 6 of Set 2 | Tuatapere\n",
      "Processing Record 7 of Set 2 | Ribeira Grande\n",
      "Processing Record 8 of Set 2 | São Félix do Xingu\n",
      "Processing Record 9 of Set 2 | Nikolskoye\n",
      "Processing Record 10 of Set 2 | Valente\n",
      "Processing Record 11 of Set 2 | Matangad\n",
      "Processing Record 12 of Set 2 | Havre-St-Pierre\n",
      "Processing Record 13 of Set 2 | Thompson\n",
      "Processing Record 14 of Set 2 | Porto de Moz\n",
      "City not found. Skipping...\n",
      "Processing Record 15 of Set 2 | Mahébourg\n",
      "Processing Record 16 of Set 2 | Uinskoye\n",
      "Processing Record 17 of Set 2 | Dikson\n",
      "Processing Record 18 of Set 2 | Alta Floresta\n",
      "Processing Record 19 of Set 2 | Kapaa\n",
      "Processing Record 20 of Set 2 | Hasaki\n",
      "Processing Record 21 of Set 2 | Ternate\n",
      "Processing Record 22 of Set 2 | Vaini\n",
      "Processing Record 23 of Set 2 | Avarua\n",
      "Processing Record 24 of Set 2 | Ambanja\n",
      "Processing Record 25 of Set 2 | Wattegama\n",
      "Processing Record 26 of Set 2 | Panzhihua\n",
      "Processing Record 27 of Set 2 | Torbay\n",
      "Processing Record 28 of Set 2 | Qaanaaq\n",
      "Processing Record 29 of Set 2 | Longyearbyen\n",
      "Processing Record 30 of Set 2 | Takapau\n",
      "Processing Record 31 of Set 2 | Shingū\n",
      "Processing Record 32 of Set 2 | Okhotsk\n",
      "Processing Record 33 of Set 2 | Hermanus\n",
      "Processing Record 34 of Set 2 | São Filipe\n",
      "Processing Record 35 of Set 2 | Port Alfred\n",
      "Processing Record 36 of Set 2 | Nome\n",
      "Processing Record 37 of Set 2 | Lorengau\n",
      "Processing Record 38 of Set 2 | Mataura\n",
      "Processing Record 39 of Set 2 | Yinchuan\n",
      "Processing Record 40 of Set 2 | Sambava\n",
      "Processing Record 41 of Set 2 | Nanortalik\n",
      "Processing Record 42 of Set 2 | Cape Town\n",
      "Processing Record 43 of Set 2 | Hamilton\n",
      "Processing Record 44 of Set 2 | Vaxjo\n",
      "Processing Record 45 of Set 2 | Yellowknife\n",
      "Processing Record 46 of Set 2 | Busselton\n",
      "Processing Record 47 of Set 2 | New Norfolk\n",
      "Processing Record 48 of Set 2 | Tomatlán\n",
      "Processing Record 49 of Set 2 | Chumikan\n",
      "Processing Record 50 of Set 2 | Arraial do Cabo\n",
      "Processing Record 0 of Set 3 | Tortolì\n",
      "Processing Record 1 of Set 3 | Faanui\n",
      "Processing Record 2 of Set 3 | Saint-Philippe\n",
      "Processing Record 3 of Set 3 | Palmer\n",
      "Processing Record 4 of Set 3 | Guliston\n",
      "Processing Record 5 of Set 3 | Dalnerechensk\n",
      "Processing Record 6 of Set 3 | Tiksi\n",
      "Processing Record 7 of Set 3 | Talnakh\n",
      "Processing Record 8 of Set 3 | Tlacotepec (San Mateo)\n",
      "Processing Record 9 of Set 3 | East London\n",
      "Processing Record 10 of Set 3 | Ambilobe\n",
      "Processing Record 11 of Set 3 | Salinas\n",
      "Processing Record 12 of Set 3 | Harper\n",
      "Processing Record 13 of Set 3 | Saint Paul Harbor\n",
      "Processing Record 14 of Set 3 | Xining\n",
      "Processing Record 15 of Set 3 | Bathsheba\n",
      "Processing Record 16 of Set 3 | Nueva Helvecia\n",
      "Processing Record 17 of Set 3 | Tiznit Province\n",
      "Processing Record 18 of Set 3 | Kyra\n",
      "Processing Record 19 of Set 3 | Puerto Ayora\n",
      "Processing Record 20 of Set 3 | Pangai\n",
      "Processing Record 21 of Set 3 | Samaná\n",
      "Processing Record 22 of Set 3 | Olinda\n",
      "Processing Record 23 of Set 3 | Bodden Town\n",
      "Processing Record 24 of Set 3 | Bartica\n",
      "City not found. Skipping...\n",
      "Processing Record 25 of Set 3 | Ilulissat\n",
      "Processing Record 26 of Set 3 | Moose Factory\n",
      "Processing Record 27 of Set 3 | George Town\n",
      "Processing Record 28 of Set 3 | Jacqueville\n",
      "Processing Record 29 of Set 3 | Lavrentiya\n",
      "City not found. Skipping...\n",
      "City not found. Skipping...\n",
      "Processing Record 30 of Set 3 | Windhoek\n",
      "Processing Record 31 of Set 3 | Pokhara\n",
      "Processing Record 32 of Set 3 | Comodoro Rivadavia\n",
      "Processing Record 33 of Set 3 | Kwinana\n",
      "Processing Record 34 of Set 3 | Yenagoa\n",
      "Processing Record 35 of Set 3 | Clyde River\n",
      "Processing Record 36 of Set 3 | Fortuna\n",
      "Processing Record 37 of Set 3 | Panama City\n",
      "Processing Record 38 of Set 3 | Guerrero Negro\n",
      "Processing Record 39 of Set 3 | Ancud\n",
      "Processing Record 40 of Set 3 | Staryy Nadym\n",
      "Processing Record 41 of Set 3 | Dunedin\n",
      "Processing Record 42 of Set 3 | Mount Darwin\n",
      "Processing Record 43 of Set 3 | Lüderitz\n",
      "Processing Record 44 of Set 3 | Lata\n",
      "Processing Record 45 of Set 3 | Bluff\n",
      "Processing Record 46 of Set 3 | Haifa\n",
      "Processing Record 47 of Set 3 | Jiuquan\n",
      "Processing Record 48 of Set 3 | Poum\n",
      "Processing Record 49 of Set 3 | Makīnsk\n",
      "Processing Record 50 of Set 3 | Bengkulu\n",
      "Processing Record 0 of Set 4 | Chifeng\n",
      "Processing Record 1 of Set 4 | Cherskiy\n",
      "Processing Record 2 of Set 4 | Mountain Home\n",
      "Processing Record 3 of Set 4 | Bethel\n",
      "Processing Record 4 of Set 4 | Urengoy\n",
      "Processing Record 5 of Set 4 | Río Gallegos\n",
      "Processing Record 6 of Set 4 | Sola\n",
      "Processing Record 7 of Set 4 | Pacific Grove\n",
      "Processing Record 8 of Set 4 | Airai\n",
      "Processing Record 9 of Set 4 | Hambantota\n",
      "Processing Record 10 of Set 4 | Tuy Hoa\n",
      "Processing Record 11 of Set 4 | Hithadhoo\n",
      "Processing Record 12 of Set 4 | Lebu\n",
      "Processing Record 13 of Set 4 | Tautira\n",
      "Processing Record 14 of Set 4 | Touros\n",
      "Processing Record 15 of Set 4 | Praia da Vitória\n",
      "Processing Record 16 of Set 4 | Aswān\n",
      "Processing Record 17 of Set 4 | Chokurdakh\n",
      "City not found. Skipping...\n",
      "Processing Record 18 of Set 4 | Lebanon\n",
      "Processing Record 19 of Set 4 | Sabha\n",
      "Processing Record 20 of Set 4 | Kysyl-Syr\n",
      "Processing Record 21 of Set 4 | Saint-Augustin\n",
      "Processing Record 22 of Set 4 | Qui Nhon\n",
      "Processing Record 23 of Set 4 | Bud\n",
      "Processing Record 24 of Set 4 | Carnarvon\n",
      "Processing Record 25 of Set 4 | Kigoma\n",
      "Processing Record 26 of Set 4 | Castro\n",
      "Processing Record 27 of Set 4 | Mbala\n",
      "Processing Record 28 of Set 4 | Megion\n",
      "City not found. Skipping...\n",
      "Processing Record 29 of Set 4 | Half Moon Bay\n",
      "Processing Record 30 of Set 4 | Maridi\n",
      "City not found. Skipping...\n",
      "Processing Record 31 of Set 4 | Santa Cruz\n",
      "Processing Record 32 of Set 4 | Khatanga\n",
      "Processing Record 33 of Set 4 | Makkah al Mukarramah\n",
      "Processing Record 34 of Set 4 | Nizwá\n",
      "Processing Record 35 of Set 4 | Pangnirtung\n"
     ]
    },
    {
     "name": "stdout",
     "output_type": "stream",
     "text": [
      "Processing Record 36 of Set 4 | Vila Velha\n",
      "Processing Record 37 of Set 4 | Portel\n",
      "Processing Record 38 of Set 4 | Sitka\n",
      "Processing Record 39 of Set 4 | Newton\n",
      "Processing Record 40 of Set 4 | Venice of the Philippines\n",
      "Processing Record 41 of Set 4 | Carballo\n",
      "Processing Record 42 of Set 4 | Jurm\n",
      "Processing Record 43 of Set 4 | São João da Barra\n",
      "Processing Record 44 of Set 4 | Fare\n",
      "Processing Record 45 of Set 4 | Osterburg\n",
      "Processing Record 46 of Set 4 | Uyuni\n",
      "Processing Record 47 of Set 4 | Dudinka\n",
      "Processing Record 48 of Set 4 | Kaitangata\n",
      "Processing Record 49 of Set 4 | Esperance\n",
      "Processing Record 50 of Set 4 | Tailai\n",
      "Processing Record 0 of Set 5 | Gao\n",
      "Processing Record 1 of Set 5 | Afuá\n",
      "City not found. Skipping...\n",
      "Processing Record 2 of Set 5 | Necochea\n",
      "Processing Record 3 of Set 5 | Brunswick\n",
      "Processing Record 4 of Set 5 | Ridgecrest\n",
      "Processing Record 5 of Set 5 | Usinsk\n",
      "City not found. Skipping...\n",
      "Processing Record 6 of Set 5 | Khor\n",
      "Processing Record 7 of Set 5 | Gangānagar\n",
      "Processing Record 8 of Set 5 | Ponta do Sol\n",
      "Processing Record 9 of Set 5 | Aktyubinskiy\n",
      "Processing Record 10 of Set 5 | Kumul\n",
      "City not found. Skipping...\n",
      "City not found. Skipping...\n",
      "Processing Record 11 of Set 5 | Freetown\n",
      "City not found. Skipping...\n",
      "Processing Record 12 of Set 5 | Clyde\n",
      "Processing Record 13 of Set 5 | Port Moresby\n",
      "Processing Record 14 of Set 5 | Richards Bay\n",
      "Processing Record 15 of Set 5 | Tezu\n",
      "Processing Record 16 of Set 5 | Pisco\n",
      "Processing Record 17 of Set 5 | Alofi\n",
      "Processing Record 18 of Set 5 | Dukhovshchina\n",
      "Processing Record 19 of Set 5 | Colares\n",
      "Processing Record 20 of Set 5 | Anjozorobe\n",
      "Processing Record 21 of Set 5 | Muros\n",
      "Processing Record 22 of Set 5 | Kahului\n",
      "Processing Record 23 of Set 5 | Abbeville\n",
      "Processing Record 24 of Set 5 | Olafsvik\n",
      "Processing Record 25 of Set 5 | Yarovoy\n",
      "Processing Record 26 of Set 5 | Bambous Virieux\n",
      "Processing Record 27 of Set 5 | Chui\n",
      "Processing Record 28 of Set 5 | Bayugan\n",
      "Processing Record 29 of Set 5 | Santa Rosa\n",
      "City not found. Skipping...\n",
      "Processing Record 30 of Set 5 | Aykhal\n",
      "Processing Record 31 of Set 5 | Rocky Mountain House\n",
      "Processing Record 32 of Set 5 | Bontang\n",
      "Processing Record 33 of Set 5 | Mazsalaca\n",
      "Processing Record 34 of Set 5 | Hvolsvollur\n",
      "Processing Record 35 of Set 5 | Vestmannaeyjar\n",
      "Processing Record 36 of Set 5 | Emerald\n",
      "Processing Record 37 of Set 5 | Chicama\n",
      "Processing Record 38 of Set 5 | Praia\n",
      "Processing Record 39 of Set 5 | Polyarny\n",
      "Processing Record 40 of Set 5 | Waipawa\n",
      "Processing Record 41 of Set 5 | Kīhei\n",
      "Processing Record 42 of Set 5 | Tasiilaq\n",
      "Processing Record 43 of Set 5 | Choix\n",
      "Processing Record 44 of Set 5 | Marzuq\n",
      "Processing Record 45 of Set 5 | Serebryansk\n",
      "Processing Record 46 of Set 5 | Tyumen\n",
      "Processing Record 47 of Set 5 | Saint-François\n",
      "Processing Record 48 of Set 5 | Bani Walid\n",
      "Processing Record 49 of Set 5 | Soc Trang\n",
      "City not found. Skipping...\n",
      "Processing Record 50 of Set 5 | Mossamedes\n",
      "Processing Record 0 of Set 6 | Alugan\n",
      "Processing Record 1 of Set 6 | Hammerfest\n",
      "Processing Record 2 of Set 6 | Pevek\n",
      "Processing Record 3 of Set 6 | Puerto Carreño\n",
      "Processing Record 4 of Set 6 | Klaksvík\n",
      "City not found. Skipping...\n",
      "Processing Record 5 of Set 6 | Bukachacha\n",
      "City not found. Skipping...\n",
      "Processing Record 6 of Set 6 | Juneau\n",
      "Processing Record 7 of Set 6 | Pangody\n",
      "Processing Record 8 of Set 6 | Moranbah\n",
      "City not found. Skipping...\n",
      "Processing Record 9 of Set 6 | Bara\n",
      "Processing Record 10 of Set 6 | Yatou\n",
      "Processing Record 11 of Set 6 | Lompoc\n",
      "Processing Record 12 of Set 6 | Yermakovskoye\n",
      "Processing Record 13 of Set 6 | Severo-Kuril'sk\n",
      "Processing Record 14 of Set 6 | Fairbanks\n",
      "Processing Record 15 of Set 6 | Charters Towers\n",
      "Processing Record 16 of Set 6 | Katsuura\n",
      "Processing Record 17 of Set 6 | Kamenka\n",
      "Processing Record 18 of Set 6 | La Ronge\n",
      "Processing Record 19 of Set 6 | Carutapera\n",
      "Processing Record 20 of Set 6 | Līsakovsk\n",
      "Processing Record 21 of Set 6 | Dzhebariki-Khaya\n",
      "Processing Record 22 of Set 6 | Ayan\n",
      "Processing Record 23 of Set 6 | Ballina\n",
      "Processing Record 24 of Set 6 | Bay Roberts\n",
      "Processing Record 25 of Set 6 | Ayagoz\n",
      "Processing Record 26 of Set 6 | Wanxian\n",
      "Processing Record 27 of Set 6 | Pavlodar\n",
      "Processing Record 28 of Set 6 | Huarmey\n",
      "Processing Record 29 of Set 6 | Vardø\n",
      "Processing Record 30 of Set 6 | Kerman\n",
      "Processing Record 31 of Set 6 | Bahía de Caráquez\n",
      "Processing Record 32 of Set 6 | Aklavik\n",
      "Processing Record 33 of Set 6 | Nipawin\n",
      "Processing Record 34 of Set 6 | Gupitan\n",
      "Processing Record 35 of Set 6 | Cidreira\n",
      "Processing Record 36 of Set 6 | Havøysund\n",
      "Processing Record 37 of Set 6 | Lengshuijiang\n",
      "Processing Record 38 of Set 6 | Stornoway\n",
      "Processing Record 39 of Set 6 | Andros Town\n",
      "Processing Record 40 of Set 6 | Geraldton\n",
      "Processing Record 41 of Set 6 | Salalah\n",
      "Processing Record 42 of Set 6 | Port Hardy\n",
      "Processing Record 43 of Set 6 | Port Macquarie\n",
      "Processing Record 44 of Set 6 | Brae\n",
      "Processing Record 45 of Set 6 | Dingzhou\n",
      "Processing Record 46 of Set 6 | Nueva Loja\n",
      "Processing Record 47 of Set 6 | Husavik\n",
      "Processing Record 48 of Set 6 | Monte Santo\n",
      "Processing Record 49 of Set 6 | Nyborg\n",
      "City not found. Skipping...\n",
      "Processing Record 50 of Set 6 | Vao\n",
      "Processing Record 0 of Set 7 | Broome\n",
      "Processing Record 1 of Set 7 | Yulara\n",
      "Processing Record 2 of Set 7 | Champerico\n",
      "Processing Record 3 of Set 7 | Yurgamysh\n",
      "Processing Record 4 of Set 7 | Baykit\n",
      "Processing Record 5 of Set 7 | Castanhal\n",
      "City not found. Skipping...\n",
      "Processing Record 6 of Set 7 | Bistra\n",
      "Processing Record 7 of Set 7 | North Platte\n",
      "Processing Record 8 of Set 7 | Moroni\n",
      "Processing Record 9 of Set 7 | Tucupita\n",
      "Processing Record 10 of Set 7 | Nguru\n",
      "Processing Record 11 of Set 7 | Cayenne\n",
      "Processing Record 12 of Set 7 | Pointe Michel\n",
      "Processing Record 13 of Set 7 | Asău\n",
      "Processing Record 14 of Set 7 | Halifax\n",
      "Processing Record 15 of Set 7 | Faratsiho\n",
      "Processing Record 16 of Set 7 | Walvis Bay\n",
      "Processing Record 17 of Set 7 | Cap Malheureux\n",
      "Processing Record 18 of Set 7 | Sakakah\n",
      "Processing Record 19 of Set 7 | Karpathos\n",
      "Processing Record 20 of Set 7 | Soyo\n",
      "Processing Record 21 of Set 7 | Yerbogachën\n",
      "City not found. Skipping...\n",
      "Processing Record 22 of Set 7 | Savinka\n",
      "Processing Record 23 of Set 7 | Samfya\n",
      "Processing Record 24 of Set 7 | Lensk\n",
      "Processing Record 25 of Set 7 | Mount Isa\n",
      "Processing Record 26 of Set 7 | Babat\n",
      "Processing Record 27 of Set 7 | Atar\n",
      "Processing Record 28 of Set 7 | Mayo\n",
      "Processing Record 29 of Set 7 | Alekseyevka\n",
      "Processing Record 30 of Set 7 | Taltal\n",
      "Processing Record 31 of Set 7 | Tétouan\n",
      "City not found. Skipping...\n",
      "Processing Record 32 of Set 7 | Östersund\n",
      "Processing Record 33 of Set 7 | Ulagan\n",
      "Processing Record 34 of Set 7 | Morgan City\n",
      "City not found. Skipping...\n",
      "City not found. Skipping...\n",
      "Processing Record 35 of Set 7 | Ransang\n",
      "Processing Record 36 of Set 7 | Saint George\n",
      "Processing Record 37 of Set 7 | Port Elizabeth\n",
      "Processing Record 38 of Set 7 | Dāmghān\n",
      "Processing Record 39 of Set 7 | Rocha\n",
      "Processing Record 40 of Set 7 | Riohacha\n",
      "Processing Record 41 of Set 7 | Palanga\n",
      "Processing Record 42 of Set 7 | Linxia Chengguanzhen\n",
      "Processing Record 43 of Set 7 | Zhezkazgan\n",
      "City not found. Skipping...\n",
      "Processing Record 44 of Set 7 | Saint Anthony\n",
      "Processing Record 45 of Set 7 | Cartagena\n",
      "Processing Record 46 of Set 7 | Souillac\n",
      "Processing Record 47 of Set 7 | Novyy Urgal\n",
      "Processing Record 48 of Set 7 | Lethbridge\n",
      "Processing Record 49 of Set 7 | Tamandaré\n",
      "Processing Record 50 of Set 7 | Yumen\n",
      "Processing Record 0 of Set 8 | Pontianak\n",
      "Processing Record 1 of Set 8 | Iwanai\n",
      "Processing Record 2 of Set 8 | Burnie\n",
      "Processing Record 3 of Set 8 | Alice Springs\n",
      "Processing Record 4 of Set 8 | Mana\n",
      "Processing Record 5 of Set 8 | Mlonggo\n",
      "Processing Record 6 of Set 8 | Arlit\n",
      "Processing Record 7 of Set 8 | Kapuskasing\n",
      "Processing Record 8 of Set 8 | Cukai\n",
      "City not found. Skipping...\n",
      "Processing Record 9 of Set 8 | Labuhan\n",
      "Processing Record 10 of Set 8 | Nosy Varika\n",
      "Processing Record 11 of Set 8 | Sioux Lookout\n",
      "Processing Record 12 of Set 8 | Flin Flon\n",
      "Processing Record 13 of Set 8 | Sirte\n",
      "Processing Record 14 of Set 8 | Youkounkoun\n",
      "Processing Record 15 of Set 8 | Nurota\n",
      "Processing Record 16 of Set 8 | Puerto del Rosario\n",
      "Processing Record 17 of Set 8 | Fuzhou\n",
      "Processing Record 18 of Set 8 | Palmeirais\n"
     ]
    },
    {
     "name": "stdout",
     "output_type": "stream",
     "text": [
      "Processing Record 19 of Set 8 | Arman'\n",
      "Processing Record 20 of Set 8 | Kruisfontein\n",
      "Processing Record 21 of Set 8 | Batouri\n",
      "Processing Record 22 of Set 8 | Tombouctou\n",
      "Processing Record 23 of Set 8 | Antofagasta\n",
      "Processing Record 24 of Set 8 | Miyako\n",
      "Processing Record 25 of Set 8 | Auki\n",
      "Processing Record 26 of Set 8 | Bilibino\n",
      "Processing Record 27 of Set 8 | Butembo\n",
      "Processing Record 28 of Set 8 | Sarkand\n",
      "Processing Record 29 of Set 8 | Vila\n",
      "Processing Record 30 of Set 8 | Banda Aceh\n",
      "Processing Record 31 of Set 8 | Province of Trapani\n",
      "Processing Record 32 of Set 8 | Kalamnūri\n",
      "Processing Record 33 of Set 8 | San Giovanni Rotondo\n",
      "Processing Record 34 of Set 8 | Rawson\n",
      "Processing Record 35 of Set 8 | Khovd\n",
      "Processing Record 36 of Set 8 | Lázaro Cárdenas\n",
      "Processing Record 37 of Set 8 | Healdsburg\n",
      "Processing Record 38 of Set 8 | Kalispell\n",
      "Processing Record 39 of Set 8 | Poniatowa\n",
      "Processing Record 40 of Set 8 | Krumovgrad\n",
      "Processing Record 41 of Set 8 | Vanimo\n",
      "Processing Record 42 of Set 8 | Takoradze\n",
      "Processing Record 43 of Set 8 | Maragogi\n",
      "Processing Record 44 of Set 8 | Baiyin\n",
      "Processing Record 45 of Set 8 | Opelousas\n",
      "Processing Record 46 of Set 8 | Ostrovnoy\n",
      "Processing Record 47 of Set 8 | Arrondissement du Havre\n",
      "Processing Record 48 of Set 8 | Roald\n",
      "Processing Record 49 of Set 8 | Mīnāb\n",
      "City not found. Skipping...\n",
      "Processing Record 50 of Set 8 | Lagoa\n",
      "Processing Record 0 of Set 9 | Kichera\n",
      "Processing Record 1 of Set 9 | Eyl\n",
      "Processing Record 2 of Set 9 | Maniitsoq\n",
      "Processing Record 3 of Set 9 | Diffa\n",
      "Processing Record 4 of Set 9 | Hofn\n",
      "City not found. Skipping...\n",
      "City not found. Skipping...\n",
      "Processing Record 5 of Set 9 | Hanzhong\n",
      "Processing Record 6 of Set 9 | Aranos\n",
      "Processing Record 7 of Set 9 | Grindavik\n",
      "Processing Record 8 of Set 9 | Manokwari\n",
      "Processing Record 9 of Set 9 | Scarborough\n",
      "Processing Record 10 of Set 9 | Kirkland Lake\n",
      "Processing Record 11 of Set 9 | Avera\n",
      "Processing Record 12 of Set 9 | Szydłowiec\n",
      "Processing Record 13 of Set 9 | Pionerskiy\n",
      "Processing Record 14 of Set 9 | Namatanai\n",
      "Processing Record 15 of Set 9 | Ţahţā\n",
      "Processing Record 16 of Set 9 | Deputatsky\n",
      "Processing Record 17 of Set 9 | Bandarbeyla\n",
      "Processing Record 18 of Set 9 | Malinovoye Ozero\n",
      "City not found. Skipping...\n",
      "Processing Record 19 of Set 9 | Abong Mbang\n",
      "Processing Record 20 of Set 9 | Ammon\n",
      "Processing Record 21 of Set 9 | Hede\n",
      "Processing Record 22 of Set 9 | ‘Ewa Beach\n",
      "Processing Record 23 of Set 9 | Karabash\n",
      "Processing Record 24 of Set 9 | Platteville\n",
      "Processing Record 25 of Set 9 | Hanumāngarh\n",
      "Processing Record 26 of Set 9 | Tieli\n",
      "Processing Record 27 of Set 9 | Pitimbu\n",
      "Processing Record 28 of Set 9 | Severnyy\n",
      "Processing Record 29 of Set 9 | Rio Grande\n",
      "Processing Record 30 of Set 9 | Tucuruí\n",
      "Processing Record 31 of Set 9 | Molina\n",
      "City not found. Skipping...\n",
      "Processing Record 32 of Set 9 | San Patricio\n",
      "Processing Record 33 of Set 9 | Qaqortoq\n",
      "Processing Record 34 of Set 9 | Laas\n",
      "Processing Record 35 of Set 9 | Caxito\n",
      "Processing Record 36 of Set 9 | Anadyr\n",
      "Processing Record 37 of Set 9 | Bairiki Village\n",
      "Processing Record 38 of Set 9 | Machachi\n",
      "Processing Record 39 of Set 9 | Marquette\n",
      "Processing Record 40 of Set 9 | Pustoshka\n",
      "Processing Record 41 of Set 9 | Tikhvin\n",
      "Processing Record 42 of Set 9 | Lokoja\n",
      "Processing Record 43 of Set 9 | Kibray\n",
      "Processing Record 44 of Set 9 | Portland\n",
      "City not found. Skipping...\n",
      "Processing Record 45 of Set 9 | Kavieng\n",
      "Processing Record 46 of Set 9 | Verkhnyaya Toyma\n",
      "Processing Record 47 of Set 9 | Bubaque\n",
      "Processing Record 48 of Set 9 | Roebourne\n",
      "Processing Record 49 of Set 9 | Banjar\n",
      "Processing Record 50 of Set 9 | Kang\n",
      "Processing Record 0 of Set 10 | Port Keats\n",
      "Processing Record 1 of Set 10 | Valdez\n",
      "Processing Record 2 of Set 10 | La Palma\n",
      "Processing Record 3 of Set 10 | College\n",
      "Processing Record 4 of Set 10 | Villamontes\n",
      "Processing Record 5 of Set 10 | Pemberton\n",
      "Processing Record 6 of Set 10 | Altay\n",
      "Processing Record 7 of Set 10 | Lingao\n",
      "Processing Record 8 of Set 10 | Aurillac\n",
      "City not found. Skipping...\n",
      "Processing Record 9 of Set 10 | Forsytheganj\n",
      "Processing Record 10 of Set 10 | Derzhavīnsk\n",
      "Processing Record 11 of Set 10 | Upington\n",
      "City not found. Skipping...\n",
      "Processing Record 12 of Set 10 | Goderich\n",
      "Processing Record 13 of Set 10 | Mount Gambier\n",
      "Processing Record 14 of Set 10 | Egvekinot\n",
      "Processing Record 15 of Set 10 | Liverpool\n",
      "Processing Record 16 of Set 10 | Kilindoni\n",
      "Processing Record 17 of Set 10 | Isangel\n",
      "Processing Record 18 of Set 10 | Antalaha\n",
      "Processing Record 19 of Set 10 | Muzhi\n",
      "Processing Record 20 of Set 10 | Kaliua\n",
      "Processing Record 21 of Set 10 | Bambanglipuro\n",
      "Processing Record 22 of Set 10 | Esmeraldas\n",
      "Processing Record 23 of Set 10 | Ahipara\n",
      "Processing Record 24 of Set 10 | Nuquí\n",
      "Processing Record 25 of Set 10 | Barranca\n",
      "Processing Record 26 of Set 10 | Gouyave\n",
      "Processing Record 27 of Set 10 | Øksfjord\n",
      "Processing Record 28 of Set 10 | Porto-Novo\n",
      "Processing Record 29 of Set 10 | Tateyama\n",
      "Processing Record 30 of Set 10 | Te Anau\n",
      "Processing Record 31 of Set 10 | Caravelas\n",
      "Processing Record 32 of Set 10 | Praia\n",
      "Processing Record 33 of Set 10 | Salisbury\n",
      "Processing Record 34 of Set 10 | Alindao\n",
      "Processing Record 35 of Set 10 | San Juan Bautista\n",
      "Processing Record 36 of Set 10 | Jumla\n",
      "City not found. Skipping...\n",
      "Processing Record 37 of Set 10 | Kappeln\n",
      "Processing Record 38 of Set 10 | Ventspils\n",
      "Processing Record 39 of Set 10 | Bordighera\n",
      "Processing Record 40 of Set 10 | Uvalde\n",
      "Processing Record 41 of Set 10 | Micheweni\n",
      "Processing Record 42 of Set 10 | Ghanzi\n",
      "Processing Record 43 of Set 10 | Riachão das Neves\n",
      "Processing Record 44 of Set 10 | Atikokan\n",
      "Processing Record 45 of Set 10 | Broken Hill\n",
      "Processing Record 46 of Set 10 | Emmett\n",
      "Processing Record 47 of Set 10 | Candolim\n",
      "Processing Record 48 of Set 10 | Lewistown\n",
      "Processing Record 49 of Set 10 | Nicoya\n",
      "City not found. Skipping...\n",
      "Processing Record 50 of Set 10 | Solwezi\n",
      "Processing Record 0 of Set 11 | Kununurra\n",
      "City not found. Skipping...\n",
      "Processing Record 1 of Set 11 | Kantunilkín\n",
      "City not found. Skipping...\n",
      "City not found. Skipping...\n",
      "City not found. Skipping...\n",
      "Processing Record 2 of Set 11 | Saldanha\n",
      "Processing Record 3 of Set 11 | Cam Ranh\n",
      "Processing Record 4 of Set 11 | Ola\n",
      "Processing Record 5 of Set 11 | Arrifes\n",
      "Processing Record 6 of Set 11 | Iqaluit\n",
      "Processing Record 7 of Set 11 | Norman Wells\n",
      "Processing Record 8 of Set 11 | Santarém\n",
      "Processing Record 9 of Set 11 | Yeniseysk\n",
      "Processing Record 10 of Set 11 | Sindhnūr\n",
      "Processing Record 11 of Set 11 | Vila Franca do Campo\n",
      "Processing Record 12 of Set 11 | Danville\n",
      "Processing Record 13 of Set 11 | Bariloche\n",
      "Processing Record 14 of Set 11 | Kaniama\n",
      "Processing Record 15 of Set 11 | Bilma\n",
      "Processing Record 16 of Set 11 | Wadi Maliz\n",
      "Processing Record 17 of Set 11 | Monkey Bay\n",
      "Processing Record 18 of Set 11 | Horki\n",
      "Processing Record 19 of Set 11 | Laguna\n",
      "Processing Record 20 of Set 11 | Tire\n",
      "Processing Record 21 of Set 11 | Makurdi\n",
      "Processing Record 22 of Set 11 | Calama\n",
      "Processing Record 23 of Set 11 | Port Lincoln\n",
      "City not found. Skipping...\n",
      "Processing Record 24 of Set 11 | Mocuba\n",
      "Processing Record 25 of Set 11 | Puerto Suárez\n",
      "Processing Record 26 of Set 11 | Knyaginino\n",
      "Processing Record 27 of Set 11 | Constitución\n",
      "Processing Record 28 of Set 11 | Olhão\n",
      "Processing Record 29 of Set 11 | Road Town\n",
      "Processing Record 30 of Set 11 | Kungurtug\n",
      "Processing Record 31 of Set 11 | Ouésso\n",
      "Processing Record 32 of Set 11 | Stonewall\n",
      "Processing Record 33 of Set 11 | Clifton\n",
      "Processing Record 34 of Set 11 | Lockhart\n",
      "Processing Record 35 of Set 11 | Bo Rai\n",
      "Processing Record 36 of Set 11 | Katherine\n",
      "Processing Record 37 of Set 11 | Ngorongoro\n",
      "Processing Record 38 of Set 11 | Panabá\n",
      "Processing Record 39 of Set 11 | Matagami\n",
      "Processing Record 40 of Set 11 | Morón\n",
      "Processing Record 41 of Set 11 | Vallentuna\n",
      "Processing Record 42 of Set 11 | Savannah Bight\n",
      "Processing Record 43 of Set 11 | Turukhansk\n",
      "City not found. Skipping...\n",
      "Processing Record 44 of Set 11 | Bozoum\n",
      "Processing Record 45 of Set 11 | Buraidah\n",
      "Processing Record 46 of Set 11 | Margate\n",
      "Processing Record 47 of Set 11 | Pacifica\n",
      "Processing Record 48 of Set 11 | Petukhovo\n",
      "Processing Record 49 of Set 11 | Esmeralda\n",
      "Processing Record 50 of Set 11 | Shahr-e Bābak\n",
      "City not found. Skipping...\n"
     ]
    },
    {
     "name": "stdout",
     "output_type": "stream",
     "text": [
      "Processing Record 0 of Set 12 | Shaunavon\n",
      "Processing Record 1 of Set 12 | Miranda de Ebro\n",
      "City not found. Skipping...\n",
      "Processing Record 2 of Set 12 | Mercedes\n",
      "Processing Record 3 of Set 12 | Ketchikan\n",
      "Processing Record 4 of Set 12 | Kholodnyy\n",
      "Processing Record 5 of Set 12 | Inuvik\n",
      "Processing Record 6 of Set 12 | Taylor\n",
      "Processing Record 7 of Set 12 | Mahanoro\n",
      "Processing Record 8 of Set 12 | Raahe\n",
      "Processing Record 9 of Set 12 | Karratha\n",
      "Processing Record 10 of Set 12 | Venezuela\n",
      "Processing Record 11 of Set 12 | Cortez\n",
      "Processing Record 12 of Set 12 | Kiryat Gat\n",
      "Processing Record 13 of Set 12 | Ambovombe\n",
      "-----------------------------\n",
      "Data Retrieval Complete\n",
      "-----------------------------\n"
     ]
    }
   ],
   "source": [
    "#set query url and unit measuremnt type\n",
    "url = \"http://api.openweathermap.org/data/2.5/weather?\"\n",
    "units = \"imperial\"\n",
    "query_url = f\"{url}appid={weather_api_key}&units={units}&q=\"\n",
    "\n",
    "#set lists to hold df values\n",
    "name = []\n",
    "country = []\n",
    "lat = []\n",
    "lon = []\n",
    "max_temp = []\n",
    "hum = []\n",
    "clouds = []\n",
    "wind_speed = []\n",
    "date = []\n",
    "\n",
    "#set record and set count\n",
    "record = 0\n",
    "set_count = 1\n",
    "\n",
    "#format print log\n",
    "print(f\"Beginning Data Retrieval\")\n",
    "print(f\"-------------------------------\")\n",
    "\n",
    "for index, city in enumerate(cities, start = 1): \n",
    "    response = requests.get(query_url + city).json()\n",
    "    #pprint(response)\n",
    "    \n",
    "    try:\n",
    "        name.append(response[\"name\"])\n",
    "        country.append(response[\"sys\"][\"country\"])\n",
    "        lat.append(response[\"coord\"][\"lat\"])\n",
    "        lon.append(response[\"coord\"][\"lon\"])\n",
    "        max_temp.append(response[\"main\"][\"temp_max\"])\n",
    "        hum.append(response[\"main\"][\"humidity\"])\n",
    "        clouds.append(response[\"clouds\"][\"all\"])\n",
    "        wind_speed.append(response[\"wind\"][\"speed\"])\n",
    "        date.append(response[\"dt\"])       \n",
    "        city_name = response[\"name\"]\n",
    "        \n",
    "        if record > 49:\n",
    "            record = 0\n",
    "            set_count = set_count + 1\n",
    "        else:\n",
    "            record = record + 1\n",
    "            \n",
    "        print(f\"Processing Record {record} of Set {set_count} | {city_name}\")\n",
    "        \n",
    "        time.sleep(1)\n",
    "        \n",
    "    except:\n",
    "        print(f\"City not found. Skipping...\")\n",
    "    continue\n",
    "    \n",
    "print(\"-----------------------------\")\n",
    "print(\"Data Retrieval Complete\")\n",
    "print(\"-----------------------------\")"
   ]
  },
  {
   "cell_type": "markdown",
   "metadata": {},
   "source": [
    "### Convert Raw Data to DataFrame\n",
    "* Export the city data into a .csv.\n",
    "* Display the DataFrame\n"
   ]
  },
  {
   "cell_type": "code",
   "execution_count": 50,
   "metadata": {},
   "outputs": [
    {
     "data": {
      "text/html": [
       "<div>\n",
       "<style scoped>\n",
       "    .dataframe tbody tr th:only-of-type {\n",
       "        vertical-align: middle;\n",
       "    }\n",
       "\n",
       "    .dataframe tbody tr th {\n",
       "        vertical-align: top;\n",
       "    }\n",
       "\n",
       "    .dataframe thead th {\n",
       "        text-align: right;\n",
       "    }\n",
       "</style>\n",
       "<table border=\"1\" class=\"dataframe\">\n",
       "  <thead>\n",
       "    <tr style=\"text-align: right;\">\n",
       "      <th></th>\n",
       "      <th>City</th>\n",
       "      <th>Lat</th>\n",
       "      <th>Lng</th>\n",
       "      <th>Max Temp</th>\n",
       "      <th>Humidity</th>\n",
       "      <th>Cloudiness</th>\n",
       "      <th>Wind Speed</th>\n",
       "      <th>Country</th>\n",
       "      <th>Date</th>\n",
       "    </tr>\n",
       "  </thead>\n",
       "  <tbody>\n",
       "    <tr>\n",
       "      <th>0</th>\n",
       "      <td>Westport</td>\n",
       "      <td>41.1415</td>\n",
       "      <td>-73.3579</td>\n",
       "      <td>35.01</td>\n",
       "      <td>100</td>\n",
       "      <td>82</td>\n",
       "      <td>7.02</td>\n",
       "      <td>US</td>\n",
       "      <td>1609910785</td>\n",
       "    </tr>\n",
       "    <tr>\n",
       "      <th>1</th>\n",
       "      <td>Albany</td>\n",
       "      <td>42.6001</td>\n",
       "      <td>-73.9662</td>\n",
       "      <td>30.00</td>\n",
       "      <td>85</td>\n",
       "      <td>88</td>\n",
       "      <td>4.81</td>\n",
       "      <td>US</td>\n",
       "      <td>1609910787</td>\n",
       "    </tr>\n",
       "    <tr>\n",
       "      <th>2</th>\n",
       "      <td>Narsaq</td>\n",
       "      <td>60.9167</td>\n",
       "      <td>-46.0500</td>\n",
       "      <td>21.20</td>\n",
       "      <td>44</td>\n",
       "      <td>28</td>\n",
       "      <td>5.82</td>\n",
       "      <td>GL</td>\n",
       "      <td>1609910788</td>\n",
       "    </tr>\n",
       "    <tr>\n",
       "      <th>3</th>\n",
       "      <td>Baykal'sk</td>\n",
       "      <td>51.5058</td>\n",
       "      <td>104.1469</td>\n",
       "      <td>3.07</td>\n",
       "      <td>88</td>\n",
       "      <td>100</td>\n",
       "      <td>11.45</td>\n",
       "      <td>RU</td>\n",
       "      <td>1609910789</td>\n",
       "    </tr>\n",
       "    <tr>\n",
       "      <th>4</th>\n",
       "      <td>Leningradskiy</td>\n",
       "      <td>69.3833</td>\n",
       "      <td>178.4167</td>\n",
       "      <td>-9.85</td>\n",
       "      <td>88</td>\n",
       "      <td>100</td>\n",
       "      <td>9.22</td>\n",
       "      <td>RU</td>\n",
       "      <td>1609910790</td>\n",
       "    </tr>\n",
       "  </tbody>\n",
       "</table>\n",
       "</div>"
      ],
      "text/plain": [
       "            City      Lat       Lng  Max Temp  Humidity  Cloudiness  \\\n",
       "0       Westport  41.1415  -73.3579     35.01       100          82   \n",
       "1         Albany  42.6001  -73.9662     30.00        85          88   \n",
       "2         Narsaq  60.9167  -46.0500     21.20        44          28   \n",
       "3      Baykal'sk  51.5058  104.1469      3.07        88         100   \n",
       "4  Leningradskiy  69.3833  178.4167     -9.85        88         100   \n",
       "\n",
       "   Wind Speed Country        Date  \n",
       "0        7.02      US  1609910785  \n",
       "1        4.81      US  1609910787  \n",
       "2        5.82      GL  1609910788  \n",
       "3       11.45      RU  1609910789  \n",
       "4        9.22      RU  1609910790  "
      ]
     },
     "execution_count": 50,
     "metadata": {},
     "output_type": "execute_result"
    }
   ],
   "source": [
    "#create df of city weather \n",
    "city_weather = pd.DataFrame({\"City\": name,\n",
    "                             \"Lat\": lat,\n",
    "                             \"Lng\": lon,\n",
    "                             \"Max Temp\": max_temp,\n",
    "                             \"Humidity\": hum,\n",
    "                             \"Cloudiness\": clouds,\n",
    "                             \"Wind Speed\": wind_speed,\n",
    "                             \"Country\": country,\n",
    "                             \"Date\": date})\n",
    "\n",
    "#set output file and write df to a csv\n",
    "output_file = os.path.join(\"..\", \"Output_Data\", \"cities.csv\")\n",
    "\n",
    "city_weather.to_csv(output_file, index=False, header=True)\n",
    "city_weather.head()"
   ]
  },
  {
   "cell_type": "code",
   "execution_count": 51,
   "metadata": {},
   "outputs": [
    {
     "data": {
      "text/html": [
       "<div>\n",
       "<style scoped>\n",
       "    .dataframe tbody tr th:only-of-type {\n",
       "        vertical-align: middle;\n",
       "    }\n",
       "\n",
       "    .dataframe tbody tr th {\n",
       "        vertical-align: top;\n",
       "    }\n",
       "\n",
       "    .dataframe thead th {\n",
       "        text-align: right;\n",
       "    }\n",
       "</style>\n",
       "<table border=\"1\" class=\"dataframe\">\n",
       "  <thead>\n",
       "    <tr style=\"text-align: right;\">\n",
       "      <th></th>\n",
       "      <th>Lat</th>\n",
       "      <th>Lng</th>\n",
       "      <th>Max Temp</th>\n",
       "      <th>Humidity</th>\n",
       "      <th>Cloudiness</th>\n",
       "      <th>Wind Speed</th>\n",
       "      <th>Date</th>\n",
       "    </tr>\n",
       "  </thead>\n",
       "  <tbody>\n",
       "    <tr>\n",
       "      <th>count</th>\n",
       "      <td>574.000000</td>\n",
       "      <td>574.000000</td>\n",
       "      <td>574.000000</td>\n",
       "      <td>574.000000</td>\n",
       "      <td>574.000000</td>\n",
       "      <td>574.000000</td>\n",
       "      <td>5.740000e+02</td>\n",
       "    </tr>\n",
       "    <tr>\n",
       "      <th>mean</th>\n",
       "      <td>21.263483</td>\n",
       "      <td>12.728707</td>\n",
       "      <td>48.106115</td>\n",
       "      <td>76.207317</td>\n",
       "      <td>56.456446</td>\n",
       "      <td>8.048711</td>\n",
       "      <td>1.609911e+09</td>\n",
       "    </tr>\n",
       "    <tr>\n",
       "      <th>std</th>\n",
       "      <td>33.490432</td>\n",
       "      <td>90.557253</td>\n",
       "      <td>32.256703</td>\n",
       "      <td>18.297728</td>\n",
       "      <td>38.592524</td>\n",
       "      <td>5.724449</td>\n",
       "      <td>2.183702e+02</td>\n",
       "    </tr>\n",
       "    <tr>\n",
       "      <th>min</th>\n",
       "      <td>-54.800000</td>\n",
       "      <td>-179.166700</td>\n",
       "      <td>-42.860000</td>\n",
       "      <td>1.000000</td>\n",
       "      <td>0.000000</td>\n",
       "      <td>0.130000</td>\n",
       "      <td>1.609911e+09</td>\n",
       "    </tr>\n",
       "    <tr>\n",
       "      <th>25%</th>\n",
       "      <td>-7.775200</td>\n",
       "      <td>-67.496475</td>\n",
       "      <td>30.000000</td>\n",
       "      <td>68.000000</td>\n",
       "      <td>19.000000</td>\n",
       "      <td>3.902500</td>\n",
       "      <td>1.609911e+09</td>\n",
       "    </tr>\n",
       "    <tr>\n",
       "      <th>50%</th>\n",
       "      <td>27.946800</td>\n",
       "      <td>16.215800</td>\n",
       "      <td>55.400000</td>\n",
       "      <td>80.500000</td>\n",
       "      <td>75.000000</td>\n",
       "      <td>6.690000</td>\n",
       "      <td>1.609911e+09</td>\n",
       "    </tr>\n",
       "    <tr>\n",
       "      <th>75%</th>\n",
       "      <td>50.100075</td>\n",
       "      <td>88.327075</td>\n",
       "      <td>74.710000</td>\n",
       "      <td>88.000000</td>\n",
       "      <td>90.750000</td>\n",
       "      <td>11.300000</td>\n",
       "      <td>1.609911e+09</td>\n",
       "    </tr>\n",
       "    <tr>\n",
       "      <th>max</th>\n",
       "      <td>78.218600</td>\n",
       "      <td>179.316700</td>\n",
       "      <td>98.600000</td>\n",
       "      <td>100.000000</td>\n",
       "      <td>100.000000</td>\n",
       "      <td>39.060000</td>\n",
       "      <td>1.609912e+09</td>\n",
       "    </tr>\n",
       "  </tbody>\n",
       "</table>\n",
       "</div>"
      ],
      "text/plain": [
       "              Lat         Lng    Max Temp    Humidity  Cloudiness  Wind Speed  \\\n",
       "count  574.000000  574.000000  574.000000  574.000000  574.000000  574.000000   \n",
       "mean    21.263483   12.728707   48.106115   76.207317   56.456446    8.048711   \n",
       "std     33.490432   90.557253   32.256703   18.297728   38.592524    5.724449   \n",
       "min    -54.800000 -179.166700  -42.860000    1.000000    0.000000    0.130000   \n",
       "25%     -7.775200  -67.496475   30.000000   68.000000   19.000000    3.902500   \n",
       "50%     27.946800   16.215800   55.400000   80.500000   75.000000    6.690000   \n",
       "75%     50.100075   88.327075   74.710000   88.000000   90.750000   11.300000   \n",
       "max     78.218600  179.316700   98.600000  100.000000  100.000000   39.060000   \n",
       "\n",
       "               Date  \n",
       "count  5.740000e+02  \n",
       "mean   1.609911e+09  \n",
       "std    2.183702e+02  \n",
       "min    1.609911e+09  \n",
       "25%    1.609911e+09  \n",
       "50%    1.609911e+09  \n",
       "75%    1.609911e+09  \n",
       "max    1.609912e+09  "
      ]
     },
     "execution_count": 51,
     "metadata": {},
     "output_type": "execute_result"
    }
   ],
   "source": [
    "#calculate descriptive statistics \n",
    "city_weather.describe()"
   ]
  },
  {
   "cell_type": "markdown",
   "metadata": {},
   "source": [
    "## Inspect the data and remove the cities where the humidity > 100%.\n",
    "----\n",
    "Skip this step if there are no cities that have humidity > 100%. "
   ]
  },
  {
   "cell_type": "code",
   "execution_count": 52,
   "metadata": {},
   "outputs": [
    {
     "data": {
      "text/html": [
       "<div>\n",
       "<style scoped>\n",
       "    .dataframe tbody tr th:only-of-type {\n",
       "        vertical-align: middle;\n",
       "    }\n",
       "\n",
       "    .dataframe tbody tr th {\n",
       "        vertical-align: top;\n",
       "    }\n",
       "\n",
       "    .dataframe thead th {\n",
       "        text-align: right;\n",
       "    }\n",
       "</style>\n",
       "<table border=\"1\" class=\"dataframe\">\n",
       "  <thead>\n",
       "    <tr style=\"text-align: right;\">\n",
       "      <th></th>\n",
       "      <th>City</th>\n",
       "      <th>Lat</th>\n",
       "      <th>Lng</th>\n",
       "      <th>Max Temp</th>\n",
       "      <th>Humidity</th>\n",
       "      <th>Cloudiness</th>\n",
       "      <th>Wind Speed</th>\n",
       "      <th>Country</th>\n",
       "      <th>Date</th>\n",
       "    </tr>\n",
       "  </thead>\n",
       "  <tbody>\n",
       "  </tbody>\n",
       "</table>\n",
       "</div>"
      ],
      "text/plain": [
       "Empty DataFrame\n",
       "Columns: [City, Lat, Lng, Max Temp, Humidity, Cloudiness, Wind Speed, Country, Date]\n",
       "Index: []"
      ]
     },
     "execution_count": 52,
     "metadata": {},
     "output_type": "execute_result"
    }
   ],
   "source": [
    "humidity_check = city_weather.loc[city_weather[\"Humidity\"] > 100]\n",
    "humidity_check"
   ]
  },
  {
   "cell_type": "code",
   "execution_count": 53,
   "metadata": {},
   "outputs": [],
   "source": [
    "#  Get the indices of cities that have humidity over 100%.\n"
   ]
  },
  {
   "cell_type": "code",
   "execution_count": 54,
   "metadata": {},
   "outputs": [],
   "source": [
    "# Make a new DataFrame equal to the city data to drop all humidity outliers by index.\n",
    "# Passing \"inplace=False\" will make a copy of the city_data DataFrame, which we call \"clean_city_data\".\n"
   ]
  },
  {
   "cell_type": "code",
   "execution_count": null,
   "metadata": {},
   "outputs": [],
   "source": [
    "\n"
   ]
  },
  {
   "cell_type": "markdown",
   "metadata": {},
   "source": [
    "## Plotting the Data\n",
    "* Use proper labeling of the plots using plot titles (including date of analysis) and axes labels.\n",
    "* Save the plotted figures as .pngs."
   ]
  },
  {
   "cell_type": "markdown",
   "metadata": {},
   "source": [
    "## Latitude vs. Temperature Plot"
   ]
  },
  {
   "cell_type": "code",
   "execution_count": 57,
   "metadata": {
    "scrolled": false
   },
   "outputs": [
    {
     "data": {
      "image/png": "[encoded data removed]",
      "text/plain": [
       "<Figure size 432x288 with 1 Axes>"
      ]
     },
     "metadata": {
      "needs_background": "light"
     },
     "output_type": "display_data"
    }
   ],
   "source": [
    "#set variable for current date to print \n",
    "today = date.today()\n",
    "\n",
    "#plot weather data\n",
    "x_values = city_weather[\"Lat\"]\n",
    "y_values = city_weather[\"Max Temp\"]\n",
    "plt.scatter(x_values, y_values, marker='o', edgecolors='black')\n",
    "plt.grid(b=True, which='major', linestyle='-')\n",
    "plt.xlabel(\"Latitude\")\n",
    "plt.ylabel(\"Max Temperature (F)\")\n",
    "plt.title(f\"City Latitude vs. Max Temperature {today}\")\n",
    "\n",
    "#save figure as png  \n",
    "plt.savefig(\"Fig1.png\", format='png')\n",
    "\n",
    "plt.show()"
   ]
  },
  {
   "cell_type": "markdown",
   "metadata": {},
   "source": [
    "This plot shows the correlation between the max temperature of cities around the world and their latitudinal location.  With 0 on the x-axis being the equator, this plot shows that the maximum temperture at locations around the equator are the warmest, and that there is a moderate negative correlation between latitude and temperature. "
   ]
  },
  {
   "cell_type": "markdown",
   "metadata": {},
   "source": [
    "## Latitude vs. Humidity Plot"
   ]
  },
  {
   "cell_type": "code",
   "execution_count": 58,
   "metadata": {},
   "outputs": [
    {
     "data": {
      "image/png": "[encoded data removed]",
      "text/plain": [
       "<Figure size 432x288 with 1 Axes>"
      ]
     },
     "metadata": {
      "needs_background": "light"
     },
     "output_type": "display_data"
    }
   ],
   "source": [
    "#plot weather data\n",
    "x_values = city_weather[\"Lat\"]\n",
    "y_values = city_weather[\"Humidity\"]\n",
    "plt.scatter(x_values, y_values, marker='o', edgecolors='black')\n",
    "plt.grid(b=True, which='major', linestyle='-')\n",
    "plt.xlabel(\"Latitude\")\n",
    "plt.ylabel(\"Humidity (%)\")\n",
    "plt.title(f\"City Latitude vs. Humidity {today}\")\n",
    "\n",
    "#save figure as png  \n",
    "plt.savefig(\"Fig2.png\", format='png')\n",
    "\n",
    "plt.show()"
   ]
  },
  {
   "cell_type": "markdown",
   "metadata": {},
   "source": [
    "This plot shows the correlation between latitudinal location of the city and their humidity level for the current day. Generally, it appears to show no real correlation between location and humidity levels.  "
   ]
  },
  {
   "cell_type": "markdown",
   "metadata": {},
   "source": [
    "## Latitude vs. Cloudiness Plot"
   ]
  },
  {
   "cell_type": "code",
   "execution_count": 59,
   "metadata": {
    "scrolled": true
   },
   "outputs": [
    {
     "data": {
      "image/png": "[encoded data removed]",
      "text/plain": [
       "<Figure size 432x288 with 1 Axes>"
      ]
     },
     "metadata": {
      "needs_background": "light"
     },
     "output_type": "display_data"
    }
   ],
   "source": [
    "#plot weather data\n",
    "x_values = city_weather[\"Lat\"]\n",
    "y_values = city_weather[\"Cloudiness\"]\n",
    "plt.scatter(x_values, y_values, marker='o', edgecolors='black')\n",
    "plt.xlabel(\"Latitude\")\n",
    "plt.ylabel(\"Cloudiness (%)\")\n",
    "plt.title(f\"City Latitude vs. Cloudiness {today}\")\n",
    "\n",
    "#save figure as png  \n",
    "plt.savefig(\"Fig3.png\", format='png')\n",
    "\n",
    "plt.show()"
   ]
  },
  {
   "cell_type": "markdown",
   "metadata": {},
   "source": [
    "This plot shows the correlation between latitudinal location of a city and the cloudiness level for the current day.  Generally, it appears to show no real correlation beteen latitude and cloudiness levels. "
   ]
  },
  {
   "cell_type": "markdown",
   "metadata": {},
   "source": [
    "## Latitude vs. Wind Speed Plot"
   ]
  },
  {
   "cell_type": "code",
   "execution_count": 60,
   "metadata": {
    "scrolled": true
   },
   "outputs": [
    {
     "data": {
      "image/png": "[encoded data removed]",
      "text/plain": [
       "<Figure size 432x288 with 1 Axes>"
      ]
     },
     "metadata": {
      "needs_background": "light"
     },
     "output_type": "display_data"
    }
   ],
   "source": [
    "#plot weather data\n",
    "x_values = city_weather[\"Lat\"]\n",
    "y_values = city_weather[\"Wind Speed\"]\n",
    "plt.scatter(x_values, y_values, marker='o', edgecolors='black')\n",
    "plt.xlabel(\"Latitude\")\n",
    "plt.ylabel(\"Wind Speed (mph)\")\n",
    "plt.title(f\"City Latitude vs. Wind Speed {today}\")\n",
    "\n",
    "#save figure as png  \n",
    "plt.savefig(\"Fig4.png\", format='png')\n",
    "\n",
    "plt.show()"
   ]
  },
  {
   "cell_type": "markdown",
   "metadata": {},
   "source": [
    "This plot shows the correlation between latitudinal location of a city and their current wind speed.  Generally, there appears to be no real correlation between location and wind speed. "
   ]
  },
  {
   "cell_type": "markdown",
   "metadata": {},
   "source": [
    "## Linear Regression"
   ]
  },
  {
   "cell_type": "code",
   "execution_count": 61,
   "metadata": {},
   "outputs": [],
   "source": [
    "north = city_weather.loc[city_weather[\"Lat\"] >= 0]\n",
    "south = city_weather.loc[city_weather[\"Lat\"] < 0]"
   ]
  },
  {
   "cell_type": "markdown",
   "metadata": {},
   "source": [
    "####  Northern Hemisphere - Max Temp vs. Latitude Linear Regression"
   ]
  },
  {
   "cell_type": "code",
   "execution_count": 62,
   "metadata": {},
   "outputs": [
    {
     "name": "stdout",
     "output_type": "stream",
     "text": [
      "The r-value is: -0.8479376855369448\n"
     ]
    },
    {
     "data": {
      "image/png": "[encoded data removed]",
      "text/plain": [
       "<Figure size 432x288 with 1 Axes>"
      ]
     },
     "metadata": {
      "needs_background": "light"
     },
     "output_type": "display_data"
    }
   ],
   "source": [
    "x = north[\"Lat\"]\n",
    "y = north[\"Max Temp\"]\n",
    "corr = st.pearsonr(x, y)[0]\n",
    "print(f'The r-value is: {corr}')\n",
    "\n",
    "slp, intr, r, p, std = st.linregress(x,y)\n",
    "regress = slp * x + intr \n",
    "line = \"y =\" + str(round(slp, 2)) + \"x +\" + str(round(intr, 2))\n",
    "\n",
    "plt.scatter(x, y, marker='o')\n",
    "plt.plot(x, regress, \"r-\")\n",
    "plt.annotate(line,(5, -20), fontsize=15, color='red')\n",
    "plt.xlabel(\"Latitude\")\n",
    "plt.ylabel(\"Max Temp (F)\")\n",
    "plt.show()"
   ]
  },
  {
   "cell_type": "markdown",
   "metadata": {},
   "source": [
    "####  Southern Hemisphere - Max Temp vs. Latitude Linear Regression"
   ]
  },
  {
   "cell_type": "code",
   "execution_count": 63,
   "metadata": {},
   "outputs": [
    {
     "name": "stdout",
     "output_type": "stream",
     "text": [
      "The r-value is: 0.4288073024601654\n"
     ]
    },
    {
     "data": {
      "image/png": "[encoded data removed]",
      "text/plain": [
       "<Figure size 432x288 with 1 Axes>"
      ]
     },
     "metadata": {
      "needs_background": "light"
     },
     "output_type": "display_data"
    }
   ],
   "source": [
    "x = south[\"Lat\"]\n",
    "y = south[\"Max Temp\"]\n",
    "corr = st.pearsonr(x, y)[0]\n",
    "print(f'The r-value is: {corr}')\n",
    "\n",
    "slp, intr, r, p, std = st.linregress(x,y)\n",
    "regress = slp * x + intr \n",
    "line = \"y =\" + str(round(slp, 2)) + \"x +\" + str(round(intr, 2))\n",
    "\n",
    "plt.scatter(x, y, marker='o')\n",
    "plt.plot(x, regress, \"r-\")\n",
    "plt.annotate(line,(-55, 85), fontsize=15, color='red')\n",
    "plt.xlabel(\"Latitude\")\n",
    "plt.ylabel(\"Max Temp (F)\")\n",
    "plt.show()"
   ]
  },
  {
   "cell_type": "markdown",
   "metadata": {},
   "source": [
    "####  Northern Hemisphere - Humidity (%) vs. Latitude Linear Regression"
   ]
  },
  {
   "cell_type": "code",
   "execution_count": 64,
   "metadata": {},
   "outputs": [
    {
     "name": "stdout",
     "output_type": "stream",
     "text": [
      "The r-value is: 0.27446938752008354\n"
     ]
    },
    {
     "data": {
      "image/png": "[encoded data removed]",
      "text/plain": [
       "<Figure size 432x288 with 1 Axes>"
      ]
     },
     "metadata": {
      "needs_background": "light"
     },
     "output_type": "display_data"
    }
   ],
   "source": [
    "x = north[\"Lat\"]\n",
    "y = north[\"Humidity\"]\n",
    "corr = st.pearsonr(x, y)[0]\n",
    "print(f'The r-value is: {corr}')\n",
    "\n",
    "slp, intr, r, p, std = st.linregress(x,y)\n",
    "regress = slp * x + intr \n",
    "line = \"y =\" + str(round(slp, 2)) + \"x +\" + str(round(intr, 2))\n",
    "\n",
    "plt.scatter(x, y, marker='o')\n",
    "plt.plot(x, regress, \"r-\")\n",
    "plt.annotate(line,(50, 30), fontsize=15, color='red')\n",
    "plt.xlabel(\"Latitude\")\n",
    "plt.ylabel(\"Humidity (%)\")\n",
    "plt.show()"
   ]
  },
  {
   "cell_type": "markdown",
   "metadata": {},
   "source": [
    "####  Southern Hemisphere - Humidity (%) vs. Latitude Linear Regression"
   ]
  },
  {
   "cell_type": "code",
   "execution_count": 65,
   "metadata": {},
   "outputs": [
    {
     "name": "stdout",
     "output_type": "stream",
     "text": [
      "The r-value is: 0.24211091861349027\n"
     ]
    },
    {
     "data": {
      "image/png": "[encoded data removed]",
      "text/plain": [
       "<Figure size 432x288 with 1 Axes>"
      ]
     },
     "metadata": {
      "needs_background": "light"
     },
     "output_type": "display_data"
    }
   ],
   "source": [
    "x = south[\"Lat\"]\n",
    "y = south[\"Humidity\"]\n",
    "corr = st.pearsonr(x, y)[0]\n",
    "print(f'The r-value is: {corr}')\n",
    "\n",
    "slp, intr, r, p, std = st.linregress(x,y)\n",
    "regress = slp * x + intr \n",
    "line = \"y =\" + str(round(slp, 2)) + \"x +\" + str(round(intr, 2))\n",
    "\n",
    "plt.scatter(x, y, marker='o')\n",
    "plt.plot(x, regress, \"r-\")\n",
    "plt.annotate(line,(-55, 20), fontsize=13, color='red')\n",
    "plt.xlabel(\"Latitude\")\n",
    "plt.ylabel(\"Humidity (%)\")\n",
    "plt.show()"
   ]
  },
  {
   "cell_type": "markdown",
   "metadata": {},
   "source": [
    "####  Northern Hemisphere - Cloudiness (%) vs. Latitude Linear Regression"
   ]
  },
  {
   "cell_type": "code",
   "execution_count": 66,
   "metadata": {},
   "outputs": [
    {
     "name": "stdout",
     "output_type": "stream",
     "text": [
      "The r-value is: 0.2503271961190684\n"
     ]
    },
    {
     "data": {
      "image/png": "[encoded data removed]",
      "text/plain": [
       "<Figure size 432x288 with 1 Axes>"
      ]
     },
     "metadata": {
      "needs_background": "light"
     },
     "output_type": "display_data"
    }
   ],
   "source": [
    "x = north[\"Lat\"]\n",
    "y = north[\"Cloudiness\"]\n",
    "corr = st.pearsonr(x, y)[0]\n",
    "print(f'The r-value is: {corr}')\n",
    "\n",
    "slp, intr, r, p, std = st.linregress(x,y)\n",
    "regress = slp * x + intr \n",
    "line = \"y =\" + str(round(slp, 2)) + \"x +\" + str(round(intr, 2))\n",
    "\n",
    "plt.scatter(x, y, marker='o')\n",
    "plt.plot(x, regress, \"r-\")\n",
    "plt.annotate(line,(15, 30), fontsize=13, color='red')\n",
    "plt.xlabel(\"Latitude\")\n",
    "plt.ylabel(\"Cloudiness (%)\")\n",
    "plt.show()"
   ]
  },
  {
   "cell_type": "markdown",
   "metadata": {},
   "source": [
    "####  Southern Hemisphere - Cloudiness (%) vs. Latitude Linear Regression"
   ]
  },
  {
   "cell_type": "code",
   "execution_count": 67,
   "metadata": {},
   "outputs": [
    {
     "name": "stdout",
     "output_type": "stream",
     "text": [
      "The r-value is: 0.08601772919052555\n"
     ]
    },
    {
     "data": {
      "image/png": "[encoded data removed]",
      "text/plain": [
       "<Figure size 432x288 with 1 Axes>"
      ]
     },
     "metadata": {
      "needs_background": "light"
     },
     "output_type": "display_data"
    }
   ],
   "source": [
    "x = south[\"Lat\"]\n",
    "y = south[\"Cloudiness\"]\n",
    "corr = st.pearsonr(x, y)[0]\n",
    "print(f'The r-value is: {corr}')\n",
    "\n",
    "slp, intr, r, p, std = st.linregress(x,y)\n",
    "regress = slp * x + intr \n",
    "line = \"y =\" + str(round(slp, 2)) + \"x +\" + str(round(intr, 2))\n",
    "\n",
    "plt.scatter(x, y, marker='o')\n",
    "plt.plot(x, regress, \"r-\")\n",
    "plt.annotate(line,(-55, 20), fontsize=13, color='red')\n",
    "plt.xlabel(\"Latitude\")\n",
    "plt.ylabel(\"Cloudiness (%)\")\n",
    "plt.show()"
   ]
  },
  {
   "cell_type": "markdown",
   "metadata": {},
   "source": [
    "####  Northern Hemisphere - Wind Speed (mph) vs. Latitude Linear Regression"
   ]
  },
  {
   "cell_type": "code",
   "execution_count": 68,
   "metadata": {},
   "outputs": [
    {
     "name": "stdout",
     "output_type": "stream",
     "text": [
      "The r-value is: 0.17207964494905245\n"
     ]
    },
    {
     "data": {
      "image/png": "[encoded data removed]",
      "text/plain": [
       "<Figure size 432x288 with 1 Axes>"
      ]
     },
     "metadata": {
      "needs_background": "light"
     },
     "output_type": "display_data"
    }
   ],
   "source": [
    "x = north[\"Lat\"]\n",
    "y = north[\"Wind Speed\"]\n",
    "corr = st.pearsonr(x, y)[0]\n",
    "print(f'The r-value is: {corr}')\n",
    "\n",
    "slp, intr, r, p, std = st.linregress(x,y)\n",
    "regress = slp * x + intr \n",
    "line = \"y =\" + str(round(slp, 2)) + \"x +\" + str(round(intr, 2))\n",
    "\n",
    "plt.scatter(x, y, marker='o')\n",
    "plt.plot(x, regress, \"r-\")\n",
    "plt.annotate(line,(0, 27), fontsize=13, color='red')\n",
    "plt.xlabel(\"Latitude\")\n",
    "plt.ylabel(\"Wind Speed (mph)\")\n",
    "plt.show()"
   ]
  },
  {
   "cell_type": "markdown",
   "metadata": {},
   "source": [
    "####  Southern Hemisphere - Wind Speed (mph) vs. Latitude Linear Regression"
   ]
  },
  {
   "cell_type": "code",
   "execution_count": 69,
   "metadata": {},
   "outputs": [
    {
     "name": "stdout",
     "output_type": "stream",
     "text": [
      "The r-value is: -0.1699031906478029\n"
     ]
    },
    {
     "data": {
      "image/png": "[encoded data removed]",
      "text/plain": [
       "<Figure size 432x288 with 1 Axes>"
      ]
     },
     "metadata": {
      "needs_background": "light"
     },
     "output_type": "display_data"
    }
   ],
   "source": [
    "x = south[\"Lat\"]\n",
    "y = south[\"Wind Speed\"]\n",
    "corr = st.pearsonr(x, y)[0]\n",
    "print(f'The r-value is: {corr}')\n",
    "\n",
    "slp, intr, r, p, std = st.linregress(x,y)\n",
    "regress = slp * x + intr \n",
    "line = \"y =\" + str(round(slp, 2)) + \"x +\" + str(round(intr, 2))\n",
    "\n",
    "plt.scatter(x, y, marker='o')\n",
    "plt.plot(x, regress, \"r-\")\n",
    "plt.annotate(line,(-55, 27), fontsize=13, color='red')\n",
    "plt.xlabel(\"Latitude\")\n",
    "plt.ylabel(\"Wind Speed (mph)\")\n",
    "plt.show()"
   ]
  },
  {
   "cell_type": "code",
   "execution_count": null,
   "metadata": {},
   "outputs": [],
   "source": []
  }
 ],
 "metadata": {
  "anaconda-cloud": {},
  "kernel_info": {
   "name": "python3"
  },
  "kernelspec": {
   "display_name": "Python 3",
   "language": "python",
   "name": "python3"
  },
  "language_info": {
   "codemirror_mode": {
    "name": "ipython",
    "version": 3
   },
   "file_extension": ".py",
   "mimetype": "text/x-python",
   "name": "python",
   "nbconvert_exporter": "python",
   "pygments_lexer": "ipython3",
   "version": "3.8.3"
  },
  "latex_envs": {
   "LaTeX_envs_menu_present": true,
   "autoclose": false,
   "autocomplete": true,
   "bibliofile": "biblio.bib",
   "cite_by": "apalike",
   "current_citInitial": 1,
   "eqLabelWithNumbers": true,
   "eqNumInitial": 1,
   "hotkeys": {
    "equation": "Ctrl-E",
    "itemize": "Ctrl-I"
   },
   "labels_anchors": false,
   "latex_user_defs": false,
   "report_style_numbering": false,
   "user_envs_cfg": false
  },
  "nteract": {
   "version": "0.12.3"
  }
 },
 "nbformat": 4,
 "nbformat_minor": 2
}
