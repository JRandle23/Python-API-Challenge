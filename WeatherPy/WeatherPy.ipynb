{
 "cells": [
  {
   "cell_type": "markdown",
   "metadata": {},
   "source": [
    "# WeatherPy\n",
    "----\n",
    "\n",
    "#### Note\n",
    "* Instructions have been included for each segment. You do not have to follow them exactly, but they are included to help you think through the steps."
   ]
  },
  {
   "cell_type": "code",
   "execution_count": 10,
   "metadata": {
    "scrolled": true
   },
   "outputs": [],
   "source": [
    "# Dependencies and Setup\n",
    "import matplotlib.pyplot as plt\n",
    "import pandas as pd\n",
    "import numpy as np\n",
    "import requests\n",
    "import time\n",
    "import os \n",
    "import scipy.stats as st\n",
    "\n",
    "from datetime import date\n",
    "from pprint import pprint\n",
    "from scipy.stats import linregress\n",
    "\n",
    "# Import API key\n",
    "from api_keys import weather_api_key\n",
    "\n",
    "# Incorporated citipy to determine city based on latitude and longitude\n",
    "from citipy import citipy\n",
    "\n",
    "# Output File (CSV)\n",
    "output_data_file = \"Output_Data/cities.csv\"\n",
    "\n",
    "# Range of latitudes and longitudes\n",
    "lat_range = (-90, 90)\n",
    "lng_range = (-180, 180)"
   ]
  },
  {
   "cell_type": "markdown",
   "metadata": {},
   "source": [
    "## Generate Cities List"
   ]
  },
  {
   "cell_type": "code",
   "execution_count": 2,
   "metadata": {},
   "outputs": [
    {
     "data": {
      "text/plain": [
       "629"
      ]
     },
     "execution_count": 2,
     "metadata": {},
     "output_type": "execute_result"
    }
   ],
   "source": [
    " # List for holding lat_lngs and cities\n",
    "lat_lngs = []\n",
    "cities = []\n",
    "\n",
    "# Create a set of random lat and lng combinations\n",
    "lats = np.random.uniform(lat_range[0], lat_range[1], size=1500)\n",
    "lngs = np.random.uniform(lng_range[0], lng_range[1], size=1500)\n",
    "lat_lngs = zip(lats, lngs)\n",
    "\n",
    "# Identify nearest city for each lat, lng combination\n",
    "for lat_lng in lat_lngs:\n",
    "    city = citipy.nearest_city(lat_lng[0], lat_lng[1]).city_name\n",
    "    \n",
    "    # If the city is unique, then add it to a our cities list\n",
    "    if city not in cities:\n",
    "        cities.append(city)\n",
    "\n",
    "# Print the city count to confirm sufficient count\n",
    "len(cities)"
   ]
  },
  {
   "cell_type": "markdown",
   "metadata": {},
   "source": [
    "### Perform API Calls\n",
    "* Perform a weather check on each city using a series of successive API calls.\n",
    "* Include a print log of each city as its being processed (with the city number and city name).\n"
   ]
  },
  {
   "cell_type": "code",
   "execution_count": 3,
   "metadata": {
    "scrolled": true
   },
   "outputs": [
    {
     "name": "stdout",
     "output_type": "stream",
     "text": [
      "Beginning Data Retrieval\n",
      "-------------------------------\n",
      "Processing Record 1 of Set 1 | Sørland\n",
      "Processing Record 2 of Set 1 | Vyshneve\n",
      "Processing Record 3 of Set 1 | Barrow\n",
      "Processing Record 4 of Set 1 | Chernyshevskiy\n",
      "Processing Record 5 of Set 1 | Puerto Ayora\n",
      "Processing Record 6 of Set 1 | Thompson\n",
      "Processing Record 7 of Set 1 | Tautira\n",
      "City not found. Skipping...\n",
      "Processing Record 8 of Set 1 | Padang\n",
      "Processing Record 9 of Set 1 | Cape Town\n",
      "Processing Record 10 of Set 1 | Saint Paul Harbor\n",
      "Processing Record 11 of Set 1 | Beringovskiy\n",
      "Processing Record 12 of Set 1 | Tsumeb\n",
      "Processing Record 13 of Set 1 | Egvekinot\n",
      "Processing Record 14 of Set 1 | Lubao\n",
      "Processing Record 15 of Set 1 | Departamento de Maldonado\n",
      "Processing Record 16 of Set 1 | Almenara\n",
      "Processing Record 17 of Set 1 | Hilo\n",
      "Processing Record 18 of Set 1 | Jamestown\n",
      "Processing Record 19 of Set 1 | Klaksvík\n",
      "Processing Record 20 of Set 1 | Dikson\n",
      "Processing Record 21 of Set 1 | Qaanaaq\n",
      "Processing Record 22 of Set 1 | Port-Gentil\n",
      "City not found. Skipping...\n",
      "Processing Record 23 of Set 1 | Ushuaia\n",
      "Processing Record 24 of Set 1 | Leon Valley\n",
      "Processing Record 25 of Set 1 | Krasnosel'kup\n",
      "Processing Record 26 of Set 1 | Punta Arenas\n",
      "Processing Record 27 of Set 1 | Aklavik\n",
      "Processing Record 28 of Set 1 | Paita\n",
      "Processing Record 29 of Set 1 | Shitkino\n",
      "Processing Record 30 of Set 1 | Beira\n",
      "Processing Record 31 of Set 1 | Bluff\n",
      "Processing Record 32 of Set 1 | Opuwo\n",
      "Processing Record 33 of Set 1 | Hualmay\n",
      "Processing Record 34 of Set 1 | Rikitea\n",
      "Processing Record 35 of Set 1 | Albany\n",
      "Processing Record 36 of Set 1 | Longyearbyen\n",
      "Processing Record 37 of Set 1 | Puerto del Rosario\n",
      "Processing Record 38 of Set 1 | Atuona\n",
      "Processing Record 39 of Set 1 | Riyadh\n",
      "Processing Record 40 of Set 1 | Mar del Plata\n",
      "Processing Record 41 of Set 1 | Iqaluit\n",
      "Processing Record 42 of Set 1 | San Cristobal\n",
      "Processing Record 43 of Set 1 | Busselton\n",
      "Processing Record 44 of Set 1 | Qasigiannguit\n",
      "Processing Record 45 of Set 1 | Hobart\n",
      "Processing Record 46 of Set 1 | Meulaboh\n",
      "Processing Record 47 of Set 1 | Hithadhoo\n",
      "Processing Record 48 of Set 1 | Darłowo\n",
      "Processing Record 49 of Set 1 | Mataura\n",
      "Processing Record 50 of Set 1 | Reconquista\n",
      "Processing Record 0 of Set 2 | Fallon\n",
      "Processing Record 1 of Set 2 | Bengkulu\n",
      "Processing Record 2 of Set 2 | Sola\n",
      "Processing Record 3 of Set 2 | Kruisfontein\n",
      "Processing Record 4 of Set 2 | Naze\n",
      "Processing Record 5 of Set 2 | Tefé\n",
      "Processing Record 6 of Set 2 | Brønnøysund\n",
      "Processing Record 7 of Set 2 | Kapaa\n",
      "Processing Record 8 of Set 2 | Avarua\n",
      "Processing Record 9 of Set 2 | Aquiraz\n",
      "Processing Record 10 of Set 2 | Andenes\n",
      "City not found. Skipping...\n",
      "Processing Record 11 of Set 2 | Makakilo City\n",
      "Processing Record 12 of Set 2 | Nanortalik\n",
      "Processing Record 13 of Set 2 | Tasiilaq\n",
      "Processing Record 14 of Set 2 | Vaini\n",
      "City not found. Skipping...\n",
      "Processing Record 15 of Set 2 | Muriti\n",
      "Processing Record 16 of Set 2 | Luanda\n",
      "City not found. Skipping...\n",
      "Processing Record 17 of Set 2 | Santa Isabel Rio Negro\n",
      "Processing Record 18 of Set 2 | Mehamn\n",
      "Processing Record 19 of Set 2 | Hermanus\n",
      "Processing Record 20 of Set 2 | George Town\n",
      "Processing Record 21 of Set 2 | George Town\n",
      "Processing Record 22 of Set 2 | Marabu\n",
      "Processing Record 23 of Set 2 | Bredasdorp\n",
      "Processing Record 24 of Set 2 | Usinsk\n",
      "Processing Record 25 of Set 2 | Kang\n",
      "Processing Record 26 of Set 2 | La Ronge\n",
      "City not found. Skipping...\n",
      "Processing Record 27 of Set 2 | Butaritari\n",
      "Processing Record 28 of Set 2 | Saint George\n",
      "Processing Record 29 of Set 2 | Cherskiy\n",
      "Processing Record 30 of Set 2 | Saldanha\n",
      "Processing Record 31 of Set 2 | San Quintín\n",
      "Processing Record 32 of Set 2 | Monchegorsk\n",
      "Processing Record 33 of Set 2 | Gisborne\n",
      "Processing Record 34 of Set 2 | Tuktoyaktuk\n",
      "Processing Record 35 of Set 2 | Vao\n",
      "Processing Record 36 of Set 2 | Pevek\n",
      "Processing Record 37 of Set 2 | Mt. Pleasant\n",
      "Processing Record 38 of Set 2 | Yangi Marg`ilon\n",
      "Processing Record 39 of Set 2 | Tabou\n",
      "Processing Record 40 of Set 2 | Pataias\n",
      "Processing Record 41 of Set 2 | Kantunilkín\n",
      "Processing Record 42 of Set 2 | Cayenne\n",
      "Processing Record 43 of Set 2 | Batagay-Alyta\n",
      "City not found. Skipping...\n",
      "Processing Record 44 of Set 2 | Aloleng\n",
      "Processing Record 45 of Set 2 | Mayor Pablo Lagerenza\n",
      "Processing Record 46 of Set 2 | Pozo Colorado\n",
      "Processing Record 47 of Set 2 | Sayansk\n",
      "Processing Record 48 of Set 2 | Sādri\n",
      "Processing Record 49 of Set 2 | Ribeira Grande\n",
      "Processing Record 50 of Set 2 | Humaitá\n",
      "Processing Record 0 of Set 3 | Narsaq\n",
      "Processing Record 1 of Set 3 | Santa Rosa\n",
      "Processing Record 2 of Set 3 | Talaya\n",
      "Processing Record 3 of Set 3 | Port Blair\n",
      "Processing Record 4 of Set 3 | Nioro\n",
      "Processing Record 5 of Set 3 | Marawi\n",
      "Processing Record 6 of Set 3 | Bayangol\n",
      "Processing Record 7 of Set 3 | Umluj\n",
      "Processing Record 8 of Set 3 | Vacaria\n",
      "Processing Record 9 of Set 3 | Calama\n",
      "Processing Record 10 of Set 3 | Yellowknife\n",
      "Processing Record 11 of Set 3 | Port Elizabeth\n",
      "Processing Record 12 of Set 3 | Fortuna\n",
      "Processing Record 13 of Set 3 | Batticaloa\n",
      "Processing Record 14 of Set 3 | Touros\n",
      "City not found. Skipping...\n",
      "City not found. Skipping...\n",
      "Processing Record 15 of Set 3 | Phalaborwa\n",
      "Processing Record 16 of Set 3 | Urengoy\n",
      "City not found. Skipping...\n",
      "Processing Record 17 of Set 3 | Namtsy\n",
      "Processing Record 18 of Set 3 | Kaitangata\n",
      "Processing Record 19 of Set 3 | Songea\n",
      "Processing Record 20 of Set 3 | Castro\n",
      "Processing Record 21 of Set 3 | Vysokogornyy\n",
      "Processing Record 22 of Set 3 | Nantucket\n",
      "Processing Record 23 of Set 3 | Airai\n",
      "Processing Record 24 of Set 3 | Itaituba\n",
      "Processing Record 25 of Set 3 | Sorong\n",
      "Processing Record 26 of Set 3 | Granada\n",
      "Processing Record 27 of Set 3 | Arraial do Cabo\n",
      "Processing Record 28 of Set 3 | Saint-Médard-en-Jalles\n",
      "Processing Record 29 of Set 3 | Makkah al Mukarramah\n",
      "Processing Record 30 of Set 3 | Kaniama\n",
      "Processing Record 31 of Set 3 | Smithers\n",
      "City not found. Skipping...\n",
      "City not found. Skipping...\n",
      "Processing Record 32 of Set 3 | Nouadhibou\n",
      "Processing Record 33 of Set 3 | Kavieng\n",
      "Processing Record 34 of Set 3 | Khatanga\n",
      "Processing Record 35 of Set 3 | Dalbandin\n",
      "Processing Record 36 of Set 3 | Conde\n",
      "Processing Record 37 of Set 3 | Kemin\n",
      "Processing Record 38 of Set 3 | Clyde River\n",
      "Processing Record 39 of Set 3 | Rosário Oeste\n",
      "Processing Record 40 of Set 3 | Marsabit\n",
      "Processing Record 41 of Set 3 | Codrington\n",
      "Processing Record 42 of Set 3 | Caucaia\n",
      "Processing Record 43 of Set 3 | Slave Lake\n",
      "Processing Record 44 of Set 3 | Richards Bay\n",
      "Processing Record 45 of Set 3 | Rūdbār\n",
      "Processing Record 46 of Set 3 | Tocopilla\n",
      "Processing Record 47 of Set 3 | Acoyapa\n",
      "Processing Record 48 of Set 3 | Fairbanks\n",
      "Processing Record 49 of Set 3 | Tselinnoye\n",
      "Processing Record 50 of Set 3 | Serebryanyy Bor\n",
      "Processing Record 0 of Set 4 | Hasaki\n",
      "Processing Record 1 of Set 4 | Udachny\n",
      "Processing Record 2 of Set 4 | Shahr-e Kord\n",
      "Processing Record 3 of Set 4 | Ghanzi\n",
      "Processing Record 4 of Set 4 | Bethel\n",
      "Processing Record 5 of Set 4 | Port Alfred\n",
      "Processing Record 6 of Set 4 | Lukaya\n",
      "Processing Record 7 of Set 4 | Pangnirtung\n",
      "Processing Record 8 of Set 4 | Mokhotlong\n",
      "Processing Record 9 of Set 4 | Agadez\n",
      "Processing Record 10 of Set 4 | Ранковце\n",
      "Processing Record 11 of Set 4 | Aykhal\n",
      "Processing Record 12 of Set 4 | Provideniya\n",
      "Processing Record 13 of Set 4 | Saskylakh\n",
      "Processing Record 14 of Set 4 | Yorosso\n",
      "City not found. Skipping...\n",
      "Processing Record 15 of Set 4 | New Norfolk\n",
      "Processing Record 16 of Set 4 | Los Llanos de Aridane\n",
      "Processing Record 17 of Set 4 | Chāndbāli\n",
      "Processing Record 18 of Set 4 | Seydişehir\n",
      "Processing Record 19 of Set 4 | Tiksi\n",
      "Processing Record 20 of Set 4 | Geraldton\n",
      "Processing Record 21 of Set 4 | Hinton\n",
      "Processing Record 22 of Set 4 | Praia\n",
      "City not found. Skipping...\n",
      "Processing Record 23 of Set 4 | Amga\n",
      "Processing Record 24 of Set 4 | Hong Kong\n",
      "Processing Record 25 of Set 4 | Dīdwāna\n",
      "Processing Record 26 of Set 4 | Dunedin\n",
      "Processing Record 27 of Set 4 | Bara\n",
      "Processing Record 28 of Set 4 | Okhotsk\n",
      "Processing Record 29 of Set 4 | Faanui\n",
      "Processing Record 30 of Set 4 | Norman Wells\n",
      "Processing Record 31 of Set 4 | Caravelas\n",
      "Processing Record 32 of Set 4 | Kudahuvadhoo\n",
      "City not found. Skipping...\n",
      "Processing Record 33 of Set 4 | Carnarvon\n"
     ]
    },
    {
     "name": "stdout",
     "output_type": "stream",
     "text": [
      "Processing Record 34 of Set 4 | Kautokeino\n",
      "Processing Record 35 of Set 4 | Ürümqi\n",
      "Processing Record 36 of Set 4 | Rurrenabaque\n",
      "Processing Record 37 of Set 4 | Sete Lagoas\n",
      "Processing Record 38 of Set 4 | Mussomeli\n",
      "Processing Record 39 of Set 4 | Malindi\n",
      "Processing Record 40 of Set 4 | Kiryat Gat\n",
      "Processing Record 41 of Set 4 | Kortkeros\n",
      "Processing Record 42 of Set 4 | Oktyabr'skoye\n",
      "Processing Record 43 of Set 4 | Wolfeboro\n",
      "Processing Record 44 of Set 4 | Deputatsky\n",
      "Processing Record 45 of Set 4 | Wilmington\n",
      "Processing Record 46 of Set 4 | Vila Velha\n",
      "Processing Record 47 of Set 4 | Phayao\n",
      "Processing Record 48 of Set 4 | Maceió\n",
      "Processing Record 49 of Set 4 | Hibbing\n",
      "Processing Record 50 of Set 4 | Santa Marta\n",
      "Processing Record 0 of Set 5 | Redlands\n",
      "Processing Record 1 of Set 5 | Chokurdakh\n",
      "Processing Record 2 of Set 5 | Safford\n",
      "Processing Record 3 of Set 5 | Carroll\n",
      "Processing Record 4 of Set 5 | Angoche\n",
      "City not found. Skipping...\n",
      "Processing Record 5 of Set 5 | Srednekolymsk\n",
      "Processing Record 6 of Set 5 | Champerico\n",
      "Processing Record 7 of Set 5 | Vardø\n",
      "City not found. Skipping...\n",
      "Processing Record 8 of Set 5 | Inhambane\n",
      "Processing Record 9 of Set 5 | Lieksa\n",
      "Processing Record 10 of Set 5 | Ilo\n",
      "Processing Record 11 of Set 5 | Lavrentiya\n",
      "City not found. Skipping...\n",
      "Processing Record 12 of Set 5 | Mahébourg\n",
      "Processing Record 13 of Set 5 | Ayan\n",
      "Processing Record 14 of Set 5 | Pacific Grove\n",
      "City not found. Skipping...\n",
      "Processing Record 15 of Set 5 | Woodward\n",
      "Processing Record 16 of Set 5 | Balabac\n",
      "Processing Record 17 of Set 5 | Esperance\n",
      "Processing Record 18 of Set 5 | Kieta\n",
      "City not found. Skipping...\n",
      "Processing Record 19 of Set 5 | Avera\n",
      "Processing Record 20 of Set 5 | São Filipe\n",
      "Processing Record 21 of Set 5 | Ponta do Sol\n",
      "Processing Record 22 of Set 5 | Mana\n",
      "Processing Record 23 of Set 5 | Neiafu\n",
      "Processing Record 24 of Set 5 | Saint-Philippe\n",
      "Processing Record 25 of Set 5 | Biryusinsk\n",
      "Processing Record 26 of Set 5 | Houndé\n",
      "Processing Record 27 of Set 5 | Kailua\n",
      "Processing Record 28 of Set 5 | Ilhabela\n",
      "Processing Record 29 of Set 5 | Ekhabi\n",
      "Processing Record 30 of Set 5 | Tūkrah\n",
      "Processing Record 31 of Set 5 | Bathsheba\n",
      "City not found. Skipping...\n",
      "City not found. Skipping...\n",
      "Processing Record 32 of Set 5 | Dinguiraye\n",
      "Processing Record 33 of Set 5 | Hofn\n",
      "Processing Record 34 of Set 5 | Batemans Bay\n",
      "Processing Record 35 of Set 5 | Sarangani\n",
      "Processing Record 36 of Set 5 | Pisco\n",
      "Processing Record 37 of Set 5 | Katherine\n",
      "City not found. Skipping...\n",
      "Processing Record 38 of Set 5 | Meïganga\n",
      "Processing Record 39 of Set 5 | Bereda\n",
      "Processing Record 40 of Set 5 | Rianxo\n",
      "Processing Record 41 of Set 5 | Oddur\n",
      "Processing Record 42 of Set 5 | Punta de Bombón\n",
      "Processing Record 43 of Set 5 | Lagoa\n",
      "Processing Record 44 of Set 5 | Luau\n",
      "Processing Record 45 of Set 5 | Broome\n",
      "Processing Record 46 of Set 5 | Phan Thiet\n",
      "Processing Record 47 of Set 5 | Tuatapere\n",
      "Processing Record 48 of Set 5 | Souillac\n",
      "Processing Record 49 of Set 5 | Saint-Pierre\n",
      "Processing Record 50 of Set 5 | Anloga\n",
      "Processing Record 0 of Set 6 | Chapais\n",
      "Processing Record 1 of Set 6 | Berlevåg\n",
      "Processing Record 2 of Set 6 | Presidencia Roque Sáenz Peña\n",
      "Processing Record 3 of Set 6 | Sabzawār\n",
      "Processing Record 4 of Set 6 | Cap Malheureux\n",
      "Processing Record 5 of Set 6 | Port Hardy\n",
      "Processing Record 6 of Set 6 | Nikolskoye\n",
      "City not found. Skipping...\n",
      "Processing Record 7 of Set 6 | Belmonte\n",
      "Processing Record 8 of Set 6 | Sechura\n",
      "Processing Record 9 of Set 6 | Severo-Kuril'sk\n",
      "Processing Record 10 of Set 6 | Antalaha\n",
      "Processing Record 11 of Set 6 | Kemijärvi\n",
      "Processing Record 12 of Set 6 | Río Gallegos\n",
      "Processing Record 13 of Set 6 | Moroni\n",
      "Processing Record 14 of Set 6 | Santos Dumont\n",
      "Processing Record 15 of Set 6 | Tieling\n",
      "Processing Record 16 of Set 6 | Lithakia\n",
      "Processing Record 17 of Set 6 | Kofelē\n",
      "City not found. Skipping...\n",
      "Processing Record 18 of Set 6 | Esso\n",
      "Processing Record 19 of Set 6 | Mount Isa\n",
      "City not found. Skipping...\n",
      "Processing Record 20 of Set 6 | East London\n",
      "Processing Record 21 of Set 6 | Rocha\n",
      "Processing Record 22 of Set 6 | Comodoro Rivadavia\n",
      "Processing Record 23 of Set 6 | Soubre\n",
      "Processing Record 24 of Set 6 | Iquique\n",
      "Processing Record 25 of Set 6 | Itarema\n",
      "Processing Record 26 of Set 6 | Lerwick\n",
      "Processing Record 27 of Set 6 | Freeport\n",
      "Processing Record 28 of Set 6 | Ilulissat\n",
      "Processing Record 29 of Set 6 | Kui Buri\n",
      "Processing Record 30 of Set 6 | Maniitsoq\n",
      "Processing Record 31 of Set 6 | Nadym\n",
      "Processing Record 32 of Set 6 | Alice\n",
      "Processing Record 33 of Set 6 | Waingapu\n",
      "Processing Record 34 of Set 6 | Kushima\n",
      "Processing Record 35 of Set 6 | Chermoz\n",
      "Processing Record 36 of Set 6 | Carson City\n",
      "City not found. Skipping...\n",
      "Processing Record 37 of Set 6 | Boyolangu\n",
      "Processing Record 38 of Set 6 | Polunochnoye\n",
      "Processing Record 39 of Set 6 | Maposeni\n",
      "Processing Record 40 of Set 6 | Auki\n",
      "Processing Record 41 of Set 6 | Rawson\n",
      "Processing Record 42 of Set 6 | Praia da Vitória\n",
      "Processing Record 43 of Set 6 | Lake Shasta\n",
      "Processing Record 44 of Set 6 | Emerald\n",
      "Processing Record 45 of Set 6 | Galle\n",
      "Processing Record 46 of Set 6 | Chui\n",
      "Processing Record 47 of Set 6 | Petukhovo\n",
      "Processing Record 48 of Set 6 | Chara\n",
      "Processing Record 49 of Set 6 | Mastic Beach\n",
      "Processing Record 50 of Set 6 | Mayo\n",
      "Processing Record 0 of Set 7 | Guerrero Negro\n",
      "Processing Record 1 of Set 7 | Adré\n",
      "Processing Record 2 of Set 7 | Ust-Kuyga\n",
      "Processing Record 3 of Set 7 | Maningrida\n",
      "Processing Record 4 of Set 7 | Los Andes\n",
      "Processing Record 5 of Set 7 | Bonoua\n",
      "Processing Record 6 of Set 7 | Huarmey\n",
      "Processing Record 7 of Set 7 | Ugoofaaru\n",
      "City not found. Skipping...\n",
      "Processing Record 8 of Set 7 | Vostok\n",
      "Processing Record 9 of Set 7 | Xuzhou\n",
      "Processing Record 10 of Set 7 | Jacqueville\n",
      "Processing Record 11 of Set 7 | Porbandar\n",
      "Processing Record 12 of Set 7 | Isil'kul'\n",
      "Processing Record 13 of Set 7 | Charters Towers\n",
      "Processing Record 14 of Set 7 | Altamont\n",
      "Processing Record 15 of Set 7 | Portland\n",
      "Processing Record 16 of Set 7 | São João da Barra\n",
      "Processing Record 17 of Set 7 | Mineiros\n",
      "Processing Record 18 of Set 7 | Hellín\n",
      "City not found. Skipping...\n",
      "Processing Record 19 of Set 7 | Intipucá\n",
      "Processing Record 20 of Set 7 | Alyangula\n",
      "Processing Record 21 of Set 7 | Gizo Government Station\n",
      "Processing Record 22 of Set 7 | Vila Franca do Campo\n",
      "Processing Record 23 of Set 7 | Torbay\n",
      "Processing Record 24 of Set 7 | Baltay\n",
      "Processing Record 25 of Set 7 | Sinnamary\n",
      "Processing Record 26 of Set 7 | Camacha\n",
      "City not found. Skipping...\n",
      "Processing Record 27 of Set 7 | Manyana\n",
      "Processing Record 28 of Set 7 | Vaitape\n",
      "Processing Record 29 of Set 7 | Sura\n",
      "Processing Record 30 of Set 7 | Moscow\n",
      "Processing Record 31 of Set 7 | Bandarbeyla\n",
      "Processing Record 32 of Set 7 | Alto de La Estancia\n",
      "Processing Record 33 of Set 7 | Mount Gambier\n",
      "Processing Record 34 of Set 7 | Ahipara\n",
      "Processing Record 35 of Set 7 | San Patricio\n",
      "Processing Record 36 of Set 7 | Nelson Bay\n",
      "Processing Record 37 of Set 7 | Francavilla Fontana\n",
      "Processing Record 38 of Set 7 | Valley City\n",
      "Processing Record 39 of Set 7 | Seoul\n",
      "Processing Record 40 of Set 7 | Kinablangan\n",
      "Processing Record 41 of Set 7 | Bertoua\n",
      "Processing Record 42 of Set 7 | Fort Dodge\n",
      "Processing Record 43 of Set 7 | Dongsheng\n",
      "Processing Record 44 of Set 7 | Husavik\n",
      "Processing Record 45 of Set 7 | Qui Nhon\n",
      "Processing Record 46 of Set 7 | Lorengau\n",
      "Processing Record 47 of Set 7 | Agen\n",
      "City not found. Skipping...\n",
      "Processing Record 48 of Set 7 | Cabo San Lucas\n",
      "Processing Record 49 of Set 7 | Tarata\n",
      "Processing Record 50 of Set 7 | Hamilton\n",
      "Processing Record 0 of Set 8 | Ancud\n",
      "Processing Record 1 of Set 8 | Nuevitas\n",
      "Processing Record 2 of Set 8 | Adelaide\n",
      "Processing Record 3 of Set 8 | Upernavik\n",
      "Processing Record 4 of Set 8 | Bauchi\n",
      "City not found. Skipping...\n",
      "Processing Record 5 of Set 8 | Vallenar\n",
      "Processing Record 6 of Set 8 | Salinópolis\n",
      "City not found. Skipping...\n",
      "Processing Record 7 of Set 8 | Baykit\n",
      "Processing Record 8 of Set 8 | Znamenskoye\n",
      "Processing Record 9 of Set 8 | Ponta Delgada\n",
      "Processing Record 10 of Set 8 | Margate\n",
      "Processing Record 11 of Set 8 | Makassar\n",
      "Processing Record 12 of Set 8 | Turinsk\n",
      "Processing Record 13 of Set 8 | Jiayuguan City\n",
      "Processing Record 14 of Set 8 | Aykino\n",
      "Processing Record 15 of Set 8 | Verkhnyaya Inta\n"
     ]
    },
    {
     "name": "stdout",
     "output_type": "stream",
     "text": [
      "Processing Record 16 of Set 8 | Camocim\n",
      "Processing Record 17 of Set 8 | Lincoln\n",
      "Processing Record 18 of Set 8 | Babu\n",
      "Processing Record 19 of Set 8 | Morros\n",
      "Processing Record 20 of Set 8 | Balikpapan\n",
      "Processing Record 21 of Set 8 | Santa Lucía\n",
      "Processing Record 22 of Set 8 | Dali\n",
      "Processing Record 23 of Set 8 | Yulara\n",
      "Processing Record 24 of Set 8 | Kushmurun\n",
      "Processing Record 25 of Set 8 | Healdsburg\n",
      "Processing Record 26 of Set 8 | Sirte\n",
      "Processing Record 27 of Set 8 | Waldoboro\n",
      "Processing Record 28 of Set 8 | Raudeberg\n",
      "Processing Record 29 of Set 8 | Ossora\n",
      "Processing Record 30 of Set 8 | Mosquera\n",
      "Processing Record 31 of Set 8 | Leshan\n",
      "Processing Record 32 of Set 8 | Sault Ste. Marie\n",
      "Processing Record 33 of Set 8 | Qeshm\n",
      "City not found. Skipping...\n",
      "Processing Record 34 of Set 8 | Burla\n",
      "Processing Record 35 of Set 8 | Arlit\n",
      "Processing Record 36 of Set 8 | Mariehamn\n",
      "Processing Record 37 of Set 8 | Shar\n",
      "Processing Record 38 of Set 8 | Talnakh\n",
      "Processing Record 39 of Set 8 | Boundiali\n",
      "City not found. Skipping...\n",
      "Processing Record 40 of Set 8 | Basoko\n",
      "Processing Record 41 of Set 8 | Quatre Cocos\n",
      "Processing Record 42 of Set 8 | Marabá\n",
      "Processing Record 43 of Set 8 | Victoria Point\n",
      "Processing Record 44 of Set 8 | Jumla\n",
      "Processing Record 45 of Set 8 | Podyuga\n",
      "Processing Record 46 of Set 8 | Oussouye\n",
      "Processing Record 47 of Set 8 | Bam\n",
      "Processing Record 48 of Set 8 | Strezhevoy\n",
      "Processing Record 49 of Set 8 | Masindi\n",
      "Processing Record 50 of Set 8 | Bereket\n",
      "Processing Record 0 of Set 9 | Beïnamar\n",
      "Processing Record 1 of Set 9 | Rock Sound\n",
      "Processing Record 2 of Set 9 | Sittwe\n",
      "Processing Record 3 of Set 9 | Constitución\n",
      "Processing Record 4 of Set 9 | Maragogi\n",
      "Processing Record 5 of Set 9 | Cockburn Town\n",
      "Processing Record 6 of Set 9 | Amalfi\n",
      "Processing Record 7 of Set 9 | Samaná\n",
      "Processing Record 8 of Set 9 | Pangai\n",
      "Processing Record 9 of Set 9 | Castlemaine\n",
      "Processing Record 10 of Set 9 | Matamoros\n",
      "Processing Record 11 of Set 9 | Grindavik\n",
      "Processing Record 12 of Set 9 | Aktyubinskiy\n",
      "Processing Record 13 of Set 9 | Laguna\n",
      "Processing Record 14 of Set 9 | Esil\n",
      "Processing Record 15 of Set 9 | Lebu\n",
      "Processing Record 16 of Set 9 | Haines Junction\n",
      "Processing Record 17 of Set 9 | Amapá\n",
      "Processing Record 18 of Set 9 | Yar-Sale\n",
      "Processing Record 19 of Set 9 | Kontagora\n",
      "Processing Record 20 of Set 9 | Kamaishi\n",
      "Processing Record 21 of Set 9 | Tomatlán\n",
      "Processing Record 22 of Set 9 | Banda Aceh\n",
      "Processing Record 23 of Set 9 | Buraidah\n",
      "Processing Record 24 of Set 9 | São Félix do Xingu\n",
      "Processing Record 25 of Set 9 | Niagara Falls\n",
      "Processing Record 26 of Set 9 | Copiapó\n",
      "Processing Record 27 of Set 9 | Ekpoma\n",
      "Processing Record 28 of Set 9 | Koumac\n",
      "Processing Record 29 of Set 9 | Katsuura\n",
      "City not found. Skipping...\n",
      "Processing Record 30 of Set 9 | Birao\n",
      "Processing Record 31 of Set 9 | Lüderitz\n",
      "Processing Record 32 of Set 9 | Christchurch\n",
      "Processing Record 33 of Set 9 | Santa Maria\n",
      "Processing Record 34 of Set 9 | Noumea\n",
      "Processing Record 35 of Set 9 | Lixouri\n",
      "Processing Record 36 of Set 9 | Dmytrivka\n",
      "Processing Record 37 of Set 9 | Kulhudhuffushi\n",
      "Processing Record 38 of Set 9 | Westport\n",
      "Processing Record 39 of Set 9 | Isiolo\n",
      "City not found. Skipping...\n",
      "Processing Record 40 of Set 9 | Olafsvik\n",
      "Processing Record 41 of Set 9 | Leningradskiy\n",
      "Processing Record 42 of Set 9 | Phang Nga\n",
      "Processing Record 43 of Set 9 | Ust'ye\n",
      "Processing Record 44 of Set 9 | Tomohon\n",
      "Processing Record 45 of Set 9 | Ulaangom\n",
      "Processing Record 46 of Set 9 | Yārāda\n",
      "Processing Record 47 of Set 9 | Isangel\n",
      "Processing Record 48 of Set 9 | Cidreira\n",
      "Processing Record 49 of Set 9 | Linxia Chengguanzhen\n",
      "Processing Record 50 of Set 9 | Altay\n",
      "Processing Record 0 of Set 10 | Kargopol'\n",
      "Processing Record 1 of Set 10 | Bambous Virieux\n",
      "Processing Record 2 of Set 10 | Gorakhpur\n",
      "Processing Record 3 of Set 10 | Hobyo\n",
      "Processing Record 4 of Set 10 | Vung Tau\n",
      "Processing Record 5 of Set 10 | Agua Fría\n",
      "City not found. Skipping...\n",
      "Processing Record 6 of Set 10 | Pimenta Bueno\n",
      "Processing Record 7 of Set 10 | Ishim\n",
      "Processing Record 8 of Set 10 | Takoradze\n",
      "Processing Record 9 of Set 10 | Grójec\n",
      "Processing Record 10 of Set 10 | Hyères\n",
      "Processing Record 11 of Set 10 | Omboué\n",
      "Processing Record 12 of Set 10 | Atar\n",
      "Processing Record 13 of Set 10 | Byron Bay\n",
      "Processing Record 14 of Set 10 | Outjo\n",
      "Processing Record 15 of Set 10 | Baturaja\n",
      "Processing Record 16 of Set 10 | Teguise\n",
      "Processing Record 17 of Set 10 | Reftinskiy\n",
      "Processing Record 18 of Set 10 | Mikuni\n",
      "Processing Record 19 of Set 10 | Marystown\n",
      "Processing Record 20 of Set 10 | Varkala\n",
      "Processing Record 21 of Set 10 | Hashtrūd\n",
      "Processing Record 22 of Set 10 | Naushki\n",
      "Processing Record 23 of Set 10 | Mogadishu\n",
      "Processing Record 24 of Set 10 | Aksarka\n",
      "Processing Record 25 of Set 10 | Mikkeli\n",
      "Processing Record 26 of Set 10 | Boende\n",
      "Processing Record 27 of Set 10 | Goderich\n",
      "Processing Record 28 of Set 10 | Sunland Park\n",
      "Processing Record 29 of Set 10 | Caucayá\n",
      "Processing Record 30 of Set 10 | Cortez\n",
      "Processing Record 31 of Set 10 | Palana\n",
      "Processing Record 32 of Set 10 | Leh\n",
      "Processing Record 33 of Set 10 | Malbork\n",
      "Processing Record 34 of Set 10 | Jiancheng\n",
      "Processing Record 35 of Set 10 | Pokhara\n",
      "Processing Record 36 of Set 10 | Elmira\n",
      "City not found. Skipping...\n",
      "City not found. Skipping...\n",
      "Processing Record 37 of Set 10 | Mwinilunga\n",
      "Processing Record 38 of Set 10 | Wawa\n",
      "Processing Record 39 of Set 10 | Benghazi\n",
      "Processing Record 40 of Set 10 | Coquimbo\n",
      "Processing Record 41 of Set 10 | Coron\n",
      "Processing Record 42 of Set 10 | Corinth\n",
      "Processing Record 43 of Set 10 | Bhachāu\n",
      "Processing Record 44 of Set 10 | Hanstholm\n",
      "Processing Record 45 of Set 10 | Baharly\n",
      "Processing Record 46 of Set 10 | Mokrous\n",
      "Processing Record 47 of Set 10 | Pringsewu\n",
      "Processing Record 48 of Set 10 | Nānākuli\n",
      "Processing Record 49 of Set 10 | Arrondissement de Fontenay-le-Comte\n",
      "Processing Record 50 of Set 10 | Akom\n",
      "Processing Record 0 of Set 11 | Javorník\n",
      "Processing Record 1 of Set 11 | Zhuhai\n",
      "Processing Record 2 of Set 11 | Talā\n",
      "Processing Record 3 of Set 11 | Walajapet\n",
      "Processing Record 4 of Set 11 | Labuhan\n",
      "Processing Record 5 of Set 11 | Orotukan\n",
      "Processing Record 6 of Set 11 | Terrace\n",
      "Processing Record 7 of Set 11 | Sarkand\n",
      "Processing Record 8 of Set 11 | Yangambi\n",
      "Processing Record 9 of Set 11 | Colina\n",
      "Processing Record 10 of Set 11 | Tual\n",
      "Processing Record 11 of Set 11 | Batagay\n",
      "Processing Record 12 of Set 11 | Sabang\n",
      "Processing Record 13 of Set 11 | Coahuayana Viejo\n",
      "Processing Record 14 of Set 11 | Zyryanka\n",
      "Processing Record 15 of Set 11 | Necochea\n",
      "Processing Record 16 of Set 11 | Muş Province\n",
      "Processing Record 17 of Set 11 | Turaif\n",
      "Processing Record 18 of Set 11 | Luncaviţa\n",
      "City not found. Skipping...\n",
      "Processing Record 19 of Set 11 | Nabire\n",
      "Processing Record 20 of Set 11 | Makueni Boma\n",
      "Processing Record 21 of Set 11 | Sibolga\n",
      "Processing Record 22 of Set 11 | Kapit\n",
      "Processing Record 23 of Set 11 | Luwuk\n",
      "Processing Record 24 of Set 11 | Salalah\n",
      "Processing Record 25 of Set 11 | Zemio\n",
      "Processing Record 26 of Set 11 | Valparaíso\n",
      "Processing Record 27 of Set 11 | Taltal\n",
      "Processing Record 28 of Set 11 | Long Xuyen\n",
      "Processing Record 29 of Set 11 | Khandyga\n",
      "Processing Record 30 of Set 11 | Ampanihy\n",
      "Processing Record 31 of Set 11 | Linhares\n",
      "Processing Record 32 of Set 11 | Nanyuki\n",
      "Processing Record 33 of Set 11 | Real\n",
      "Processing Record 34 of Set 11 | Matagami\n",
      "Processing Record 35 of Set 11 | Ullapool\n",
      "Processing Record 36 of Set 11 | Grenville\n",
      "Processing Record 37 of Set 11 | Tezu\n",
      "Processing Record 38 of Set 11 | Santa Rosalía\n",
      "Processing Record 39 of Set 11 | Kahului\n",
      "City not found. Skipping...\n",
      "Processing Record 40 of Set 11 | Linhai\n",
      "Processing Record 41 of Set 11 | Bud\n",
      "Processing Record 42 of Set 11 | Kavaratti\n",
      "Processing Record 43 of Set 11 | Mumford\n",
      "Processing Record 44 of Set 11 | Muslyumovo\n",
      "Processing Record 45 of Set 11 | Tura\n",
      "Processing Record 46 of Set 11 | Warangal\n",
      "Processing Record 47 of Set 11 | Kumul\n",
      "Processing Record 48 of Set 11 | Bowmore\n",
      "Processing Record 49 of Set 11 | Aksu\n",
      "Processing Record 50 of Set 11 | Yarmouth\n",
      "Processing Record 0 of Set 12 | Lebedinyy\n",
      "Processing Record 1 of Set 12 | Alpena\n",
      "Processing Record 2 of Set 12 | Hambantota\n",
      "Processing Record 3 of Set 12 | Doctor Juan León Mallorquín\n"
     ]
    },
    {
     "name": "stdout",
     "output_type": "stream",
     "text": [
      "Processing Record 4 of Set 12 | Santa Clara\n",
      "City not found. Skipping...\n",
      "Processing Record 5 of Set 12 | Coyhaique\n",
      "Processing Record 6 of Set 12 | Bay Roberts\n",
      "Processing Record 7 of Set 12 | General Roca\n",
      "Processing Record 8 of Set 12 | Tiznit Province\n",
      "Processing Record 9 of Set 12 | Dingle\n",
      "Processing Record 10 of Set 12 | Beyneu\n",
      "Processing Record 11 of Set 12 | Lichinga\n",
      "Processing Record 12 of Set 12 | Korla\n",
      "Processing Record 13 of Set 12 | Visby\n",
      "Processing Record 14 of Set 12 | Atasū\n",
      "Processing Record 15 of Set 12 | Bellinge\n",
      "Processing Record 16 of Set 12 | Saltpond\n",
      "Processing Record 17 of Set 12 | Altenburg\n",
      "Processing Record 18 of Set 12 | Lundazi\n",
      "Processing Record 19 of Set 12 | Lázaro Cárdenas\n",
      "Processing Record 20 of Set 12 | Shahe\n",
      "Processing Record 21 of Set 12 | Diego de Almagro\n",
      "Processing Record 22 of Set 12 | Taoudenni\n",
      "Processing Record 23 of Set 12 | Bahía Blanca\n",
      "Processing Record 24 of Set 12 | Leshukonskoye\n",
      "Processing Record 25 of Set 12 | Muaná\n",
      "-----------------------------\n",
      "Data Retrieval Complete\n",
      "-----------------------------\n"
     ]
    }
   ],
   "source": [
    "#set query url and unit measuremnt type\n",
    "url = \"http://api.openweathermap.org/data/2.5/weather?\"\n",
    "units = \"imperial\"\n",
    "query_url = f\"{url}appid={weather_api_key}&units={units}&q=\"\n",
    "\n",
    "#set lists to hold df values\n",
    "name = []\n",
    "country = []\n",
    "lat = []\n",
    "lon = []\n",
    "max_temp = []\n",
    "hum = []\n",
    "clouds = []\n",
    "wind_speed = []\n",
    "date = []\n",
    "\n",
    "#set record and set count\n",
    "record = 0\n",
    "set_count = 1\n",
    "\n",
    "#format print log\n",
    "print(f\"Beginning Data Retrieval\")\n",
    "print(f\"-------------------------------\")\n",
    "\n",
    "for index, city in enumerate(cities, start = 1): \n",
    "    response = requests.get(query_url + city).json()\n",
    "    #pprint(response)\n",
    "    \n",
    "    try:\n",
    "        name.append(response[\"name\"])\n",
    "        country.append(response[\"sys\"][\"country\"])\n",
    "        lat.append(response[\"coord\"][\"lat\"])\n",
    "        lon.append(response[\"coord\"][\"lon\"])\n",
    "        max_temp.append(response[\"main\"][\"temp_max\"])\n",
    "        hum.append(response[\"main\"][\"humidity\"])\n",
    "        clouds.append(response[\"clouds\"][\"all\"])\n",
    "        wind_speed.append(response[\"wind\"][\"speed\"])\n",
    "        date.append(response[\"dt\"])       \n",
    "        city_name = response[\"name\"]\n",
    "        \n",
    "        if record > 49:\n",
    "            record = 0\n",
    "            set_count = set_count + 1\n",
    "        else:\n",
    "            record = record + 1\n",
    "            \n",
    "        print(f\"Processing Record {record} of Set {set_count} | {city_name}\")\n",
    "        \n",
    "        time.sleep(1)\n",
    "        \n",
    "    except:\n",
    "        print(f\"City not found. Skipping...\")\n",
    "    continue\n",
    "    \n",
    "print(\"-----------------------------\")\n",
    "print(\"Data Retrieval Complete\")\n",
    "print(\"-----------------------------\")"
   ]
  },
  {
   "cell_type": "markdown",
   "metadata": {},
   "source": [
    "### Convert Raw Data to DataFrame\n",
    "* Export the city data into a .csv.\n",
    "* Display the DataFrame\n"
   ]
  },
  {
   "cell_type": "code",
   "execution_count": 4,
   "metadata": {},
   "outputs": [
    {
     "data": {
      "text/html": [
       "<div>\n",
       "<style scoped>\n",
       "    .dataframe tbody tr th:only-of-type {\n",
       "        vertical-align: middle;\n",
       "    }\n",
       "\n",
       "    .dataframe tbody tr th {\n",
       "        vertical-align: top;\n",
       "    }\n",
       "\n",
       "    .dataframe thead th {\n",
       "        text-align: right;\n",
       "    }\n",
       "</style>\n",
       "<table border=\"1\" class=\"dataframe\">\n",
       "  <thead>\n",
       "    <tr style=\"text-align: right;\">\n",
       "      <th></th>\n",
       "      <th>City</th>\n",
       "      <th>Lat</th>\n",
       "      <th>Lng</th>\n",
       "      <th>Max Temp</th>\n",
       "      <th>Humidity</th>\n",
       "      <th>Cloudiness</th>\n",
       "      <th>Wind Speed</th>\n",
       "      <th>Country</th>\n",
       "      <th>Date</th>\n",
       "    </tr>\n",
       "  </thead>\n",
       "  <tbody>\n",
       "    <tr>\n",
       "      <th>0</th>\n",
       "      <td>Sørland</td>\n",
       "      <td>67.6670</td>\n",
       "      <td>12.6934</td>\n",
       "      <td>35.91</td>\n",
       "      <td>82</td>\n",
       "      <td>100</td>\n",
       "      <td>27.04</td>\n",
       "      <td>NO</td>\n",
       "      <td>1610218781</td>\n",
       "    </tr>\n",
       "    <tr>\n",
       "      <th>1</th>\n",
       "      <td>Vyshneve</td>\n",
       "      <td>50.3891</td>\n",
       "      <td>30.3705</td>\n",
       "      <td>33.01</td>\n",
       "      <td>93</td>\n",
       "      <td>90</td>\n",
       "      <td>11.18</td>\n",
       "      <td>UA</td>\n",
       "      <td>1610218782</td>\n",
       "    </tr>\n",
       "    <tr>\n",
       "      <th>2</th>\n",
       "      <td>Barrow</td>\n",
       "      <td>71.2906</td>\n",
       "      <td>-156.7887</td>\n",
       "      <td>-2.20</td>\n",
       "      <td>78</td>\n",
       "      <td>90</td>\n",
       "      <td>8.05</td>\n",
       "      <td>US</td>\n",
       "      <td>1610218541</td>\n",
       "    </tr>\n",
       "    <tr>\n",
       "      <th>3</th>\n",
       "      <td>Chernyshevskiy</td>\n",
       "      <td>63.0128</td>\n",
       "      <td>112.4714</td>\n",
       "      <td>-26.90</td>\n",
       "      <td>85</td>\n",
       "      <td>24</td>\n",
       "      <td>3.65</td>\n",
       "      <td>RU</td>\n",
       "      <td>1610218785</td>\n",
       "    </tr>\n",
       "    <tr>\n",
       "      <th>4</th>\n",
       "      <td>Puerto Ayora</td>\n",
       "      <td>-0.7393</td>\n",
       "      <td>-90.3518</td>\n",
       "      <td>84.20</td>\n",
       "      <td>58</td>\n",
       "      <td>0</td>\n",
       "      <td>17.27</td>\n",
       "      <td>EC</td>\n",
       "      <td>1610218786</td>\n",
       "    </tr>\n",
       "  </tbody>\n",
       "</table>\n",
       "</div>"
      ],
      "text/plain": [
       "             City      Lat       Lng  Max Temp  Humidity  Cloudiness  \\\n",
       "0         Sørland  67.6670   12.6934     35.91        82         100   \n",
       "1        Vyshneve  50.3891   30.3705     33.01        93          90   \n",
       "2          Barrow  71.2906 -156.7887     -2.20        78          90   \n",
       "3  Chernyshevskiy  63.0128  112.4714    -26.90        85          24   \n",
       "4    Puerto Ayora  -0.7393  -90.3518     84.20        58           0   \n",
       "\n",
       "   Wind Speed Country        Date  \n",
       "0       27.04      NO  1610218781  \n",
       "1       11.18      UA  1610218782  \n",
       "2        8.05      US  1610218541  \n",
       "3        3.65      RU  1610218785  \n",
       "4       17.27      EC  1610218786  "
      ]
     },
     "execution_count": 4,
     "metadata": {},
     "output_type": "execute_result"
    }
   ],
   "source": [
    "#create df of city weather \n",
    "city_weather = pd.DataFrame({\"City\": name,\n",
    "                             \"Lat\": lat,\n",
    "                             \"Lng\": lon,\n",
    "                             \"Max Temp\": max_temp,\n",
    "                             \"Humidity\": hum,\n",
    "                             \"Cloudiness\": clouds,\n",
    "                             \"Wind Speed\": wind_speed,\n",
    "                             \"Country\": country,\n",
    "                             \"Date\": date})\n",
    "\n",
    "#set output file and write df to a csv\n",
    "output_file = os.path.join(\"..\", \"Output_Data\", \"cities.csv\")\n",
    "\n",
    "city_weather.to_csv(output_file, index=False, header=True)\n",
    "city_weather.head()"
   ]
  },
  {
   "cell_type": "code",
   "execution_count": 5,
   "metadata": {},
   "outputs": [
    {
     "data": {
      "text/html": [
       "<div>\n",
       "<style scoped>\n",
       "    .dataframe tbody tr th:only-of-type {\n",
       "        vertical-align: middle;\n",
       "    }\n",
       "\n",
       "    .dataframe tbody tr th {\n",
       "        vertical-align: top;\n",
       "    }\n",
       "\n",
       "    .dataframe thead th {\n",
       "        text-align: right;\n",
       "    }\n",
       "</style>\n",
       "<table border=\"1\" class=\"dataframe\">\n",
       "  <thead>\n",
       "    <tr style=\"text-align: right;\">\n",
       "      <th></th>\n",
       "      <th>Lat</th>\n",
       "      <th>Lng</th>\n",
       "      <th>Max Temp</th>\n",
       "      <th>Humidity</th>\n",
       "      <th>Cloudiness</th>\n",
       "      <th>Wind Speed</th>\n",
       "      <th>Date</th>\n",
       "    </tr>\n",
       "  </thead>\n",
       "  <tbody>\n",
       "    <tr>\n",
       "      <th>count</th>\n",
       "      <td>586.000000</td>\n",
       "      <td>586.000000</td>\n",
       "      <td>586.000000</td>\n",
       "      <td>586.000000</td>\n",
       "      <td>586.000000</td>\n",
       "      <td>586.000000</td>\n",
       "      <td>5.860000e+02</td>\n",
       "    </tr>\n",
       "    <tr>\n",
       "      <th>mean</th>\n",
       "      <td>19.064050</td>\n",
       "      <td>16.582250</td>\n",
       "      <td>50.759710</td>\n",
       "      <td>71.703072</td>\n",
       "      <td>54.883959</td>\n",
       "      <td>8.072423</td>\n",
       "      <td>1.610219e+09</td>\n",
       "    </tr>\n",
       "    <tr>\n",
       "      <th>std</th>\n",
       "      <td>33.037003</td>\n",
       "      <td>87.785911</td>\n",
       "      <td>33.258013</td>\n",
       "      <td>20.863182</td>\n",
       "      <td>40.246465</td>\n",
       "      <td>5.640019</td>\n",
       "      <td>2.173951e+02</td>\n",
       "    </tr>\n",
       "    <tr>\n",
       "      <th>min</th>\n",
       "      <td>-54.800000</td>\n",
       "      <td>-179.166700</td>\n",
       "      <td>-47.200000</td>\n",
       "      <td>10.000000</td>\n",
       "      <td>0.000000</td>\n",
       "      <td>0.130000</td>\n",
       "      <td>1.610219e+09</td>\n",
       "    </tr>\n",
       "    <tr>\n",
       "      <th>25%</th>\n",
       "      <td>-7.444500</td>\n",
       "      <td>-60.241600</td>\n",
       "      <td>30.990000</td>\n",
       "      <td>59.000000</td>\n",
       "      <td>7.250000</td>\n",
       "      <td>3.860000</td>\n",
       "      <td>1.610219e+09</td>\n",
       "    </tr>\n",
       "    <tr>\n",
       "      <th>50%</th>\n",
       "      <td>21.219300</td>\n",
       "      <td>21.292150</td>\n",
       "      <td>63.475000</td>\n",
       "      <td>77.000000</td>\n",
       "      <td>73.000000</td>\n",
       "      <td>6.440000</td>\n",
       "      <td>1.610219e+09</td>\n",
       "    </tr>\n",
       "    <tr>\n",
       "      <th>75%</th>\n",
       "      <td>46.357125</td>\n",
       "      <td>88.327075</td>\n",
       "      <td>77.707500</td>\n",
       "      <td>87.000000</td>\n",
       "      <td>95.750000</td>\n",
       "      <td>11.500000</td>\n",
       "      <td>1.610219e+09</td>\n",
       "    </tr>\n",
       "    <tr>\n",
       "      <th>max</th>\n",
       "      <td>78.218600</td>\n",
       "      <td>179.316700</td>\n",
       "      <td>101.280000</td>\n",
       "      <td>100.000000</td>\n",
       "      <td>100.000000</td>\n",
       "      <td>29.930000</td>\n",
       "      <td>1.610220e+09</td>\n",
       "    </tr>\n",
       "  </tbody>\n",
       "</table>\n",
       "</div>"
      ],
      "text/plain": [
       "              Lat         Lng    Max Temp    Humidity  Cloudiness  Wind Speed  \\\n",
       "count  586.000000  586.000000  586.000000  586.000000  586.000000  586.000000   \n",
       "mean    19.064050   16.582250   50.759710   71.703072   54.883959    8.072423   \n",
       "std     33.037003   87.785911   33.258013   20.863182   40.246465    5.640019   \n",
       "min    -54.800000 -179.166700  -47.200000   10.000000    0.000000    0.130000   \n",
       "25%     -7.444500  -60.241600   30.990000   59.000000    7.250000    3.860000   \n",
       "50%     21.219300   21.292150   63.475000   77.000000   73.000000    6.440000   \n",
       "75%     46.357125   88.327075   77.707500   87.000000   95.750000   11.500000   \n",
       "max     78.218600  179.316700  101.280000  100.000000  100.000000   29.930000   \n",
       "\n",
       "               Date  \n",
       "count  5.860000e+02  \n",
       "mean   1.610219e+09  \n",
       "std    2.173951e+02  \n",
       "min    1.610219e+09  \n",
       "25%    1.610219e+09  \n",
       "50%    1.610219e+09  \n",
       "75%    1.610219e+09  \n",
       "max    1.610220e+09  "
      ]
     },
     "execution_count": 5,
     "metadata": {},
     "output_type": "execute_result"
    }
   ],
   "source": [
    "#calculate descriptive statistics \n",
    "city_weather.describe()"
   ]
  },
  {
   "cell_type": "markdown",
   "metadata": {},
   "source": [
    "## Inspect the data and remove the cities where the humidity > 100%.\n",
    "----\n",
    "Skip this step if there are no cities that have humidity > 100%. "
   ]
  },
  {
   "cell_type": "code",
   "execution_count": 6,
   "metadata": {},
   "outputs": [
    {
     "data": {
      "text/html": [
       "<div>\n",
       "<style scoped>\n",
       "    .dataframe tbody tr th:only-of-type {\n",
       "        vertical-align: middle;\n",
       "    }\n",
       "\n",
       "    .dataframe tbody tr th {\n",
       "        vertical-align: top;\n",
       "    }\n",
       "\n",
       "    .dataframe thead th {\n",
       "        text-align: right;\n",
       "    }\n",
       "</style>\n",
       "<table border=\"1\" class=\"dataframe\">\n",
       "  <thead>\n",
       "    <tr style=\"text-align: right;\">\n",
       "      <th></th>\n",
       "      <th>City</th>\n",
       "      <th>Lat</th>\n",
       "      <th>Lng</th>\n",
       "      <th>Max Temp</th>\n",
       "      <th>Humidity</th>\n",
       "      <th>Cloudiness</th>\n",
       "      <th>Wind Speed</th>\n",
       "      <th>Country</th>\n",
       "      <th>Date</th>\n",
       "    </tr>\n",
       "  </thead>\n",
       "  <tbody>\n",
       "  </tbody>\n",
       "</table>\n",
       "</div>"
      ],
      "text/plain": [
       "Empty DataFrame\n",
       "Columns: [City, Lat, Lng, Max Temp, Humidity, Cloudiness, Wind Speed, Country, Date]\n",
       "Index: []"
      ]
     },
     "execution_count": 6,
     "metadata": {},
     "output_type": "execute_result"
    }
   ],
   "source": [
    "humidity_check = city_weather.loc[city_weather[\"Humidity\"] > 100]\n",
    "humidity_check"
   ]
  },
  {
   "cell_type": "code",
   "execution_count": 7,
   "metadata": {},
   "outputs": [],
   "source": [
    "#  Get the indices of cities that have humidity over 100%.\n"
   ]
  },
  {
   "cell_type": "code",
   "execution_count": 8,
   "metadata": {},
   "outputs": [],
   "source": [
    "# Make a new DataFrame equal to the city data to drop all humidity outliers by index.\n",
    "# Passing \"inplace=False\" will make a copy of the city_data DataFrame, which we call \"clean_city_data\".\n"
   ]
  },
  {
   "cell_type": "code",
   "execution_count": null,
   "metadata": {},
   "outputs": [],
   "source": [
    "\n"
   ]
  },
  {
   "cell_type": "markdown",
   "metadata": {},
   "source": [
    "## Plotting the Data\n",
    "* Use proper labeling of the plots using plot titles (including date of analysis) and axes labels.\n",
    "* Save the plotted figures as .pngs."
   ]
  },
  {
   "cell_type": "markdown",
   "metadata": {},
   "source": [
    "## Latitude vs. Temperature Plot"
   ]
  },
  {
   "cell_type": "code",
   "execution_count": 11,
   "metadata": {
    "scrolled": false
   },
   "outputs": [
    {
     "data": {
      "image/png": "[encoded data removed]",
      "text/plain": [
       "<Figure size 432x288 with 1 Axes>"
      ]
     },
     "metadata": {
      "needs_background": "light"
     },
     "output_type": "display_data"
    }
   ],
   "source": [
    "#set variable for current date to print \n",
    "today = date.today()\n",
    "\n",
    "#plot weather data\n",
    "x_values = city_weather[\"Lat\"]\n",
    "y_values = city_weather[\"Max Temp\"]\n",
    "plt.scatter(x_values, y_values, marker='o', edgecolors='black')\n",
    "plt.grid(b=True, which='major', linestyle='-')\n",
    "plt.xlabel(\"Latitude\")\n",
    "plt.ylabel(\"Max Temperature (F)\")\n",
    "plt.title(f\"City Latitude vs. Max Temperature {today}\")\n",
    "\n",
    "#save figure as png  \n",
    "plt.savefig(\"Fig1.png\", format='png')\n",
    "\n",
    "plt.show()"
   ]
  },
  {
   "cell_type": "markdown",
   "metadata": {},
   "source": [
    "This plot shows the correlation between the max temperature of cities around the world and their latitudinal location.  With 0 on the x-axis being the equator, this plot shows that the maximum temperture at locations around the equator are the warmest, and that there is a moderate negative correlation between latitude and temperature. "
   ]
  },
  {
   "cell_type": "markdown",
   "metadata": {},
   "source": [
    "## Latitude vs. Humidity Plot"
   ]
  },
  {
   "cell_type": "code",
   "execution_count": 12,
   "metadata": {},
   "outputs": [
    {
     "data": {
      "image/png": "[encoded data removed]",
      "text/plain": [
       "<Figure size 432x288 with 1 Axes>"
      ]
     },
     "metadata": {
      "needs_background": "light"
     },
     "output_type": "display_data"
    }
   ],
   "source": [
    "#plot weather data\n",
    "x_values = city_weather[\"Lat\"]\n",
    "y_values = city_weather[\"Humidity\"]\n",
    "plt.scatter(x_values, y_values, marker='o', edgecolors='black')\n",
    "plt.grid(b=True, which='major', linestyle='-')\n",
    "plt.xlabel(\"Latitude\")\n",
    "plt.ylabel(\"Humidity (%)\")\n",
    "plt.title(f\"City Latitude vs. Humidity {today}\")\n",
    "\n",
    "#save figure as png  \n",
    "plt.savefig(\"Fig2.png\", format='png')\n",
    "\n",
    "plt.show()"
   ]
  },
  {
   "cell_type": "markdown",
   "metadata": {},
   "source": [
    "This plot shows the correlation between latitudinal location of the city and their humidity level for the current day. Generally, it appears to show no real correlation between location and humidity levels.  "
   ]
  },
  {
   "cell_type": "markdown",
   "metadata": {},
   "source": [
    "## Latitude vs. Cloudiness Plot"
   ]
  },
  {
   "cell_type": "code",
   "execution_count": 13,
   "metadata": {
    "scrolled": true
   },
   "outputs": [
    {
     "data": {
      "image/png": "[encoded data removed]",
      "text/plain": [
       "<Figure size 432x288 with 1 Axes>"
      ]
     },
     "metadata": {
      "needs_background": "light"
     },
     "output_type": "display_data"
    }
   ],
   "source": [
    "#plot weather data\n",
    "x_values = city_weather[\"Lat\"]\n",
    "y_values = city_weather[\"Cloudiness\"]\n",
    "plt.scatter(x_values, y_values, marker='o', edgecolors='black')\n",
    "plt.xlabel(\"Latitude\")\n",
    "plt.ylabel(\"Cloudiness (%)\")\n",
    "plt.title(f\"City Latitude vs. Cloudiness {today}\")\n",
    "\n",
    "#save figure as png  \n",
    "plt.savefig(\"Fig3.png\", format='png')\n",
    "\n",
    "plt.show()"
   ]
  },
  {
   "cell_type": "markdown",
   "metadata": {},
   "source": [
    "This plot shows the correlation between latitudinal location of a city and the cloudiness level for the current day.  Generally, it appears to show no real correlation beteen latitude and cloudiness levels. "
   ]
  },
  {
   "cell_type": "markdown",
   "metadata": {},
   "source": [
    "## Latitude vs. Wind Speed Plot"
   ]
  },
  {
   "cell_type": "code",
   "execution_count": 14,
   "metadata": {
    "scrolled": true
   },
   "outputs": [
    {
     "data": {
      "image/png": "[encoded data removed]",
      "text/plain": [
       "<Figure size 432x288 with 1 Axes>"
      ]
     },
     "metadata": {
      "needs_background": "light"
     },
     "output_type": "display_data"
    }
   ],
   "source": [
    "#plot weather data\n",
    "x_values = city_weather[\"Lat\"]\n",
    "y_values = city_weather[\"Wind Speed\"]\n",
    "plt.scatter(x_values, y_values, marker='o', edgecolors='black')\n",
    "plt.xlabel(\"Latitude\")\n",
    "plt.ylabel(\"Wind Speed (mph)\")\n",
    "plt.title(f\"City Latitude vs. Wind Speed {today}\")\n",
    "\n",
    "#save figure as png  \n",
    "plt.savefig(\"Fig4.png\", format='png')\n",
    "\n",
    "plt.show()"
   ]
  },
  {
   "cell_type": "markdown",
   "metadata": {},
   "source": [
    "This plot shows the correlation between latitudinal location of a city and their current wind speed.  Generally, there appears to be no real correlation between location and wind speed. "
   ]
  },
  {
   "cell_type": "markdown",
   "metadata": {},
   "source": [
    "## Linear Regression"
   ]
  },
  {
   "cell_type": "code",
   "execution_count": 15,
   "metadata": {},
   "outputs": [],
   "source": [
    "north = city_weather.loc[city_weather[\"Lat\"] >= 0]\n",
    "south = city_weather.loc[city_weather[\"Lat\"] < 0]"
   ]
  },
  {
   "cell_type": "markdown",
   "metadata": {},
   "source": [
    "####  Northern Hemisphere - Max Temp vs. Latitude Linear Regression"
   ]
  },
  {
   "cell_type": "code",
   "execution_count": 16,
   "metadata": {},
   "outputs": [
    {
     "name": "stdout",
     "output_type": "stream",
     "text": [
      "The r-value is: -0.880859748755138\n"
     ]
    },
    {
     "data": {
      "image/png": "[encoded data removed]",
      "text/plain": [
       "<Figure size 432x288 with 1 Axes>"
      ]
     },
     "metadata": {
      "needs_background": "light"
     },
     "output_type": "display_data"
    }
   ],
   "source": [
    "x = north[\"Lat\"]\n",
    "y = north[\"Max Temp\"]\n",
    "corr = st.pearsonr(x, y)[0]\n",
    "print(f'The r-value is: {corr}')\n",
    "\n",
    "slp, intr, r, p, std = st.linregress(x,y)\n",
    "regress = slp * x + intr \n",
    "line = \"y =\" + str(round(slp, 2)) + \"x +\" + str(round(intr, 2))\n",
    "\n",
    "plt.scatter(x, y, marker='o')\n",
    "plt.plot(x, regress, \"r-\")\n",
    "plt.annotate(line,(5, -20), fontsize=15, color='red')\n",
    "plt.xlabel(\"Latitude\")\n",
    "plt.ylabel(\"Max Temp (F)\")\n",
    "plt.show()"
   ]
  },
  {
   "cell_type": "markdown",
   "metadata": {},
   "source": [
    "This model shows the linear regression of max temp vs. latitude in the northern hemisphere.  It shows that there is a negative correlation between latitude and temperature."
   ]
  },
  {
   "cell_type": "markdown",
   "metadata": {},
   "source": [
    "####  Southern Hemisphere - Max Temp vs. Latitude Linear Regression"
   ]
  },
  {
   "cell_type": "code",
   "execution_count": 17,
   "metadata": {},
   "outputs": [
    {
     "name": "stdout",
     "output_type": "stream",
     "text": [
      "The r-value is: 0.47915076492331676\n"
     ]
    },
    {
     "data": {
      "image/png": "[encoded data removed]",
      "text/plain": [
       "<Figure size 432x288 with 1 Axes>"
      ]
     },
     "metadata": {
      "needs_background": "light"
     },
     "output_type": "display_data"
    }
   ],
   "source": [
    "x = south[\"Lat\"]\n",
    "y = south[\"Max Temp\"]\n",
    "corr = st.pearsonr(x, y)[0]\n",
    "print(f'The r-value is: {corr}')\n",
    "\n",
    "slp, intr, r, p, std = st.linregress(x,y)\n",
    "regress = slp * x + intr \n",
    "line = \"y =\" + str(round(slp, 2)) + \"x +\" + str(round(intr, 2))\n",
    "\n",
    "plt.scatter(x, y, marker='o')\n",
    "plt.plot(x, regress, \"r-\")\n",
    "plt.annotate(line,(-55, 85), fontsize=15, color='red')\n",
    "plt.xlabel(\"Latitude\")\n",
    "plt.ylabel(\"Max Temp (F)\")\n",
    "plt.show()"
   ]
  },
  {
   "cell_type": "markdown",
   "metadata": {},
   "source": [
    "This linear regression is modeling the relationship between latitude and max temp in the southern hemisphere.  It shows that there is a positive correlation. "
   ]
  },
  {
   "cell_type": "markdown",
   "metadata": {},
   "source": [
    "####  Northern Hemisphere - Humidity (%) vs. Latitude Linear Regression"
   ]
  },
  {
   "cell_type": "code",
   "execution_count": 18,
   "metadata": {
    "scrolled": true
   },
   "outputs": [
    {
     "name": "stdout",
     "output_type": "stream",
     "text": [
      "The r-value is: 0.3687846557490754\n"
     ]
    },
    {
     "data": {
      "image/png": "[encoded data removed]",
      "text/plain": [
       "<Figure size 432x288 with 1 Axes>"
      ]
     },
     "metadata": {
      "needs_background": "light"
     },
     "output_type": "display_data"
    }
   ],
   "source": [
    "x = north[\"Lat\"]\n",
    "y = north[\"Humidity\"]\n",
    "corr = st.pearsonr(x, y)[0]\n",
    "print(f'The r-value is: {corr}')\n",
    "\n",
    "slp, intr, r, p, std = st.linregress(x,y)\n",
    "regress = slp * x + intr \n",
    "line = \"y =\" + str(round(slp, 2)) + \"x +\" + str(round(intr, 2))\n",
    "\n",
    "plt.scatter(x, y, marker='o')\n",
    "plt.plot(x, regress, \"r-\")\n",
    "plt.annotate(line,(50, 30), fontsize=15, color='red')\n",
    "plt.xlabel(\"Latitude\")\n",
    "plt.ylabel(\"Humidity (%)\")\n",
    "plt.show()"
   ]
  },
  {
   "cell_type": "markdown",
   "metadata": {},
   "source": [
    "####  Southern Hemisphere - Humidity (%) vs. Latitude Linear Regression"
   ]
  },
  {
   "cell_type": "code",
   "execution_count": 19,
   "metadata": {},
   "outputs": [
    {
     "name": "stdout",
     "output_type": "stream",
     "text": [
      "The r-value is: 0.2533841237873211\n"
     ]
    },
    {
     "data": {
      "image/png": "[encoded data removed]",
      "text/plain": [
       "<Figure size 432x288 with 1 Axes>"
      ]
     },
     "metadata": {
      "needs_background": "light"
     },
     "output_type": "display_data"
    }
   ],
   "source": [
    "x = south[\"Lat\"]\n",
    "y = south[\"Humidity\"]\n",
    "corr = st.pearsonr(x, y)[0]\n",
    "print(f'The r-value is: {corr}')\n",
    "\n",
    "slp, intr, r, p, std = st.linregress(x,y)\n",
    "regress = slp * x + intr \n",
    "line = \"y =\" + str(round(slp, 2)) + \"x +\" + str(round(intr, 2))\n",
    "\n",
    "plt.scatter(x, y, marker='o')\n",
    "plt.plot(x, regress, \"r-\")\n",
    "plt.annotate(line,(-55, 20), fontsize=13, color='red')\n",
    "plt.xlabel(\"Latitude\")\n",
    "plt.ylabel(\"Humidity (%)\")\n",
    "plt.show()"
   ]
  },
  {
   "cell_type": "markdown",
   "metadata": {},
   "source": [
    "####  Northern Hemisphere - Cloudiness (%) vs. Latitude Linear Regression"
   ]
  },
  {
   "cell_type": "code",
   "execution_count": 20,
   "metadata": {},
   "outputs": [
    {
     "name": "stdout",
     "output_type": "stream",
     "text": [
      "The r-value is: 0.29868725157441545\n"
     ]
    },
    {
     "data": {
      "image/png": "[encoded data removed]",
      "text/plain": [
       "<Figure size 432x288 with 1 Axes>"
      ]
     },
     "metadata": {
      "needs_background": "light"
     },
     "output_type": "display_data"
    }
   ],
   "source": [
    "x = north[\"Lat\"]\n",
    "y = north[\"Cloudiness\"]\n",
    "corr = st.pearsonr(x, y)[0]\n",
    "print(f'The r-value is: {corr}')\n",
    "\n",
    "slp, intr, r, p, std = st.linregress(x,y)\n",
    "regress = slp * x + intr \n",
    "line = \"y =\" + str(round(slp, 2)) + \"x +\" + str(round(intr, 2))\n",
    "\n",
    "plt.scatter(x, y, marker='o')\n",
    "plt.plot(x, regress, \"r-\")\n",
    "plt.annotate(line,(15, 30), fontsize=13, color='red')\n",
    "plt.xlabel(\"Latitude\")\n",
    "plt.ylabel(\"Cloudiness (%)\")\n",
    "plt.show()"
   ]
  },
  {
   "cell_type": "markdown",
   "metadata": {},
   "source": [
    "####  Southern Hemisphere - Cloudiness (%) vs. Latitude Linear Regression"
   ]
  },
  {
   "cell_type": "code",
   "execution_count": 21,
   "metadata": {},
   "outputs": [
    {
     "name": "stdout",
     "output_type": "stream",
     "text": [
      "The r-value is: 0.2055966121751287\n"
     ]
    },
    {
     "data": {
      "image/png": "[encoded data removed]",
      "text/plain": [
       "<Figure size 432x288 with 1 Axes>"
      ]
     },
     "metadata": {
      "needs_background": "light"
     },
     "output_type": "display_data"
    }
   ],
   "source": [
    "x = south[\"Lat\"]\n",
    "y = south[\"Cloudiness\"]\n",
    "corr = st.pearsonr(x, y)[0]\n",
    "print(f'The r-value is: {corr}')\n",
    "\n",
    "slp, intr, r, p, std = st.linregress(x,y)\n",
    "regress = slp * x + intr \n",
    "line = \"y =\" + str(round(slp, 2)) + \"x +\" + str(round(intr, 2))\n",
    "\n",
    "plt.scatter(x, y, marker='o')\n",
    "plt.plot(x, regress, \"r-\")\n",
    "plt.annotate(line,(-55, 20), fontsize=13, color='red')\n",
    "plt.xlabel(\"Latitude\")\n",
    "plt.ylabel(\"Cloudiness (%)\")\n",
    "plt.show()"
   ]
  },
  {
   "cell_type": "markdown",
   "metadata": {},
   "source": [
    "####  Northern Hemisphere - Wind Speed (mph) vs. Latitude Linear Regression"
   ]
  },
  {
   "cell_type": "code",
   "execution_count": 22,
   "metadata": {},
   "outputs": [
    {
     "name": "stdout",
     "output_type": "stream",
     "text": [
      "The r-value is: 0.004169011798986988\n"
     ]
    },
    {
     "data": {
      "image/png": "[encoded data removed]",
      "text/plain": [
       "<Figure size 432x288 with 1 Axes>"
      ]
     },
     "metadata": {
      "needs_background": "light"
     },
     "output_type": "display_data"
    }
   ],
   "source": [
    "x = north[\"Lat\"]\n",
    "y = north[\"Wind Speed\"]\n",
    "corr = st.pearsonr(x, y)[0]\n",
    "print(f'The r-value is: {corr}')\n",
    "\n",
    "slp, intr, r, p, std = st.linregress(x,y)\n",
    "regress = slp * x + intr \n",
    "line = \"y =\" + str(round(slp, 2)) + \"x +\" + str(round(intr, 2))\n",
    "\n",
    "plt.scatter(x, y, marker='o')\n",
    "plt.plot(x, regress, \"r-\")\n",
    "plt.annotate(line,(0, 27), fontsize=13, color='red')\n",
    "plt.xlabel(\"Latitude\")\n",
    "plt.ylabel(\"Wind Speed (mph)\")\n",
    "plt.show()"
   ]
  },
  {
   "cell_type": "markdown",
   "metadata": {},
   "source": [
    "####  Southern Hemisphere - Wind Speed (mph) vs. Latitude Linear Regression"
   ]
  },
  {
   "cell_type": "code",
   "execution_count": 23,
   "metadata": {},
   "outputs": [
    {
     "name": "stdout",
     "output_type": "stream",
     "text": [
      "The r-value is: -0.11011173543268883\n"
     ]
    },
    {
     "data": {
      "image/png": "[encoded data removed]",
      "text/plain": [
       "<Figure size 432x288 with 1 Axes>"
      ]
     },
     "metadata": {
      "needs_background": "light"
     },
     "output_type": "display_data"
    }
   ],
   "source": [
    "x = south[\"Lat\"]\n",
    "y = south[\"Wind Speed\"]\n",
    "corr = st.pearsonr(x, y)[0]\n",
    "print(f'The r-value is: {corr}')\n",
    "\n",
    "slp, intr, r, p, std = st.linregress(x,y)\n",
    "regress = slp * x + intr \n",
    "line = \"y =\" + str(round(slp, 2)) + \"x +\" + str(round(intr, 2))\n",
    "\n",
    "plt.scatter(x, y, marker='o')\n",
    "plt.plot(x, regress, \"r-\")\n",
    "plt.annotate(line,(-55, 27), fontsize=13, color='red')\n",
    "plt.xlabel(\"Latitude\")\n",
    "plt.ylabel(\"Wind Speed (mph)\")\n",
    "plt.show()"
   ]
  },
  {
   "cell_type": "markdown",
   "metadata": {},
   "source": []
  }
 ],
 "metadata": {
  "anaconda-cloud": {},
  "kernel_info": {
   "name": "python3"
  },
  "kernelspec": {
   "display_name": "Python 3",
   "language": "python",
   "name": "python3"
  },
  "language_info": {
   "codemirror_mode": {
    "name": "ipython",
    "version": 3
   },
   "file_extension": ".py",
   "mimetype": "text/x-python",
   "name": "python",
   "nbconvert_exporter": "python",
   "pygments_lexer": "ipython3",
   "version": "3.8.3"
  },
  "latex_envs": {
   "LaTeX_envs_menu_present": true,
   "autoclose": false,
   "autocomplete": true,
   "bibliofile": "biblio.bib",
   "cite_by": "apalike",
   "current_citInitial": 1,
   "eqLabelWithNumbers": true,
   "eqNumInitial": 1,
   "hotkeys": {
    "equation": "Ctrl-E",
    "itemize": "Ctrl-I"
   },
   "labels_anchors": false,
   "latex_user_defs": false,
   "report_style_numbering": false,
   "user_envs_cfg": false
  },
  "nteract": {
   "version": "0.12.3"
  }
 },
 "nbformat": 4,
 "nbformat_minor": 2
}
